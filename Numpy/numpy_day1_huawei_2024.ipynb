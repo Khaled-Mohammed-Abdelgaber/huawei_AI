{
  "cells": [
    {
      "cell_type": "markdown",
      "metadata": {
        "id": "w3Frv1aUtw7i"
      },
      "source": [
        "### import numpy"
      ]
    },
    {
      "cell_type": "code",
      "execution_count": 1,
      "metadata": {
        "id": "304K7GOUtw7j"
      },
      "outputs": [],
      "source": [
        "import numpy as np"
      ]
    },
    {
      "cell_type": "markdown",
      "metadata": {
        "id": "a4qgCNQKtw7j"
      },
      "source": [
        "### check python and numpy version"
      ]
    },
    {
      "cell_type": "code",
      "execution_count": 2,
      "metadata": {
        "colab": {
          "base_uri": "https://localhost:8080/"
        },
        "id": "WanOInpftw7k",
        "outputId": "8206506d-8ae7-4c6d-ec8f-c398d149eacb"
      },
      "outputs": [
        {
          "output_type": "stream",
          "name": "stdout",
          "text": [
            "Python version: 3.10.12\n",
            "Numpy version: 1.26.4\n"
          ]
        }
      ],
      "source": [
        "import platform\n",
        "print('Python version: ' + platform.python_version())\n",
        "print('Numpy version: ' + np.__version__)"
      ]
    },
    {
      "cell_type": "markdown",
      "metadata": {
        "id": "lUJasW90tw7k"
      },
      "source": [
        "# 0. Numpy Data Types"
      ]
    },
    {
      "cell_type": "markdown",
      "metadata": {
        "id": "gOwzSqn9tw7k"
      },
      "source": [
        "### A list of Numpy Data Types"
      ]
    },
    {
      "cell_type": "code",
      "source": [
        "import pandas as pd\n",
        "dtypes = pd.DataFrame(\n",
        "    {\n",
        "        'Type': ['int8', 'uint8', 'int16', 'uint16', 'int32', 'uint32', 'int64', 'uint64', 'float16', 'float32', 'float64', 'float128', 'complex64', 'complex128', 'bool', 'object', 'string_', 'unicode_'],\n",
        "        'Type Code': ['i1', 'u1', 'i2', 'u2', 'i4', 'u4', 'i8', 'u8', 'f2', 'f4 or f', 'f8 or d', 'f16 or g', 'c8', 'c16', '', 'O', 'S', 'U']\n",
        "    }\n",
        ")\n",
        "\n",
        "dtypes"
      ],
      "metadata": {
        "colab": {
          "base_uri": "https://localhost:8080/",
          "height": 613
        },
        "id": "MhV8M6XHvYUb",
        "outputId": "94bbc8c8-020e-458c-f237-fc34474e4c00"
      },
      "execution_count": 7,
      "outputs": [
        {
          "output_type": "execute_result",
          "data": {
            "text/plain": [
              "          Type Type Code\n",
              "0         int8        i1\n",
              "1        uint8        u1\n",
              "2        int16        i2\n",
              "3       uint16        u2\n",
              "4        int32        i4\n",
              "5       uint32        u4\n",
              "6        int64        i8\n",
              "7       uint64        u8\n",
              "8      float16        f2\n",
              "9      float32   f4 or f\n",
              "10     float64   f8 or d\n",
              "11    float128  f16 or g\n",
              "12   complex64        c8\n",
              "13  complex128       c16\n",
              "14        bool          \n",
              "15      object         O\n",
              "16     string_         S\n",
              "17    unicode_         U"
            ],
            "text/html": [
              "\n",
              "  <div id=\"df-8f220013-e815-42cd-be8d-f1fa8fb72a32\" class=\"colab-df-container\">\n",
              "    <div>\n",
              "<style scoped>\n",
              "    .dataframe tbody tr th:only-of-type {\n",
              "        vertical-align: middle;\n",
              "    }\n",
              "\n",
              "    .dataframe tbody tr th {\n",
              "        vertical-align: top;\n",
              "    }\n",
              "\n",
              "    .dataframe thead th {\n",
              "        text-align: right;\n",
              "    }\n",
              "</style>\n",
              "<table border=\"1\" class=\"dataframe\">\n",
              "  <thead>\n",
              "    <tr style=\"text-align: right;\">\n",
              "      <th></th>\n",
              "      <th>Type</th>\n",
              "      <th>Type Code</th>\n",
              "    </tr>\n",
              "  </thead>\n",
              "  <tbody>\n",
              "    <tr>\n",
              "      <th>0</th>\n",
              "      <td>int8</td>\n",
              "      <td>i1</td>\n",
              "    </tr>\n",
              "    <tr>\n",
              "      <th>1</th>\n",
              "      <td>uint8</td>\n",
              "      <td>u1</td>\n",
              "    </tr>\n",
              "    <tr>\n",
              "      <th>2</th>\n",
              "      <td>int16</td>\n",
              "      <td>i2</td>\n",
              "    </tr>\n",
              "    <tr>\n",
              "      <th>3</th>\n",
              "      <td>uint16</td>\n",
              "      <td>u2</td>\n",
              "    </tr>\n",
              "    <tr>\n",
              "      <th>4</th>\n",
              "      <td>int32</td>\n",
              "      <td>i4</td>\n",
              "    </tr>\n",
              "    <tr>\n",
              "      <th>5</th>\n",
              "      <td>uint32</td>\n",
              "      <td>u4</td>\n",
              "    </tr>\n",
              "    <tr>\n",
              "      <th>6</th>\n",
              "      <td>int64</td>\n",
              "      <td>i8</td>\n",
              "    </tr>\n",
              "    <tr>\n",
              "      <th>7</th>\n",
              "      <td>uint64</td>\n",
              "      <td>u8</td>\n",
              "    </tr>\n",
              "    <tr>\n",
              "      <th>8</th>\n",
              "      <td>float16</td>\n",
              "      <td>f2</td>\n",
              "    </tr>\n",
              "    <tr>\n",
              "      <th>9</th>\n",
              "      <td>float32</td>\n",
              "      <td>f4 or f</td>\n",
              "    </tr>\n",
              "    <tr>\n",
              "      <th>10</th>\n",
              "      <td>float64</td>\n",
              "      <td>f8 or d</td>\n",
              "    </tr>\n",
              "    <tr>\n",
              "      <th>11</th>\n",
              "      <td>float128</td>\n",
              "      <td>f16 or g</td>\n",
              "    </tr>\n",
              "    <tr>\n",
              "      <th>12</th>\n",
              "      <td>complex64</td>\n",
              "      <td>c8</td>\n",
              "    </tr>\n",
              "    <tr>\n",
              "      <th>13</th>\n",
              "      <td>complex128</td>\n",
              "      <td>c16</td>\n",
              "    </tr>\n",
              "    <tr>\n",
              "      <th>14</th>\n",
              "      <td>bool</td>\n",
              "      <td></td>\n",
              "    </tr>\n",
              "    <tr>\n",
              "      <th>15</th>\n",
              "      <td>object</td>\n",
              "      <td>O</td>\n",
              "    </tr>\n",
              "    <tr>\n",
              "      <th>16</th>\n",
              "      <td>string_</td>\n",
              "      <td>S</td>\n",
              "    </tr>\n",
              "    <tr>\n",
              "      <th>17</th>\n",
              "      <td>unicode_</td>\n",
              "      <td>U</td>\n",
              "    </tr>\n",
              "  </tbody>\n",
              "</table>\n",
              "</div>\n",
              "    <div class=\"colab-df-buttons\">\n",
              "\n",
              "  <div class=\"colab-df-container\">\n",
              "    <button class=\"colab-df-convert\" onclick=\"convertToInteractive('df-8f220013-e815-42cd-be8d-f1fa8fb72a32')\"\n",
              "            title=\"Convert this dataframe to an interactive table.\"\n",
              "            style=\"display:none;\">\n",
              "\n",
              "  <svg xmlns=\"http://www.w3.org/2000/svg\" height=\"24px\" viewBox=\"0 -960 960 960\">\n",
              "    <path d=\"M120-120v-720h720v720H120Zm60-500h600v-160H180v160Zm220 220h160v-160H400v160Zm0 220h160v-160H400v160ZM180-400h160v-160H180v160Zm440 0h160v-160H620v160ZM180-180h160v-160H180v160Zm440 0h160v-160H620v160Z\"/>\n",
              "  </svg>\n",
              "    </button>\n",
              "\n",
              "  <style>\n",
              "    .colab-df-container {\n",
              "      display:flex;\n",
              "      gap: 12px;\n",
              "    }\n",
              "\n",
              "    .colab-df-convert {\n",
              "      background-color: #E8F0FE;\n",
              "      border: none;\n",
              "      border-radius: 50%;\n",
              "      cursor: pointer;\n",
              "      display: none;\n",
              "      fill: #1967D2;\n",
              "      height: 32px;\n",
              "      padding: 0 0 0 0;\n",
              "      width: 32px;\n",
              "    }\n",
              "\n",
              "    .colab-df-convert:hover {\n",
              "      background-color: #E2EBFA;\n",
              "      box-shadow: 0px 1px 2px rgba(60, 64, 67, 0.3), 0px 1px 3px 1px rgba(60, 64, 67, 0.15);\n",
              "      fill: #174EA6;\n",
              "    }\n",
              "\n",
              "    .colab-df-buttons div {\n",
              "      margin-bottom: 4px;\n",
              "    }\n",
              "\n",
              "    [theme=dark] .colab-df-convert {\n",
              "      background-color: #3B4455;\n",
              "      fill: #D2E3FC;\n",
              "    }\n",
              "\n",
              "    [theme=dark] .colab-df-convert:hover {\n",
              "      background-color: #434B5C;\n",
              "      box-shadow: 0px 1px 3px 1px rgba(0, 0, 0, 0.15);\n",
              "      filter: drop-shadow(0px 1px 2px rgba(0, 0, 0, 0.3));\n",
              "      fill: #FFFFFF;\n",
              "    }\n",
              "  </style>\n",
              "\n",
              "    <script>\n",
              "      const buttonEl =\n",
              "        document.querySelector('#df-8f220013-e815-42cd-be8d-f1fa8fb72a32 button.colab-df-convert');\n",
              "      buttonEl.style.display =\n",
              "        google.colab.kernel.accessAllowed ? 'block' : 'none';\n",
              "\n",
              "      async function convertToInteractive(key) {\n",
              "        const element = document.querySelector('#df-8f220013-e815-42cd-be8d-f1fa8fb72a32');\n",
              "        const dataTable =\n",
              "          await google.colab.kernel.invokeFunction('convertToInteractive',\n",
              "                                                    [key], {});\n",
              "        if (!dataTable) return;\n",
              "\n",
              "        const docLinkHtml = 'Like what you see? Visit the ' +\n",
              "          '<a target=\"_blank\" href=https://colab.research.google.com/notebooks/data_table.ipynb>data table notebook</a>'\n",
              "          + ' to learn more about interactive tables.';\n",
              "        element.innerHTML = '';\n",
              "        dataTable['output_type'] = 'display_data';\n",
              "        await google.colab.output.renderOutput(dataTable, element);\n",
              "        const docLink = document.createElement('div');\n",
              "        docLink.innerHTML = docLinkHtml;\n",
              "        element.appendChild(docLink);\n",
              "      }\n",
              "    </script>\n",
              "  </div>\n",
              "\n",
              "\n",
              "<div id=\"df-2e0d1ed7-dce9-4975-8d83-4020328b87e2\">\n",
              "  <button class=\"colab-df-quickchart\" onclick=\"quickchart('df-2e0d1ed7-dce9-4975-8d83-4020328b87e2')\"\n",
              "            title=\"Suggest charts\"\n",
              "            style=\"display:none;\">\n",
              "\n",
              "<svg xmlns=\"http://www.w3.org/2000/svg\" height=\"24px\"viewBox=\"0 0 24 24\"\n",
              "     width=\"24px\">\n",
              "    <g>\n",
              "        <path d=\"M19 3H5c-1.1 0-2 .9-2 2v14c0 1.1.9 2 2 2h14c1.1 0 2-.9 2-2V5c0-1.1-.9-2-2-2zM9 17H7v-7h2v7zm4 0h-2V7h2v10zm4 0h-2v-4h2v4z\"/>\n",
              "    </g>\n",
              "</svg>\n",
              "  </button>\n",
              "\n",
              "<style>\n",
              "  .colab-df-quickchart {\n",
              "      --bg-color: #E8F0FE;\n",
              "      --fill-color: #1967D2;\n",
              "      --hover-bg-color: #E2EBFA;\n",
              "      --hover-fill-color: #174EA6;\n",
              "      --disabled-fill-color: #AAA;\n",
              "      --disabled-bg-color: #DDD;\n",
              "  }\n",
              "\n",
              "  [theme=dark] .colab-df-quickchart {\n",
              "      --bg-color: #3B4455;\n",
              "      --fill-color: #D2E3FC;\n",
              "      --hover-bg-color: #434B5C;\n",
              "      --hover-fill-color: #FFFFFF;\n",
              "      --disabled-bg-color: #3B4455;\n",
              "      --disabled-fill-color: #666;\n",
              "  }\n",
              "\n",
              "  .colab-df-quickchart {\n",
              "    background-color: var(--bg-color);\n",
              "    border: none;\n",
              "    border-radius: 50%;\n",
              "    cursor: pointer;\n",
              "    display: none;\n",
              "    fill: var(--fill-color);\n",
              "    height: 32px;\n",
              "    padding: 0;\n",
              "    width: 32px;\n",
              "  }\n",
              "\n",
              "  .colab-df-quickchart:hover {\n",
              "    background-color: var(--hover-bg-color);\n",
              "    box-shadow: 0 1px 2px rgba(60, 64, 67, 0.3), 0 1px 3px 1px rgba(60, 64, 67, 0.15);\n",
              "    fill: var(--button-hover-fill-color);\n",
              "  }\n",
              "\n",
              "  .colab-df-quickchart-complete:disabled,\n",
              "  .colab-df-quickchart-complete:disabled:hover {\n",
              "    background-color: var(--disabled-bg-color);\n",
              "    fill: var(--disabled-fill-color);\n",
              "    box-shadow: none;\n",
              "  }\n",
              "\n",
              "  .colab-df-spinner {\n",
              "    border: 2px solid var(--fill-color);\n",
              "    border-color: transparent;\n",
              "    border-bottom-color: var(--fill-color);\n",
              "    animation:\n",
              "      spin 1s steps(1) infinite;\n",
              "  }\n",
              "\n",
              "  @keyframes spin {\n",
              "    0% {\n",
              "      border-color: transparent;\n",
              "      border-bottom-color: var(--fill-color);\n",
              "      border-left-color: var(--fill-color);\n",
              "    }\n",
              "    20% {\n",
              "      border-color: transparent;\n",
              "      border-left-color: var(--fill-color);\n",
              "      border-top-color: var(--fill-color);\n",
              "    }\n",
              "    30% {\n",
              "      border-color: transparent;\n",
              "      border-left-color: var(--fill-color);\n",
              "      border-top-color: var(--fill-color);\n",
              "      border-right-color: var(--fill-color);\n",
              "    }\n",
              "    40% {\n",
              "      border-color: transparent;\n",
              "      border-right-color: var(--fill-color);\n",
              "      border-top-color: var(--fill-color);\n",
              "    }\n",
              "    60% {\n",
              "      border-color: transparent;\n",
              "      border-right-color: var(--fill-color);\n",
              "    }\n",
              "    80% {\n",
              "      border-color: transparent;\n",
              "      border-right-color: var(--fill-color);\n",
              "      border-bottom-color: var(--fill-color);\n",
              "    }\n",
              "    90% {\n",
              "      border-color: transparent;\n",
              "      border-bottom-color: var(--fill-color);\n",
              "    }\n",
              "  }\n",
              "</style>\n",
              "\n",
              "  <script>\n",
              "    async function quickchart(key) {\n",
              "      const quickchartButtonEl =\n",
              "        document.querySelector('#' + key + ' button');\n",
              "      quickchartButtonEl.disabled = true;  // To prevent multiple clicks.\n",
              "      quickchartButtonEl.classList.add('colab-df-spinner');\n",
              "      try {\n",
              "        const charts = await google.colab.kernel.invokeFunction(\n",
              "            'suggestCharts', [key], {});\n",
              "      } catch (error) {\n",
              "        console.error('Error during call to suggestCharts:', error);\n",
              "      }\n",
              "      quickchartButtonEl.classList.remove('colab-df-spinner');\n",
              "      quickchartButtonEl.classList.add('colab-df-quickchart-complete');\n",
              "    }\n",
              "    (() => {\n",
              "      let quickchartButtonEl =\n",
              "        document.querySelector('#df-2e0d1ed7-dce9-4975-8d83-4020328b87e2 button');\n",
              "      quickchartButtonEl.style.display =\n",
              "        google.colab.kernel.accessAllowed ? 'block' : 'none';\n",
              "    })();\n",
              "  </script>\n",
              "</div>\n",
              "\n",
              "  <div id=\"id_6616bf30-a747-4405-ba22-1fba1c392e27\">\n",
              "    <style>\n",
              "      .colab-df-generate {\n",
              "        background-color: #E8F0FE;\n",
              "        border: none;\n",
              "        border-radius: 50%;\n",
              "        cursor: pointer;\n",
              "        display: none;\n",
              "        fill: #1967D2;\n",
              "        height: 32px;\n",
              "        padding: 0 0 0 0;\n",
              "        width: 32px;\n",
              "      }\n",
              "\n",
              "      .colab-df-generate:hover {\n",
              "        background-color: #E2EBFA;\n",
              "        box-shadow: 0px 1px 2px rgba(60, 64, 67, 0.3), 0px 1px 3px 1px rgba(60, 64, 67, 0.15);\n",
              "        fill: #174EA6;\n",
              "      }\n",
              "\n",
              "      [theme=dark] .colab-df-generate {\n",
              "        background-color: #3B4455;\n",
              "        fill: #D2E3FC;\n",
              "      }\n",
              "\n",
              "      [theme=dark] .colab-df-generate:hover {\n",
              "        background-color: #434B5C;\n",
              "        box-shadow: 0px 1px 3px 1px rgba(0, 0, 0, 0.15);\n",
              "        filter: drop-shadow(0px 1px 2px rgba(0, 0, 0, 0.3));\n",
              "        fill: #FFFFFF;\n",
              "      }\n",
              "    </style>\n",
              "    <button class=\"colab-df-generate\" onclick=\"generateWithVariable('dtypes')\"\n",
              "            title=\"Generate code using this dataframe.\"\n",
              "            style=\"display:none;\">\n",
              "\n",
              "  <svg xmlns=\"http://www.w3.org/2000/svg\" height=\"24px\"viewBox=\"0 0 24 24\"\n",
              "       width=\"24px\">\n",
              "    <path d=\"M7,19H8.4L18.45,9,17,7.55,7,17.6ZM5,21V16.75L18.45,3.32a2,2,0,0,1,2.83,0l1.4,1.43a1.91,1.91,0,0,1,.58,1.4,1.91,1.91,0,0,1-.58,1.4L9.25,21ZM18.45,9,17,7.55Zm-12,3A5.31,5.31,0,0,0,4.9,8.1,5.31,5.31,0,0,0,1,6.5,5.31,5.31,0,0,0,4.9,4.9,5.31,5.31,0,0,0,6.5,1,5.31,5.31,0,0,0,8.1,4.9,5.31,5.31,0,0,0,12,6.5,5.46,5.46,0,0,0,6.5,12Z\"/>\n",
              "  </svg>\n",
              "    </button>\n",
              "    <script>\n",
              "      (() => {\n",
              "      const buttonEl =\n",
              "        document.querySelector('#id_6616bf30-a747-4405-ba22-1fba1c392e27 button.colab-df-generate');\n",
              "      buttonEl.style.display =\n",
              "        google.colab.kernel.accessAllowed ? 'block' : 'none';\n",
              "\n",
              "      buttonEl.onclick = () => {\n",
              "        google.colab.notebook.generateWithVariable('dtypes');\n",
              "      }\n",
              "      })();\n",
              "    </script>\n",
              "  </div>\n",
              "\n",
              "    </div>\n",
              "  </div>\n"
            ],
            "application/vnd.google.colaboratory.intrinsic+json": {
              "type": "dataframe",
              "variable_name": "dtypes",
              "summary": "{\n  \"name\": \"dtypes\",\n  \"rows\": 18,\n  \"fields\": [\n    {\n      \"column\": \"Type\",\n      \"properties\": {\n        \"dtype\": \"string\",\n        \"num_unique_values\": 18,\n        \"samples\": [\n          \"int8\",\n          \"uint8\",\n          \"float16\"\n        ],\n        \"semantic_type\": \"\",\n        \"description\": \"\"\n      }\n    },\n    {\n      \"column\": \"Type Code\",\n      \"properties\": {\n        \"dtype\": \"string\",\n        \"num_unique_values\": 18,\n        \"samples\": [\n          \"i1\",\n          \"u1\",\n          \"f2\"\n        ],\n        \"semantic_type\": \"\",\n        \"description\": \"\"\n      }\n    }\n  ]\n}"
            }
          },
          "metadata": {},
          "execution_count": 7
        }
      ]
    },
    {
      "cell_type": "code",
      "execution_count": 9,
      "metadata": {
        "colab": {
          "base_uri": "https://localhost:8080/"
        },
        "id": "xkqyjS5ftw7l",
        "outputId": "e8894e9e-b3e7-415a-8c91-355a385b4871"
      },
      "outputs": [
        {
          "output_type": "stream",
          "name": "stdout",
          "text": [
            "[1. 2. 3.]\n",
            "float64\n",
            "[1.+2.j 3.-4.j]\n",
            "complex64\n",
            "[False  True  True]\n",
            "bool\n"
          ]
        }
      ],
      "source": [
        "# create an array with a specified data type\n",
        "arr = np.array([1,2,3], dtype='f8')\n",
        "print(arr)\n",
        "print(arr.dtype)\n",
        "\n",
        "arr = np.array([1+2j, 3-4j], dtype=\"complex64\")\n",
        "print(arr)\n",
        "print(arr.dtype)\n",
        "\n",
        "arr = np.array([0, 1, 1], dtype=\"bool\")\n",
        "print(arr)\n",
        "print(arr.dtype)"
      ]
    },
    {
      "cell_type": "markdown",
      "metadata": {
        "id": "yG0jP0aNtw7l"
      },
      "source": [
        "### string data type"
      ]
    },
    {
      "cell_type": "code",
      "execution_count": 10,
      "metadata": {
        "colab": {
          "base_uri": "https://localhost:8080/"
        },
        "id": "hMDjqqk-tw7l",
        "outputId": "06e2e09b-7959-4242-bcec-1237355b5472"
      },
      "outputs": [
        {
          "output_type": "stream",
          "name": "stdout",
          "text": [
            "[b'abc' b'def']\n",
            "|S3\n"
          ]
        }
      ],
      "source": [
        "# set the max length of the string using S + some number, such as 'S3'\n",
        "# any string longer than the max length will be truncated\n",
        "s = np.array(['abc', 'defg'], dtype='S3')\n",
        "print(s)\n",
        "print(s.dtype)"
      ]
    },
    {
      "cell_type": "markdown",
      "metadata": {
        "id": "Nv6LPr8atw7l"
      },
      "source": [
        "# 1. Create Arrays"
      ]
    },
    {
      "cell_type": "markdown",
      "metadata": {
        "id": "MrFi59PFtw7l"
      },
      "source": [
        "### create an array from a Python array"
      ]
    },
    {
      "cell_type": "code",
      "execution_count": 11,
      "metadata": {
        "colab": {
          "base_uri": "https://localhost:8080/"
        },
        "id": "ZiYnpkm6tw7l",
        "outputId": "ffd2995f-4902-4b9b-deb7-0703b6978f71"
      },
      "outputs": [
        {
          "output_type": "stream",
          "name": "stdout",
          "text": [
            "[0 1 2 3 4 5 6 7 8 9]\n"
          ]
        }
      ],
      "source": [
        "arr = np.array(range(10))\n",
        "print(arr)"
      ]
    },
    {
      "cell_type": "code",
      "execution_count": 12,
      "metadata": {
        "colab": {
          "base_uri": "https://localhost:8080/"
        },
        "id": "roXXEL31tw7m",
        "outputId": "3b935917-906d-4ce3-dfc8-53bd761ea8e1"
      },
      "outputs": [
        {
          "output_type": "stream",
          "name": "stdout",
          "text": [
            "[1 2 3 4 5]\n"
          ]
        }
      ],
      "source": [
        "arr = np.array([1,2,3,4,5])\n",
        "print(arr)"
      ]
    },
    {
      "cell_type": "markdown",
      "metadata": {
        "id": "bBiZ5D_Etw7m"
      },
      "source": [
        "### create an array in a specified data type"
      ]
    },
    {
      "cell_type": "code",
      "execution_count": 13,
      "metadata": {
        "colab": {
          "base_uri": "https://localhost:8080/"
        },
        "id": "lqJpgYa6tw7m",
        "outputId": "f49ad311-6c81-47bf-afae-49cc182a4f22"
      },
      "outputs": [
        {
          "output_type": "stream",
          "name": "stdout",
          "text": [
            "[[1 2 3]\n",
            " [4 5 6]]\n"
          ]
        }
      ],
      "source": [
        "arr = np.array([[1,2,3], [4,5,6]], dtype='i2')\n",
        "print(arr)"
      ]
    },
    {
      "cell_type": "markdown",
      "metadata": {
        "id": "TfTE2x72tw7m"
      },
      "source": [
        "### create an aray of evenly spaced values within a specified interval"
      ]
    },
    {
      "cell_type": "code",
      "execution_count": 14,
      "metadata": {
        "colab": {
          "base_uri": "https://localhost:8080/"
        },
        "id": "eYXQRVMltw7m",
        "outputId": "f7fa0d39-239d-4102-b862-5585ca288519"
      },
      "outputs": [
        {
          "output_type": "stream",
          "name": "stdout",
          "text": [
            "[ 0  2  4  6  8 10 12 14 16 18]\n"
          ]
        }
      ],
      "source": [
        "# np.arange(start, stop, step)\n",
        "arr = np.arange(0, 20, 2)\n",
        "print(arr)"
      ]
    },
    {
      "cell_type": "markdown",
      "metadata": {
        "id": "GZg0kY3rtw7m"
      },
      "source": [
        "### create an array of evenly spaced numbers in a specified interval"
      ]
    },
    {
      "cell_type": "code",
      "execution_count": null,
      "metadata": {
        "id": "xiVl5QsMtw7n",
        "outputId": "cb9a6cf5-22fc-4cd1-c334-da35b0277112"
      },
      "outputs": [
        {
          "name": "stdout",
          "output_type": "stream",
          "text": [
            "[ 0.          0.52631579  1.05263158  1.57894737  2.10526316  2.63157895\n",
            "  3.15789474  3.68421053  4.21052632  4.73684211  5.26315789  5.78947368\n",
            "  6.31578947  6.84210526  7.36842105  7.89473684  8.42105263  8.94736842\n",
            "  9.47368421 10.        ]\n"
          ]
        }
      ],
      "source": [
        "# np.linspace(start, stop, num_of_elements, endpoint=True, retstep=False)\n",
        "\n",
        "\"\"\"\n",
        "Parameters:\n",
        "start:\n",
        "  The starting value of the sequence.\n",
        "stop:\n",
        "  The end value of the sequence. This value is included in the output if endpoint=True (the default).\n",
        "\n",
        "num_of_elements:\n",
        "  The number of evenly spaced samples to generate. This is an integer value that specifies how many values to include between start and stop.\n",
        "\n",
        "endpoint:\n",
        "  A boolean value (default is True).\n",
        "  If True, stop is the last value in the sequence. If False, the sequence ends before stop.\n",
        "\n",
        "retstep:\n",
        "  A boolean value (default is False).\n",
        "  If True, the function returns a tuple with the array of values and the step size between values.\n",
        "  \"\"\"\n",
        "arr = np.linspace(0, 10, 20)\n",
        "print(arr)"
      ]
    },
    {
      "cell_type": "code",
      "execution_count": 15,
      "metadata": {
        "colab": {
          "base_uri": "https://localhost:8080/"
        },
        "id": "viK89NAPtw7n",
        "outputId": "a8e66231-514a-4b6c-9bae-0cdb27d5b9ff"
      },
      "outputs": [
        {
          "output_type": "stream",
          "name": "stdout",
          "text": [
            "[0.  0.5 1.  1.5 2.  2.5 3.  3.5 4.  4.5 5.  5.5 6.  6.5 7.  7.5 8.  8.5\n",
            " 9.  9.5]\n",
            "0.5\n"
          ]
        }
      ],
      "source": [
        "# exclude endpoint and return setp size\n",
        "arr, step = np.linspace(0, 10, 20, endpoint=False, retstep=True)\n",
        "print(arr)\n",
        "print(step)"
      ]
    },
    {
      "cell_type": "markdown",
      "metadata": {
        "id": "uwZNfzpUtw7n"
      },
      "source": [
        "### create an array of random values in a given shape"
      ]
    },
    {
      "cell_type": "code",
      "execution_count": 16,
      "metadata": {
        "colab": {
          "base_uri": "https://localhost:8080/"
        },
        "id": "BY_SZTOEtw7n",
        "outputId": "970c9cab-54e1-4094-f96c-856b015a4e5f"
      },
      "outputs": [
        {
          "output_type": "stream",
          "name": "stdout",
          "text": [
            "[[0.01996959 0.99926209 0.65039642]\n",
            " [0.89971804 0.09000168 0.8837737 ]\n",
            " [0.74689476 0.62877156 0.8082318 ]]\n"
          ]
        }
      ],
      "source": [
        "arr = np.random.rand(3, 3)\n",
        "print(arr)"
      ]
    },
    {
      "cell_type": "markdown",
      "metadata": {
        "id": "mGf0dQ_rtw7n"
      },
      "source": [
        "### create an array of zeros in a given shape"
      ]
    },
    {
      "cell_type": "code",
      "execution_count": 17,
      "metadata": {
        "colab": {
          "base_uri": "https://localhost:8080/"
        },
        "id": "s-ZE-kjHtw7n",
        "outputId": "fe4bd38c-58ac-4bdd-cee1-7520a14195c9"
      },
      "outputs": [
        {
          "output_type": "stream",
          "name": "stdout",
          "text": [
            "[[0 0 0]\n",
            " [0 0 0]]\n"
          ]
        }
      ],
      "source": [
        "zeros = np.zeros((2,3), dtype='i4')\n",
        "print(zeros)"
      ]
    },
    {
      "cell_type": "markdown",
      "metadata": {
        "id": "IgoWVouqtw7n"
      },
      "source": [
        "### create an array of zeros with the same shape and data type as a given array"
      ]
    },
    {
      "cell_type": "code",
      "execution_count": 18,
      "metadata": {
        "colab": {
          "base_uri": "https://localhost:8080/"
        },
        "id": "1VmYRg1rtw7n",
        "outputId": "995ac85c-1d44-45f5-ae25-07ecea95d8e4"
      },
      "outputs": [
        {
          "output_type": "stream",
          "name": "stdout",
          "text": [
            "[[0. 0. 0.]\n",
            " [0. 0. 0.]\n",
            " [0. 0. 0.]]\n"
          ]
        }
      ],
      "source": [
        "zeros = np.zeros_like(arr)\n",
        "print(zeros)"
      ]
    },
    {
      "cell_type": "markdown",
      "metadata": {
        "id": "hN6k5sEmtw7n"
      },
      "source": [
        "### create an array of ones in a given shape"
      ]
    },
    {
      "cell_type": "code",
      "execution_count": 19,
      "metadata": {
        "colab": {
          "base_uri": "https://localhost:8080/"
        },
        "id": "KuMXkXaWtw7o",
        "outputId": "3e3083d8-8296-4103-a94e-0a4044cb9e41"
      },
      "outputs": [
        {
          "output_type": "stream",
          "name": "stdout",
          "text": [
            "[[1. 1. 1.]\n",
            " [1. 1. 1.]]\n"
          ]
        }
      ],
      "source": [
        "ones = np.ones((2,3))\n",
        "print(ones)"
      ]
    },
    {
      "cell_type": "markdown",
      "metadata": {
        "id": "8n2WDMWBtw7o"
      },
      "source": [
        "### create an array of ones with the same shape and data type as a given array"
      ]
    },
    {
      "cell_type": "code",
      "execution_count": 20,
      "metadata": {
        "colab": {
          "base_uri": "https://localhost:8080/"
        },
        "id": "b0JXvHtttw7o",
        "outputId": "fef5aa96-2b80-4d57-fe3a-2b41e826d0d8"
      },
      "outputs": [
        {
          "output_type": "stream",
          "name": "stdout",
          "text": [
            "[[1. 1. 1.]\n",
            " [1. 1. 1.]\n",
            " [1. 1. 1.]]\n"
          ]
        }
      ],
      "source": [
        "ones = np.ones_like(arr)\n",
        "print(ones)"
      ]
    },
    {
      "cell_type": "markdown",
      "metadata": {
        "id": "TmBCRFtLtw7o"
      },
      "source": [
        "### create an array of arbitrary values in a given shape"
      ]
    },
    {
      "cell_type": "code",
      "execution_count": 21,
      "metadata": {
        "colab": {
          "base_uri": "https://localhost:8080/"
        },
        "id": "3j3sAuvUtw7o",
        "outputId": "76cd52b1-9615-42b1-de3d-edfb591f8b4e"
      },
      "outputs": [
        {
          "output_type": "stream",
          "name": "stdout",
          "text": [
            "[[1. 1. 1.]\n",
            " [1. 1. 1.]]\n"
          ]
        }
      ],
      "source": [
        "empty = np.empty((2,3))\n",
        "print(empty)"
      ]
    },
    {
      "cell_type": "markdown",
      "metadata": {
        "id": "_CGnFDD2tw7o"
      },
      "source": [
        "### create an array of arbitrary values with the same shape and data type as a given array"
      ]
    },
    {
      "cell_type": "code",
      "execution_count": 22,
      "metadata": {
        "colab": {
          "base_uri": "https://localhost:8080/"
        },
        "id": "NhzAmW5htw7o",
        "outputId": "4f86fbb7-3bcc-4c31-ef98-73c44b7fd586"
      },
      "outputs": [
        {
          "output_type": "stream",
          "name": "stdout",
          "text": [
            "[[1. 1. 1.]\n",
            " [1. 1. 1.]\n",
            " [1. 1. 1.]]\n"
          ]
        }
      ],
      "source": [
        "empty = np.empty_like(arr)\n",
        "print(empty)"
      ]
    },
    {
      "cell_type": "markdown",
      "metadata": {
        "id": "vAzXDXK6tw7o"
      },
      "source": [
        "### create an array of constant values in a given shape  "
      ]
    },
    {
      "cell_type": "code",
      "execution_count": 23,
      "metadata": {
        "colab": {
          "base_uri": "https://localhost:8080/"
        },
        "id": "UGDrbwlYtw7o",
        "outputId": "f5e124d8-0948-4b19-8b23-b4a7af83e1d0"
      },
      "outputs": [
        {
          "output_type": "stream",
          "name": "stdout",
          "text": [
            "[[5 5 5]\n",
            " [5 5 5]]\n"
          ]
        }
      ],
      "source": [
        "p = np.full((2,3), 5)\n",
        "print(p)"
      ]
    },
    {
      "cell_type": "markdown",
      "metadata": {
        "id": "PrZVEG2Stw7v"
      },
      "source": [
        "### create an array of constant values with the same shape and data type as a given array"
      ]
    },
    {
      "cell_type": "code",
      "execution_count": 24,
      "metadata": {
        "colab": {
          "base_uri": "https://localhost:8080/"
        },
        "id": "pB0wGCOutw7v",
        "outputId": "99fafc4c-fc20-470d-de81-49817eef2599"
      },
      "outputs": [
        {
          "output_type": "stream",
          "name": "stdout",
          "text": [
            "[[5. 5. 5.]\n",
            " [5. 5. 5.]\n",
            " [5. 5. 5.]]\n"
          ]
        }
      ],
      "source": [
        "p = np.full_like(arr, 5)\n",
        "print(p)"
      ]
    },
    {
      "cell_type": "markdown",
      "metadata": {
        "id": "OA6du6qCtw7v"
      },
      "source": [
        "### create an array by repetition"
      ]
    },
    {
      "cell_type": "code",
      "execution_count": 31,
      "metadata": {
        "colab": {
          "base_uri": "https://localhost:8080/"
        },
        "id": "kh1X_5r7tw7w",
        "outputId": "828d607d-f19e-4e8c-9440-2078658aae61"
      },
      "outputs": [
        {
          "output_type": "stream",
          "name": "stdout",
          "text": [
            "[0 0 0 1 1 1 2 2 2]\n"
          ]
        }
      ],
      "source": [
        "# repeat each element of an array by a specified number of times\n",
        "# np.repeat(iterable, reps, axis=None)\n",
        "arr = [0, 1, 2]\n",
        "print(np.repeat(arr, 3))    # or np.repeat(range(3), 3)"
      ]
    },
    {
      "cell_type": "code",
      "execution_count": 36,
      "metadata": {
        "colab": {
          "base_uri": "https://localhost:8080/"
        },
        "id": "-AhzhZr_tw7w",
        "outputId": "0946c488-7cf8-46d7-c077-79a221c32fd2"
      },
      "outputs": [
        {
          "output_type": "stream",
          "name": "stdout",
          "text": [
            "[[1 2]\n",
            " [3 4]\n",
            " [3 4]\n",
            " [6 5]\n",
            " [6 5]\n",
            " [6 5]]\n"
          ]
        }
      ],
      "source": [
        "# repeat along a specified axis with specified number of repetitions\n",
        "arr = [[1,2], [3,4], [6,5]]\n",
        "print(np.repeat(arr, [1,2,3], axis=0))"
      ]
    },
    {
      "cell_type": "code",
      "execution_count": 37,
      "metadata": {
        "colab": {
          "base_uri": "https://localhost:8080/"
        },
        "id": "jh_nG_UCtw7w",
        "outputId": "160a357d-5904-45d3-d141-988de816bc5d"
      },
      "outputs": [
        {
          "output_type": "stream",
          "name": "stdout",
          "text": [
            "[0 1 2 0 1 2 0 1 2]\n"
          ]
        }
      ],
      "source": [
        "# repeat an array by a specified number of times\n",
        "arr = [0, 1, 2]\n",
        "print(np.tile(arr, 3))"
      ]
    },
    {
      "cell_type": "code",
      "execution_count": 38,
      "metadata": {
        "colab": {
          "base_uri": "https://localhost:8080/"
        },
        "id": "emytmoiptw7w",
        "outputId": "16dd4d8b-7bee-4943-f2c7-45ae41bd4f83"
      },
      "outputs": [
        {
          "output_type": "stream",
          "name": "stdout",
          "text": [
            "[[0 1 2 0 1 2 0 1 2]\n",
            " [0 1 2 0 1 2 0 1 2]]\n"
          ]
        }
      ],
      "source": [
        "# repeat along specified axes\n",
        "print(np.tile(arr, (2,3)))"
      ]
    },
    {
      "cell_type": "markdown",
      "metadata": {
        "id": "NgcT-aOztw7w"
      },
      "source": [
        "### create an identity matrix with a given diagonal size"
      ]
    },
    {
      "cell_type": "code",
      "execution_count": 39,
      "metadata": {
        "colab": {
          "base_uri": "https://localhost:8080/"
        },
        "id": "oK47Ojiqtw7w",
        "outputId": "dc231200-c3e3-48cf-dff5-3d3264951520"
      },
      "outputs": [
        {
          "output_type": "stream",
          "name": "stdout",
          "text": [
            "[[1. 0. 0.]\n",
            " [0. 1. 0.]\n",
            " [0. 0. 1.]]\n"
          ]
        }
      ],
      "source": [
        "identity_matrix = np.eye(3)\n",
        "print(identity_matrix)"
      ]
    },
    {
      "cell_type": "code",
      "source": [
        "# Create a 3x4 matrix with ones on the main diagonal\n",
        "eye_matrix = np.eye(3, 4)\n",
        "print(eye_matrix)"
      ],
      "metadata": {
        "colab": {
          "base_uri": "https://localhost:8080/"
        },
        "id": "PDZnejUUxZbV",
        "outputId": "5f34835a-2ae6-4f85-c7f5-8268b5bbd4c3"
      },
      "execution_count": 41,
      "outputs": [
        {
          "output_type": "stream",
          "name": "stdout",
          "text": [
            "[[1. 0. 0. 0.]\n",
            " [0. 1. 0. 0.]\n",
            " [0. 0. 1. 0.]]\n"
          ]
        }
      ]
    },
    {
      "cell_type": "code",
      "execution_count": 40,
      "metadata": {
        "colab": {
          "base_uri": "https://localhost:8080/"
        },
        "id": "xZAeFM2Ktw7w",
        "outputId": "aa534cde-8206-44c0-8261-cc9e3803e011"
      },
      "outputs": [
        {
          "output_type": "stream",
          "name": "stdout",
          "text": [
            "[[1. 0. 0.]\n",
            " [0. 1. 0.]\n",
            " [0. 0. 1.]]\n"
          ]
        }
      ],
      "source": [
        "identity_matrix = np.identity(3)\n",
        "print(identity_matrix)"
      ]
    },
    {
      "cell_type": "markdown",
      "metadata": {
        "id": "CMc1TdXJtw7w"
      },
      "source": [
        "### create an identity matrix with a diagonal offset"
      ]
    },
    {
      "cell_type": "code",
      "execution_count": 42,
      "metadata": {
        "colab": {
          "base_uri": "https://localhost:8080/"
        },
        "id": "8E_319Ddtw7w",
        "outputId": "33dc2832-a03c-4dbe-8649-1449d8c22799"
      },
      "outputs": [
        {
          "output_type": "stream",
          "name": "stdout",
          "text": [
            "[[0. 1. 0. 0. 0.]\n",
            " [0. 0. 1. 0. 0.]\n",
            " [0. 0. 0. 1. 0.]\n",
            " [0. 0. 0. 0. 1.]\n",
            " [0. 0. 0. 0. 0.]]\n"
          ]
        }
      ],
      "source": [
        "identity_matrix = np.eye(5, k=1)    # positive number shifts the diagonal upward\n",
        "print(identity_matrix)"
      ]
    },
    {
      "cell_type": "code",
      "execution_count": 43,
      "metadata": {
        "colab": {
          "base_uri": "https://localhost:8080/"
        },
        "id": "Wf4y76uctw7x",
        "outputId": "3aa20ca3-2639-4dac-b647-0723bc5efdd8"
      },
      "outputs": [
        {
          "output_type": "stream",
          "name": "stdout",
          "text": [
            "[[0. 0. 0. 0. 0.]\n",
            " [0. 0. 0. 0. 0.]\n",
            " [1. 0. 0. 0. 0.]\n",
            " [0. 1. 0. 0. 0.]\n",
            " [0. 0. 1. 0. 0.]]\n"
          ]
        }
      ],
      "source": [
        "identity_matrix = np.eye(5, k=-2)   # negative number shifts the diagonal downward\n",
        "print(identity_matrix)"
      ]
    },
    {
      "cell_type": "markdown",
      "metadata": {
        "id": "_YCj-pDltw7x"
      },
      "source": [
        "### extract the diagonal array / create a diagonal array"
      ]
    },
    {
      "cell_type": "code",
      "execution_count": 44,
      "metadata": {
        "colab": {
          "base_uri": "https://localhost:8080/"
        },
        "id": "npdVbwIitw7x",
        "outputId": "51b6bc26-e17c-484f-87e4-8e8f50381e17"
      },
      "outputs": [
        {
          "output_type": "stream",
          "name": "stdout",
          "text": [
            "[[0.15108479 0.30063728 0.38282016 0.19254983 0.77364159]\n",
            " [0.5739463  0.59060596 0.65072608 0.0921168  0.63252727]\n",
            " [0.87102904 0.86527627 0.49220555 0.42403043 0.42073796]\n",
            " [0.91718417 0.50322167 0.50338281 0.28360764 0.2585825 ]\n",
            " [0.60024569 0.52543555 0.98792247 0.56324477 0.36619883]]\n"
          ]
        }
      ],
      "source": [
        "arr = np.random.rand(5,5)\n",
        "print(arr)"
      ]
    },
    {
      "cell_type": "code",
      "execution_count": 45,
      "metadata": {
        "colab": {
          "base_uri": "https://localhost:8080/"
        },
        "id": "QoHCDMjQtw7x",
        "outputId": "326817b9-b4b8-4159-cdb6-798906794c95"
      },
      "outputs": [
        {
          "output_type": "stream",
          "name": "stdout",
          "text": [
            "[0.15108479 0.59060596 0.49220555 0.28360764 0.36619883]\n"
          ]
        }
      ],
      "source": [
        "# extract the diagonal\n",
        "print(np.diag(arr))"
      ]
    },
    {
      "cell_type": "code",
      "execution_count": 46,
      "metadata": {
        "colab": {
          "base_uri": "https://localhost:8080/"
        },
        "id": "Cc6FybButw7x",
        "outputId": "a22b6c31-6199-4a6a-a4f8-5747356dc3b8"
      },
      "outputs": [
        {
          "output_type": "stream",
          "name": "stdout",
          "text": [
            "[[1 0 0 0 0]\n",
            " [0 2 0 0 0]\n",
            " [0 0 3 0 0]\n",
            " [0 0 0 4 0]\n",
            " [0 0 0 0 5]]\n"
          ]
        }
      ],
      "source": [
        "# create a matrix with a specified diagonal array\n",
        "arr = np.diag([1,2,3,4,5])\n",
        "print(arr)"
      ]
    },
    {
      "cell_type": "markdown",
      "metadata": {
        "id": "ILOxXxT-tw7x"
      },
      "source": [
        "# 2. Inspect Arrays"
      ]
    },
    {
      "cell_type": "code",
      "execution_count": 47,
      "metadata": {
        "id": "CWzNMnl5tw7x"
      },
      "outputs": [],
      "source": [
        "arr = np.array([[1,2,3], [4,5,6]], dtype=np.int64)"
      ]
    },
    {
      "cell_type": "markdown",
      "metadata": {
        "id": "8R2NWPjStw7y"
      },
      "source": [
        "### inspect the data type of an array"
      ]
    },
    {
      "cell_type": "code",
      "execution_count": 49,
      "metadata": {
        "colab": {
          "base_uri": "https://localhost:8080/"
        },
        "id": "FNgLqyyftw7y",
        "outputId": "e61d1f88-b223-45fc-a7bb-15587257d1c3"
      },
      "outputs": [
        {
          "output_type": "stream",
          "name": "stdout",
          "text": [
            "int64\n"
          ]
        }
      ],
      "source": [
        "print(arr.dtype)"
      ]
    },
    {
      "cell_type": "markdown",
      "metadata": {
        "id": "nqH-BynZtw7y"
      },
      "source": [
        "### inspect the dimension of an array"
      ]
    },
    {
      "cell_type": "code",
      "execution_count": 50,
      "metadata": {
        "colab": {
          "base_uri": "https://localhost:8080/"
        },
        "id": "xiJHeDYNtw7y",
        "outputId": "a931dafd-b46f-4a58-b9e4-0c74e6e41edc"
      },
      "outputs": [
        {
          "output_type": "stream",
          "name": "stdout",
          "text": [
            "(2, 3)\n"
          ]
        }
      ],
      "source": [
        "print(arr.shape)"
      ]
    },
    {
      "cell_type": "markdown",
      "metadata": {
        "id": "Z2lE6zWctw7y"
      },
      "source": [
        "### inspect length of an array"
      ]
    },
    {
      "cell_type": "code",
      "execution_count": 51,
      "metadata": {
        "colab": {
          "base_uri": "https://localhost:8080/"
        },
        "id": "xfoNQSHGtw7y",
        "outputId": "42ddbdf8-0ec1-46fb-919f-1a3219c51a21"
      },
      "outputs": [
        {
          "output_type": "stream",
          "name": "stdout",
          "text": [
            "2\n"
          ]
        }
      ],
      "source": [
        "print(len(arr))"
      ]
    },
    {
      "cell_type": "markdown",
      "metadata": {
        "id": "ypiI4qmitw7y"
      },
      "source": [
        "### inspect the number of dimensions of an array"
      ]
    },
    {
      "cell_type": "code",
      "execution_count": 52,
      "metadata": {
        "colab": {
          "base_uri": "https://localhost:8080/"
        },
        "id": "nsIaswJvtw7y",
        "outputId": "7fb2e411-080f-4fd1-a4c4-de77ac5affc1"
      },
      "outputs": [
        {
          "output_type": "stream",
          "name": "stdout",
          "text": [
            "2\n"
          ]
        }
      ],
      "source": [
        "print(arr.ndim)"
      ]
    },
    {
      "cell_type": "markdown",
      "metadata": {
        "id": "F_upmSx7tw7y"
      },
      "source": [
        "### inspect the number of elements in an array"
      ]
    },
    {
      "cell_type": "code",
      "execution_count": 53,
      "metadata": {
        "colab": {
          "base_uri": "https://localhost:8080/"
        },
        "id": "DfbgOnPOtw7y",
        "outputId": "93f97862-1f4e-49bc-d841-c82e7d0d36e8"
      },
      "outputs": [
        {
          "output_type": "stream",
          "name": "stdout",
          "text": [
            "6\n"
          ]
        }
      ],
      "source": [
        "print(arr.size)"
      ]
    },
    {
      "cell_type": "markdown",
      "metadata": {
        "id": "ujxg1Tzdtw7y"
      },
      "source": [
        "### inspect the number of bytes of each element in an array"
      ]
    },
    {
      "cell_type": "code",
      "execution_count": 54,
      "metadata": {
        "colab": {
          "base_uri": "https://localhost:8080/"
        },
        "id": "ZH2S12UZtw7z",
        "outputId": "9aa31b60-4e4d-4243-a351-88489750fe64"
      },
      "outputs": [
        {
          "output_type": "stream",
          "name": "stdout",
          "text": [
            "8\n"
          ]
        }
      ],
      "source": [
        "print(arr.itemsize)"
      ]
    },
    {
      "cell_type": "markdown",
      "metadata": {
        "id": "TMoQ3EZ2tw7z"
      },
      "source": [
        "### inspect the memory size of an array (in byte)"
      ]
    },
    {
      "cell_type": "code",
      "execution_count": 55,
      "metadata": {
        "colab": {
          "base_uri": "https://localhost:8080/"
        },
        "id": "DBHe3zEitw7z",
        "outputId": "89301338-d7f5-4390-861a-f81470054955"
      },
      "outputs": [
        {
          "output_type": "stream",
          "name": "stdout",
          "text": [
            "48\n"
          ]
        }
      ],
      "source": [
        "# arr.nbytes = arr.size * arr.itemsize\n",
        "print(arr.nbytes)"
      ]
    },
    {
      "cell_type": "markdown",
      "metadata": {
        "id": "Do5O0VsRtw7z"
      },
      "source": [
        "# 3. Sampling Methods"
      ]
    },
    {
      "cell_type": "markdown",
      "metadata": {
        "id": "eruTd0Nftw7z"
      },
      "source": [
        "### generate a random sample from interval [0, 1) in a given shape"
      ]
    },
    {
      "cell_type": "code",
      "execution_count": 74,
      "metadata": {
        "colab": {
          "base_uri": "https://localhost:8080/"
        },
        "id": "DEvMFSp9tw7z",
        "outputId": "9cacd31c-eb63-460a-ca12-f14137ebdfd6"
      },
      "outputs": [
        {
          "output_type": "stream",
          "name": "stdout",
          "text": [
            "0.5513147690828912\n"
          ]
        }
      ],
      "source": [
        "# generate a random scalar\n",
        "print(np.random.rand())"
      ]
    },
    {
      "cell_type": "code",
      "execution_count": 75,
      "metadata": {
        "colab": {
          "base_uri": "https://localhost:8080/"
        },
        "id": "BJ8KdVemtw7z",
        "outputId": "cd32f4be-e246-408d-ab1f-a230359af996"
      },
      "outputs": [
        {
          "output_type": "stream",
          "name": "stdout",
          "text": [
            "[0.71946897 0.42310646 0.9807642 ]\n"
          ]
        }
      ],
      "source": [
        "# generate a 1-D array\n",
        "print(np.random.rand(3))"
      ]
    },
    {
      "cell_type": "code",
      "execution_count": 76,
      "metadata": {
        "colab": {
          "base_uri": "https://localhost:8080/"
        },
        "id": "9Sjc2D4Ctw7z",
        "outputId": "8619a0b6-5af0-494d-fdd7-e36f9fefb7ff"
      },
      "outputs": [
        {
          "output_type": "stream",
          "name": "stdout",
          "text": [
            "[[0.68482974 0.4809319  0.39211752]\n",
            " [0.34317802 0.72904971 0.43857224]\n",
            " [0.0596779  0.39804426 0.73799541]]\n"
          ]
        }
      ],
      "source": [
        "# generate a 2-D array\n",
        "print(np.random.rand(3,3))"
      ]
    },
    {
      "cell_type": "markdown",
      "metadata": {
        "id": "r65Na31Qtw70"
      },
      "source": [
        "### generate a sample from the standard normal distribution (mean = 0, var = 1)"
      ]
    },
    {
      "cell_type": "code",
      "execution_count": 77,
      "metadata": {
        "colab": {
          "base_uri": "https://localhost:8080/"
        },
        "id": "MZn3coeWtw70",
        "outputId": "22e1a2ab-7981-4454-ee19-af30f93416d7"
      },
      "outputs": [
        {
          "output_type": "stream",
          "name": "stdout",
          "text": [
            "[[-0.44398196 -0.43435128  2.20593008]\n",
            " [ 2.18678609  1.0040539   0.3861864 ]\n",
            " [ 0.73736858  1.49073203 -0.93583387]]\n"
          ]
        }
      ],
      "source": [
        "print(np.random.randn(3,3))"
      ]
    },
    {
      "cell_type": "markdown",
      "metadata": {
        "id": "IZ0sCR1etw70"
      },
      "source": [
        "### generate an array of random integers in a given interval [low, high)"
      ]
    },
    {
      "cell_type": "code",
      "execution_count": 79,
      "metadata": {
        "colab": {
          "base_uri": "https://localhost:8080/"
        },
        "id": "qcUeNYxgtw70",
        "outputId": "7d8192dd-387d-4f6d-9c83-773ae3a97dc2"
      },
      "outputs": [
        {
          "output_type": "stream",
          "name": "stdout",
          "text": [
            "[9 4 6]\n"
          ]
        }
      ],
      "source": [
        "# np.ranodm.randint(low, high, size, dtype)\n",
        "print(np.random.randint(1, 10, 3, 'i4'))"
      ]
    },
    {
      "cell_type": "code",
      "source": [
        "# np.ranodm.randint(low, high, size, dtype)\n",
        "print(np.random.randint(1, 10, 3, 'i8'))"
      ],
      "metadata": {
        "colab": {
          "base_uri": "https://localhost:8080/"
        },
        "id": "RW1gl9S94mRU",
        "outputId": "bf6a5fd6-517e-4ba6-9c2b-844eb48df7ec"
      },
      "execution_count": 80,
      "outputs": [
        {
          "output_type": "stream",
          "name": "stdout",
          "text": [
            "[1 3 7]\n"
          ]
        }
      ]
    },
    {
      "cell_type": "markdown",
      "metadata": {
        "id": "80OfxGFwtw70"
      },
      "source": [
        "### generate an array of random floating-point numbers in the interval [0.0, 1.0)"
      ]
    },
    {
      "cell_type": "code",
      "execution_count": 81,
      "metadata": {
        "colab": {
          "base_uri": "https://localhost:8080/"
        },
        "id": "6ukVDjWYtw70",
        "outputId": "a253490f-b11d-42e9-ae5c-e1e6c045497c"
      },
      "outputs": [
        {
          "output_type": "stream",
          "name": "stdout",
          "text": [
            "[0.42583029 0.31226122 0.42635131 0.89338916 0.94416002 0.50183668\n",
            " 0.62395295 0.1156184  0.31728548 0.41482621]\n",
            "[0.86630916 0.25045537 0.48303426 0.98555979 0.51948512 0.61289453\n",
            " 0.12062867 0.8263408  0.60306013 0.54506801]\n",
            "[0.34276383 0.30412079 0.41702221 0.68130077 0.87545684 0.51042234\n",
            " 0.66931378 0.58593655 0.6249035  0.67468905]\n",
            "[0.84234244 0.08319499 0.76368284 0.24366637 0.19422296 0.57245696\n",
            " 0.09571252 0.88532683 0.62724897 0.72341636]\n"
          ]
        }
      ],
      "source": [
        "# the following methods are the same as np.random.rand()\n",
        "print(np.random.random_sample(10))\n",
        "print(np.random.random(10))\n",
        "print(np.random.ranf(10))\n",
        "print(np.random.sample(10))"
      ]
    },
    {
      "cell_type": "markdown",
      "metadata": {
        "id": "kro6GnrZtw70"
      },
      "source": [
        "### generate a random sample from a given 1-D array"
      ]
    },
    {
      "cell_type": "code",
      "execution_count": 82,
      "metadata": {
        "colab": {
          "base_uri": "https://localhost:8080/"
        },
        "id": "l2LEDrcItw70",
        "outputId": "2576c8f4-9251-44cb-8a62-89c128f8c33e"
      },
      "outputs": [
        {
          "output_type": "stream",
          "name": "stdout",
          "text": [
            "[0 1 1 1 1 1 1 1 1 1]\n"
          ]
        }
      ],
      "source": [
        "# np.random.choice(iterable_or_int, size, replace=True, p=weights)\n",
        "print(np.random.choice(range(3), 10, replace=True, p=[0.1, 0.8, 0.1]))"
      ]
    },
    {
      "cell_type": "code",
      "execution_count": 83,
      "metadata": {
        "colab": {
          "base_uri": "https://localhost:8080/"
        },
        "id": "2PiK7cSvtw70",
        "outputId": "9af003e2-e4c8-4587-fd43-86957e4ab82e"
      },
      "outputs": [
        {
          "output_type": "stream",
          "name": "stdout",
          "text": [
            "[2 1 2 0 1 0 2 0 0 2]\n"
          ]
        }
      ],
      "source": [
        "print(np.random.choice(3, 10))"
      ]
    },
    {
      "cell_type": "code",
      "execution_count": 84,
      "metadata": {
        "colab": {
          "base_uri": "https://localhost:8080/"
        },
        "id": "5pNqxMJ4tw70",
        "outputId": "06e15e9d-e313-44c0-a593-dc5903e74c23"
      },
      "outputs": [
        {
          "output_type": "stream",
          "name": "stdout",
          "text": [
            "[1 3 2 1 1 1 1 1 1 2]\n"
          ]
        }
      ],
      "source": [
        "print(np.random.choice([1,2,3], 10))"
      ]
    },
    {
      "cell_type": "markdown",
      "metadata": {
        "id": "gFz76G-ztw71"
      },
      "source": [
        "### shuffle an array in place"
      ]
    },
    {
      "cell_type": "code",
      "execution_count": 85,
      "metadata": {
        "colab": {
          "base_uri": "https://localhost:8080/"
        },
        "id": "Jfdzaf49tw71",
        "outputId": "d1529661-4ca5-46f0-b903-5466a85a6881"
      },
      "outputs": [
        {
          "output_type": "stream",
          "name": "stdout",
          "text": [
            "[0 1 2 3 4 5 6 7 8 9]\n"
          ]
        }
      ],
      "source": [
        "arr = np.array(range(10))\n",
        "print(arr)"
      ]
    },
    {
      "cell_type": "code",
      "execution_count": 87,
      "metadata": {
        "colab": {
          "base_uri": "https://localhost:8080/"
        },
        "id": "iFWj71dntw71",
        "outputId": "a3944e5e-1c3f-4be1-d2aa-ad95b015629c"
      },
      "outputs": [
        {
          "output_type": "stream",
          "name": "stdout",
          "text": [
            "[7 5 8 1 6 0 3 4 9 2]\n"
          ]
        }
      ],
      "source": [
        "np.random.shuffle(arr)\n",
        "print(arr)"
      ]
    },
    {
      "cell_type": "markdown",
      "metadata": {
        "id": "9PAqbQL1tw71"
      },
      "source": [
        "### generate a permutation of an array"
      ]
    },
    {
      "cell_type": "code",
      "execution_count": 89,
      "metadata": {
        "colab": {
          "base_uri": "https://localhost:8080/"
        },
        "id": "DmvnrGAstw71",
        "outputId": "3c763a9c-1474-418d-eaa6-f954eaa6ee78"
      },
      "outputs": [
        {
          "output_type": "stream",
          "name": "stdout",
          "text": [
            "The initial array:  [0 1 2 3 4 5 6 7 8 9]\n",
            "A permutation of the array:  [5 4 2 0 6 3 1 9 7 8]\n"
          ]
        }
      ],
      "source": [
        "# similar to np.random.shuffle(), but it returns a copy rather than making changes in place\n",
        "arr = np.array(range(10))\n",
        "print('The initial array: ', arr)\n",
        "print('A permutation of the array: ', np.random.permutation(arr))"
      ]
    },
    {
      "cell_type": "markdown",
      "metadata": {
        "id": "pAJi6VIHtw71"
      },
      "source": [
        "# 4. Math Functions"
      ]
    },
    {
      "cell_type": "code",
      "execution_count": 90,
      "metadata": {
        "id": "7dvUWWxCtw71"
      },
      "outputs": [],
      "source": [
        "arr = np.random.rand(5,5)"
      ]
    },
    {
      "cell_type": "markdown",
      "metadata": {
        "id": "wSo8WNrNtw71"
      },
      "source": [
        "### element-wise addition, subtraction, multiplication and division"
      ]
    },
    {
      "cell_type": "code",
      "execution_count": 91,
      "metadata": {
        "colab": {
          "base_uri": "https://localhost:8080/"
        },
        "id": "nSPAIveatw71",
        "outputId": "b315e2a2-d28c-4c84-d911-44b6b3bff22e"
      },
      "outputs": [
        {
          "output_type": "stream",
          "name": "stdout",
          "text": [
            "[[10.52153306 10.00268806 10.98834542 10.90534158 10.20763586]\n",
            " [10.29248941 10.52001015 10.90191137 10.98363088 10.25754206]\n",
            " [10.56435904 10.80696868 10.39437005 10.73107304 10.16106901]\n",
            " [10.60069857 10.86586446 10.98352161 10.07936579 10.42834727]\n",
            " [10.20454286 10.45063649 10.54776357 10.09332671 10.29686078]]\n",
            "[[-9.47846694 -9.99731194 -9.01165458 -9.09465842 -9.79236414]\n",
            " [-9.70751059 -9.47998985 -9.09808863 -9.01636912 -9.74245794]\n",
            " [-9.43564096 -9.19303132 -9.60562995 -9.26892696 -9.83893099]\n",
            " [-9.39930143 -9.13413554 -9.01647839 -9.92063421 -9.57165273]\n",
            " [-9.79545714 -9.54936351 -9.45223643 -9.90667329 -9.70313922]]\n",
            "[[5.21533059 0.02688065 9.88345419 9.05341576 2.07635861]\n",
            " [2.92489413 5.20010153 9.01911373 9.83630885 2.57542064]\n",
            " [5.64359043 8.06968684 3.94370054 7.31073036 1.61069014]\n",
            " [6.00698568 8.65864458 9.83521609 0.7936579  4.28347275]\n",
            " [2.0454286  4.50636491 5.47763573 0.9332671  2.96860775]]\n",
            "[[0.05215331 0.00026881 0.09883454 0.09053416 0.02076359]\n",
            " [0.02924894 0.05200102 0.09019114 0.09836309 0.02575421]\n",
            " [0.0564359  0.08069687 0.03943701 0.0731073  0.0161069 ]\n",
            " [0.06006986 0.08658645 0.09835216 0.00793658 0.04283473]\n",
            " [0.02045429 0.04506365 0.05477636 0.00933267 0.02968608]]\n"
          ]
        }
      ],
      "source": [
        "print(arr + 10)\n",
        "print(arr - 10)\n",
        "print(arr * 10)\n",
        "print(arr / 10)"
      ]
    },
    {
      "cell_type": "code",
      "execution_count": 93,
      "metadata": {
        "colab": {
          "base_uri": "https://localhost:8080/"
        },
        "id": "H5WZxqartw71",
        "outputId": "278fe70d-303c-4f32-898a-5f0e77e8b44b"
      },
      "outputs": [
        {
          "output_type": "stream",
          "name": "stdout",
          "text": [
            "[ 9 11 13]\n",
            "[1 2 3]\n",
            "[1 4 9]\n"
          ]
        }
      ],
      "source": [
        "arr1 = np.array([1,2,3])\n",
        "# the above operations can be performed using numpy built-in functions\n",
        "# which can save memory as the output can be stored in the original array rather than assigning new memoryarr = np.array([1,2,3])\n",
        "np.add(arr1, [8,9,10], out=arr1)\n",
        "print(arr1)\n",
        "\n",
        "np.subtract(arr1, [8,9,10], out=arr1)\n",
        "print(arr1)\n",
        "\n",
        "np.multiply(arr1, [1,2,3], out=arr1)\n",
        "print(arr1)"
      ]
    },
    {
      "cell_type": "markdown",
      "metadata": {
        "id": "-XAJLPCntw71"
      },
      "source": [
        "### element-wise exponentiation"
      ]
    },
    {
      "cell_type": "code",
      "execution_count": 94,
      "metadata": {
        "colab": {
          "base_uri": "https://localhost:8080/"
        },
        "id": "kDWGr4REtw72",
        "outputId": "0e806911-f97a-454b-9b59-703f71efc950"
      },
      "outputs": [
        {
          "output_type": "stream",
          "name": "stdout",
          "text": [
            "[[1.68460828 1.00269168 2.68678529 2.47277642 1.23076492]\n",
            " [1.33975855 1.68204473 2.46430883 2.67414816 1.29374623]\n",
            " [1.75832041 2.24110418 1.4834494  2.07730844 1.17476604]\n",
            " [1.82339212 2.37706007 2.67385596 1.08260025 1.53471896]\n",
            " [1.22696404 1.56931072 1.72938105 1.09782035 1.34562794]]\n"
          ]
        }
      ],
      "source": [
        "print(np.exp(arr))"
      ]
    },
    {
      "cell_type": "markdown",
      "metadata": {
        "id": "y4nuvyfMtw72"
      },
      "source": [
        "### element-wise logorithm"
      ]
    },
    {
      "cell_type": "code",
      "execution_count": 95,
      "metadata": {
        "colab": {
          "base_uri": "https://localhost:8080/"
        },
        "id": "18nqHUd-tw72",
        "outputId": "896193e5-8c87-4c8d-b62c-b214f9c1e361"
      },
      "outputs": [
        {
          "output_type": "stream",
          "name": "stdout",
          "text": [
            "[[-0.65098261 -5.91893383 -0.01172303 -0.09944297 -1.5719694 ]\n",
            " [-1.22932681 -0.65390694 -0.10323902 -0.01650457 -1.35657222]\n",
            " [-0.57206463 -0.21447042 -0.93046559 -0.31324191 -1.82592234]\n",
            " [-0.50966202 -0.1440269  -0.01661567 -2.53368786 -0.84782102]\n",
            " [-1.58697774 -0.79709427 -0.60191152 -2.37164893 -1.21449202]]\n"
          ]
        }
      ],
      "source": [
        "# natural log\n",
        "print(np.log(arr))"
      ]
    },
    {
      "cell_type": "code",
      "execution_count": 96,
      "metadata": {
        "colab": {
          "base_uri": "https://localhost:8080/"
        },
        "id": "yQgfLnz4tw72",
        "outputId": "6eb4958a-6f25-40a0-8d6d-be1fc93c4876"
      },
      "outputs": [
        {
          "output_type": "stream",
          "name": "stdout",
          "text": [
            "[[-0.93916939 -8.53921649 -0.01691275 -0.14346589 -2.26787246]\n",
            " [-1.77354369 -0.9433883  -0.14894242 -0.02381106 -1.95712001]\n",
            " [-0.8253148  -0.30941541 -1.34237809 -0.45191255 -2.63424911]\n",
            " [-0.73528687 -0.20778689 -0.02397134 -3.6553389  -1.22314719]\n",
            " [-2.28952492 -1.14996395 -0.86837477 -3.42156615 -1.75214161]]\n"
          ]
        }
      ],
      "source": [
        "# base 2\n",
        "print(np.log2(arr))"
      ]
    },
    {
      "cell_type": "code",
      "execution_count": 97,
      "metadata": {
        "colab": {
          "base_uri": "https://localhost:8080/"
        },
        "id": "R-iym-ustw72",
        "outputId": "9a87f853-26d8-4b70-f50a-004abf5bba11"
      },
      "outputs": [
        {
          "output_type": "stream",
          "name": "stdout",
          "text": [
            "[[-0.28271816 -2.5705603  -0.00509125 -0.04318754 -0.68269764]\n",
            " [-0.53388985 -0.28398818 -0.04483614 -0.00716784 -0.58915183]\n",
            " [-0.24844451 -0.09314332 -0.40409607 -0.13603923 -0.792988  ]\n",
            " [-0.2213434  -0.06255009 -0.00721609 -1.10036665 -0.36820399]\n",
            " [-0.68921568 -0.34617364 -0.26140685 -1.02999404 -0.52744718]]\n"
          ]
        }
      ],
      "source": [
        "# base 10\n",
        "print(np.log10(arr))"
      ]
    },
    {
      "cell_type": "markdown",
      "metadata": {
        "id": "guJnk8RStw72"
      },
      "source": [
        "### element-wise square root"
      ]
    },
    {
      "cell_type": "code",
      "execution_count": 98,
      "metadata": {
        "colab": {
          "base_uri": "https://localhost:8080/"
        },
        "id": "bXkxXQkOtw72",
        "outputId": "78d9d9e2-8531-47b4-c771-b9817ace77a5"
      },
      "outputs": [
        {
          "output_type": "stream",
          "name": "stdout",
          "text": [
            "[[0.72217246 0.05184655 0.99415563 0.95149439 0.45567078]\n",
            " [0.5408229  0.72111729 0.94969015 0.99178167 0.50748602]\n",
            " [0.75123834 0.89831436 0.6279889  0.85502809 0.40133404]\n",
            " [0.77504746 0.93051838 0.99172658 0.28171935 0.65448245]\n",
            " [0.45226415 0.67129464 0.74011051 0.30549421 0.54484931]]\n"
          ]
        }
      ],
      "source": [
        "print(np.sqrt(arr))"
      ]
    },
    {
      "cell_type": "markdown",
      "metadata": {
        "id": "ruRm-58Utw72"
      },
      "source": [
        "### element-wise sine and cosine"
      ]
    },
    {
      "cell_type": "code",
      "execution_count": 101,
      "metadata": {
        "colab": {
          "base_uri": "https://localhost:8080/"
        },
        "id": "PEx_TQyptw72",
        "outputId": "10d8f33b-99aa-41f0-972e-9e08cfc53d2f"
      },
      "outputs": [
        {
          "output_type": "stream",
          "name": "stdout",
          "text": [
            "[[0.49820997 0.00268806 0.83511698 0.7866361  0.20614712]\n",
            " [0.2883368  0.49688895 0.78451361 0.83251438 0.25470445]\n",
            " [0.53487436 0.72219376 0.38422667 0.66766885 0.16037348]\n",
            " [0.56521889 0.7616557  0.83245383 0.0792825  0.41536796]\n",
            " [0.20311957 0.43553857 0.52077931 0.09319129 0.29251974]]\n"
          ]
        }
      ],
      "source": [
        "print(np.sin(arr))"
      ]
    },
    {
      "cell_type": "code",
      "execution_count": 102,
      "metadata": {
        "colab": {
          "base_uri": "https://localhost:8080/"
        },
        "id": "Uwg-a3Oftw72",
        "outputId": "ff96404b-d579-4abc-9ecb-12c0e2260a57"
      },
      "outputs": [
        {
          "output_type": "stream",
          "name": "stdout",
          "text": [
            "[[0.86705641 0.99999639 0.55007238 0.61741692 0.97852101]\n",
            " [0.95752905 0.86781413 0.6201116  0.55400344 0.96701895]\n",
            " [0.84493161 0.6916908  0.92323879 0.7444584  0.98705641]\n",
            " [0.82494097 0.64798194 0.55409441 0.99685219 0.90965348]\n",
            " [0.97915394 0.90017007 0.85369134 0.99564822 0.95625948]]\n"
          ]
        }
      ],
      "source": [
        "print(np.cos(arr))"
      ]
    },
    {
      "cell_type": "markdown",
      "metadata": {
        "id": "rIVxiQMItw73"
      },
      "source": [
        "### sum along a specified axis"
      ]
    },
    {
      "cell_type": "code",
      "execution_count": 103,
      "metadata": {
        "colab": {
          "base_uri": "https://localhost:8080/"
        },
        "id": "s0rtfiwotw73",
        "outputId": "a7a715de-4da9-4ac8-a431-0d7074e7d8cb"
      },
      "outputs": [
        {
          "output_type": "stream",
          "name": "stdout",
          "text": [
            "[2.18362294 2.64616785 3.81591203 2.792738   1.35145499]\n"
          ]
        }
      ],
      "source": [
        "# sum along the row\n",
        "print(np.sum(arr, axis=0))"
      ]
    },
    {
      "cell_type": "code",
      "execution_count": 104,
      "metadata": {
        "colab": {
          "base_uri": "https://localhost:8080/"
        },
        "id": "P4rhJDTstw73",
        "outputId": "71f02696-c544-4dc3-a411-7cc7d18243f4"
      },
      "outputs": [
        {
          "output_type": "stream",
          "name": "stdout",
          "text": [
            "[2.62554398 2.95558389 2.65783983 2.9577977  1.59313041]\n"
          ]
        }
      ],
      "source": [
        "# sum along the column\n",
        "print(np.sum(arr, axis=1))"
      ]
    },
    {
      "cell_type": "markdown",
      "metadata": {
        "id": "atGCkLsbtw73"
      },
      "source": [
        "### compute the min and max along a specified axis"
      ]
    },
    {
      "cell_type": "code",
      "execution_count": 105,
      "metadata": {
        "colab": {
          "base_uri": "https://localhost:8080/"
        },
        "id": "sroSAdnNtw74",
        "outputId": "94dc0347-d2c9-4ae7-855c-4901b94173d9"
      },
      "outputs": [
        {
          "output_type": "stream",
          "name": "stdout",
          "text": [
            "[0.20454286 0.00268806 0.39437005 0.07936579 0.16106901]\n"
          ]
        }
      ],
      "source": [
        "# calculate min along the row\n",
        "print(np.min(arr, axis=0))"
      ]
    },
    {
      "cell_type": "code",
      "execution_count": 106,
      "metadata": {
        "colab": {
          "base_uri": "https://localhost:8080/"
        },
        "id": "XGb1Y5oUtw74",
        "outputId": "fd7d7101-1b46-4ef8-8690-4e2f38c27dea"
      },
      "outputs": [
        {
          "output_type": "stream",
          "name": "stdout",
          "text": [
            "[0.98834542 0.98363088 0.80696868 0.98352161 0.54776357]\n"
          ]
        }
      ],
      "source": [
        "# calculate max along the column\n",
        "print(np.max(arr, axis=1))"
      ]
    },
    {
      "cell_type": "code",
      "execution_count": 107,
      "metadata": {
        "colab": {
          "base_uri": "https://localhost:8080/"
        },
        "id": "SCn60VaQtw74",
        "outputId": "8d907048-b6b7-46d0-8be6-938b81fddd78"
      },
      "outputs": [
        {
          "output_type": "stream",
          "name": "stdout",
          "text": [
            "0.98834541928282\n",
            "0.002688064574320692\n"
          ]
        }
      ],
      "source": [
        "# if axis not specified, calculate the max/min value of all elements\n",
        "print(np.max(arr))\n",
        "print(np.min(arr))"
      ]
    },
    {
      "cell_type": "markdown",
      "metadata": {
        "id": "HMHtMiCUtw74"
      },
      "source": [
        "### compute the indices of the min and max along a specified axis"
      ]
    },
    {
      "cell_type": "code",
      "execution_count": 108,
      "metadata": {
        "colab": {
          "base_uri": "https://localhost:8080/"
        },
        "id": "mMZFBW80tw74",
        "outputId": "cd4c5e4f-4883-462a-b33a-04e006fb0f71"
      },
      "outputs": [
        {
          "output_type": "stream",
          "name": "stdout",
          "text": [
            "[4 0 2 3 2]\n",
            "[3 3 0 1 3]\n"
          ]
        }
      ],
      "source": [
        "# along the row\n",
        "print(np.argmin(arr, axis=0))\n",
        "print(np.argmax(arr, axis=0))"
      ]
    },
    {
      "cell_type": "code",
      "execution_count": 109,
      "metadata": {
        "colab": {
          "base_uri": "https://localhost:8080/"
        },
        "id": "yWX6E-uMtw74",
        "outputId": "c37cad18-4ee8-4aa7-8b7e-cb65bbec41a5"
      },
      "outputs": [
        {
          "output_type": "stream",
          "name": "stdout",
          "text": [
            "[1 4 4 3 3]\n",
            "[2 3 1 2 2]\n"
          ]
        }
      ],
      "source": [
        "# along the column\n",
        "print(np.argmin(arr, axis=1))\n",
        "print(np.argmax(arr, axis=1))"
      ]
    },
    {
      "cell_type": "code",
      "execution_count": 110,
      "metadata": {
        "colab": {
          "base_uri": "https://localhost:8080/"
        },
        "id": "KJZJLhUAtw74",
        "outputId": "40d6280e-7f86-4b52-8313-82505bfe3ff9"
      },
      "outputs": [
        {
          "output_type": "stream",
          "name": "stdout",
          "text": [
            "1\n",
            "2\n"
          ]
        }
      ],
      "source": [
        "# if axis not specified, return the index of the flattened array\n",
        "print(np.argmin(arr))\n",
        "print(np.argmax(arr))"
      ]
    },
    {
      "cell_type": "markdown",
      "metadata": {
        "id": "_w5cexxytw75"
      },
      "source": [
        "### compute element-wise min and max of two arrays"
      ]
    },
    {
      "cell_type": "code",
      "execution_count": 111,
      "metadata": {
        "colab": {
          "base_uri": "https://localhost:8080/"
        },
        "id": "gWXEFV-etw75",
        "outputId": "95095488-b418-4625-8369-033ba3f912db"
      },
      "outputs": [
        {
          "output_type": "stream",
          "name": "stdout",
          "text": [
            "[1 4 5 8 9]\n",
            "[0 3 3 7 7]\n"
          ]
        }
      ],
      "source": [
        "arr1 = np.array([1, 3, 5, 7, 9])\n",
        "arr2 = np.array([0, 4, 3, 8, 7])\n",
        "print(np.maximum(arr1, arr2))\n",
        "print(np.minimum(arr1, arr2))"
      ]
    },
    {
      "cell_type": "markdown",
      "metadata": {
        "id": "MJGQCfFotw75"
      },
      "source": [
        "### split fractional and integral parts of a floating-point array"
      ]
    },
    {
      "cell_type": "code",
      "execution_count": 112,
      "metadata": {
        "colab": {
          "base_uri": "https://localhost:8080/"
        },
        "id": "d_szDAebtw75",
        "outputId": "8fcbd361-1be9-48af-b574-6eb9f14b34d1"
      },
      "outputs": [
        {
          "output_type": "stream",
          "name": "stdout",
          "text": [
            "fractional:  [0.2758424  0.69003731 0.57411998 0.53525991 0.41862152 0.48579033\n",
            " 0.08697395 0.39243348 0.65937884 0.80997938]\n",
            "integral:  [9. 5. 4. 7. 7. 0. 7. 8. 1. 7.]\n"
          ]
        }
      ],
      "source": [
        "arr1 = np.random.rand(10) * 10\n",
        "re, intg = np.modf(arr1)\n",
        "print('fractional: ', re)\n",
        "print('integral: ', intg)"
      ]
    },
    {
      "cell_type": "markdown",
      "metadata": {
        "id": "gZJEVuy7tw75"
      },
      "source": [
        "### compute the mean"
      ]
    },
    {
      "cell_type": "code",
      "execution_count": 113,
      "metadata": {
        "colab": {
          "base_uri": "https://localhost:8080/"
        },
        "id": "3LkRZ1fctw75",
        "outputId": "60db3c91-cb61-4d84-8dbc-2bbe901b14db"
      },
      "outputs": [
        {
          "output_type": "stream",
          "name": "stdout",
          "text": [
            "0.5115958323182477\n"
          ]
        }
      ],
      "source": [
        "# compute the overall mean\n",
        "print(np.mean(arr))"
      ]
    },
    {
      "cell_type": "code",
      "execution_count": 114,
      "metadata": {
        "colab": {
          "base_uri": "https://localhost:8080/"
        },
        "id": "qVsDQQuEtw75",
        "outputId": "5eedde92-d8cd-4185-9a66-ba0224beebb8"
      },
      "outputs": [
        {
          "output_type": "stream",
          "name": "stdout",
          "text": [
            "[0.43672459 0.52923357 0.76318241 0.5585476  0.270291  ]\n"
          ]
        }
      ],
      "source": [
        "# compute the mean along the row\n",
        "print(np.mean(arr, axis=0))"
      ]
    },
    {
      "cell_type": "code",
      "execution_count": 115,
      "metadata": {
        "colab": {
          "base_uri": "https://localhost:8080/"
        },
        "id": "eUKJGKVhtw75",
        "outputId": "90f450eb-89a4-41bc-8711-46ddd0a0c44a"
      },
      "outputs": [
        {
          "output_type": "stream",
          "name": "stdout",
          "text": [
            "[0.5251088  0.59111678 0.53156797 0.59155954 0.31862608]\n"
          ]
        }
      ],
      "source": [
        "# compute the mean along the column\n",
        "print(np.mean(arr, axis=1))"
      ]
    },
    {
      "cell_type": "markdown",
      "metadata": {
        "id": "5050NSIXtw75"
      },
      "source": [
        "### compute the median"
      ]
    },
    {
      "cell_type": "code",
      "execution_count": 116,
      "metadata": {
        "colab": {
          "base_uri": "https://localhost:8080/"
        },
        "id": "BwOwBfE0tw75",
        "outputId": "cac6f4ec-a3cc-47e4-ff1d-65f01eb0fc26"
      },
      "outputs": [
        {
          "output_type": "stream",
          "name": "stdout",
          "text": [
            "0.5200101530724834\n"
          ]
        }
      ],
      "source": [
        "# compute the overall median\n",
        "print(np.median(arr))"
      ]
    },
    {
      "cell_type": "code",
      "execution_count": 117,
      "metadata": {
        "colab": {
          "base_uri": "https://localhost:8080/"
        },
        "id": "V5y-p65stw76",
        "outputId": "8cd74f2e-45e2-4634-c7b6-9ccae075cf44"
      },
      "outputs": [
        {
          "output_type": "stream",
          "name": "stdout",
          "text": [
            "[0.52153306 0.52001015 0.90191137 0.73107304 0.25754206]\n"
          ]
        }
      ],
      "source": [
        "# compute the median along the row\n",
        "print(np.median(arr, axis=0))"
      ]
    },
    {
      "cell_type": "code",
      "execution_count": 118,
      "metadata": {
        "colab": {
          "base_uri": "https://localhost:8080/"
        },
        "id": "VjGVSDfgtw76",
        "outputId": "aa277faa-72b5-4f35-903f-ec32a1f17291"
      },
      "outputs": [
        {
          "output_type": "stream",
          "name": "stdout",
          "text": [
            "[0.52153306 0.52001015 0.56435904 0.60069857 0.29686078]\n"
          ]
        }
      ],
      "source": [
        "# compute the median along the column\n",
        "print(np.median(arr, axis=1))"
      ]
    },
    {
      "cell_type": "markdown",
      "metadata": {
        "id": "J1q89z5Ktw76"
      },
      "source": [
        "### compute the percentile"
      ]
    },
    {
      "cell_type": "code",
      "execution_count": 119,
      "metadata": {
        "colab": {
          "base_uri": "https://localhost:8080/"
        },
        "id": "XHPyjx0Ptw76",
        "outputId": "4aa02135-2e2a-47b8-ce0a-a24912739caa"
      },
      "outputs": [
        {
          "output_type": "stream",
          "name": "stdout",
          "text": [
            "[0.0471337  0.65609592 0.93348576]\n"
          ]
        }
      ],
      "source": [
        "arr1 = np.random.rand(100)\n",
        "# compute 5, 65, and 95 percentiles of the array\n",
        "print(np.percentile(arr1, [5, 65, 95]))"
      ]
    },
    {
      "cell_type": "markdown",
      "metadata": {
        "id": "HAq0jzJOtw76"
      },
      "source": [
        "### compute the standard deviation & variance"
      ]
    },
    {
      "cell_type": "code",
      "execution_count": 120,
      "metadata": {
        "colab": {
          "base_uri": "https://localhost:8080/"
        },
        "id": "Gz1InOE1tw76",
        "outputId": "b2c9db83-b4ee-4ef9-bb8e-ccd541a39347"
      },
      "outputs": [
        {
          "output_type": "stream",
          "name": "stdout",
          "text": [
            "0.30768017288784044\n"
          ]
        }
      ],
      "source": [
        "# compute the overall standard deviation\n",
        "print(np.std(arr))"
      ]
    },
    {
      "cell_type": "code",
      "execution_count": 121,
      "metadata": {
        "colab": {
          "base_uri": "https://localhost:8080/"
        },
        "id": "1LwUfUePtw76",
        "outputId": "9f19d58c-e99d-44b4-a2c2-6f2693156cfd"
      },
      "outputs": [
        {
          "output_type": "stream",
          "name": "stdout",
          "text": [
            "[0.15816614 0.30788631 0.2453248  0.39415037 0.09132949]\n"
          ]
        }
      ],
      "source": [
        "# compute the standard deviation along the row\n",
        "print(np.std(arr, axis=0))"
      ]
    },
    {
      "cell_type": "code",
      "execution_count": 122,
      "metadata": {
        "colab": {
          "base_uri": "https://localhost:8080/"
        },
        "id": "EFksh_JVtw76",
        "outputId": "66df63c7-b54c-49e3-fa3b-e339bba9a8f7"
      },
      "outputs": [
        {
          "output_type": "stream",
          "name": "stdout",
          "text": [
            "[0.38285517 0.30204872 0.2335876  0.32185141 0.16381652]\n"
          ]
        }
      ],
      "source": [
        "# compute the standard deviation along the column\n",
        "print(np.std(arr, axis=1))"
      ]
    },
    {
      "cell_type": "code",
      "execution_count": 123,
      "metadata": {
        "colab": {
          "base_uri": "https://localhost:8080/"
        },
        "id": "4aEg9Rq6tw76",
        "outputId": "6bbe659f-6175-4873-c5d7-99922b53658a"
      },
      "outputs": [
        {
          "output_type": "stream",
          "name": "stdout",
          "text": [
            "0.09466708878829139\n"
          ]
        }
      ],
      "source": [
        "# compute the overall variance\n",
        "print(np.var(arr))"
      ]
    },
    {
      "cell_type": "code",
      "execution_count": 124,
      "metadata": {
        "colab": {
          "base_uri": "https://localhost:8080/"
        },
        "id": "qsjvaELFtw77",
        "outputId": "2caf5e7e-a085-4deb-cec0-11ea4e403833"
      },
      "outputs": [
        {
          "output_type": "stream",
          "name": "stdout",
          "text": [
            "[0.02501653 0.09479398 0.06018426 0.15535451 0.00834108]\n"
          ]
        }
      ],
      "source": [
        "# compute the variance along the row\n",
        "print(np.var(arr, axis=0))"
      ]
    },
    {
      "cell_type": "code",
      "execution_count": 125,
      "metadata": {
        "colab": {
          "base_uri": "https://localhost:8080/"
        },
        "id": "MLIztt1ztw77",
        "outputId": "91832dff-21b2-4a33-bfb3-d6a98787936e"
      },
      "outputs": [
        {
          "output_type": "stream",
          "name": "stdout",
          "text": [
            "[0.14657808 0.09123343 0.05456316 0.10358833 0.02683585]\n"
          ]
        }
      ],
      "source": [
        "# compute the variance along the column\n",
        "print(np.var(arr, axis=1))"
      ]
    },
    {
      "cell_type": "markdown",
      "metadata": {
        "id": "nsXfHTdptw77"
      },
      "source": [
        "### compute the covariance & correlation"
      ]
    },
    {
      "cell_type": "code",
      "execution_count": 126,
      "metadata": {
        "id": "IJYfJCxLtw77"
      },
      "outputs": [],
      "source": [
        "arr = np.random.rand(5,8)"
      ]
    },
    {
      "cell_type": "code",
      "execution_count": 127,
      "metadata": {
        "colab": {
          "base_uri": "https://localhost:8080/"
        },
        "id": "BRH9lD5Ytw77",
        "outputId": "c3a60951-af51-4581-a9bb-7a2574dcedce"
      },
      "outputs": [
        {
          "output_type": "stream",
          "name": "stdout",
          "text": [
            "[[ 0.11477884 -0.01362451 -0.01384715 -0.03160288  0.00554565]\n",
            " [-0.01362451  0.08876364 -0.02404343  0.04854743  0.00897158]\n",
            " [-0.01384715 -0.02404343  0.03900587 -0.05036849 -0.00903842]\n",
            " [-0.03160288  0.04854743 -0.05036849  0.12040291 -0.01233354]\n",
            " [ 0.00554565  0.00897158 -0.00903842 -0.01233354  0.10008976]]\n"
          ]
        }
      ],
      "source": [
        "print(np.cov(arr))"
      ]
    },
    {
      "cell_type": "code",
      "execution_count": 129,
      "metadata": {
        "colab": {
          "base_uri": "https://localhost:8080/"
        },
        "id": "swCmkruYtw77",
        "outputId": "06087f94-4b6d-4f0a-9b70-69b0084e2e69"
      },
      "outputs": [
        {
          "output_type": "stream",
          "name": "stdout",
          "text": [
            "[[ 1.         -0.68686813]\n",
            " [-0.68686813  1.        ]]\n"
          ]
        }
      ],
      "source": [
        "print(np.corrcoef(arr[:,0], arr[:,1]))"
      ]
    },
    {
      "cell_type": "markdown",
      "metadata": {
        "id": "TlZG_Js3tw77"
      },
      "source": [
        "### compute cumulative sum & product"
      ]
    },
    {
      "cell_type": "code",
      "source": [
        "arr"
      ],
      "metadata": {
        "colab": {
          "base_uri": "https://localhost:8080/"
        },
        "id": "Wbm_czsA5spI",
        "outputId": "1e56101b-f3d6-4df2-ea59-487ef1a251f6"
      },
      "execution_count": 131,
      "outputs": [
        {
          "output_type": "execute_result",
          "data": {
            "text/plain": [
              "array([[0.71560128, 0.41051979, 0.19100696, 0.96749431, 0.65075037,\n",
              "        0.86545985, 0.02524236, 0.26690581],\n",
              "       [0.5020711 , 0.06744864, 0.99303326, 0.2364624 , 0.37429218,\n",
              "        0.21401191, 0.10544587, 0.23247979],\n",
              "       [0.30061014, 0.63444227, 0.28123478, 0.36227676, 0.00594284,\n",
              "        0.36571913, 0.53388598, 0.16201584],\n",
              "       [0.59743311, 0.29315247, 0.63205049, 0.02619661, 0.88759346,\n",
              "        0.01611863, 0.12695803, 0.77716246],\n",
              "       [0.04589523, 0.71099869, 0.97104614, 0.87168293, 0.71016165,\n",
              "        0.95850974, 0.42981334, 0.87287891]])"
            ]
          },
          "metadata": {},
          "execution_count": 131
        }
      ]
    },
    {
      "cell_type": "markdown",
      "metadata": {
        "id": "uigxR6T1tw78"
      },
      "source": [
        "### element-wise comparison"
      ]
    },
    {
      "cell_type": "code",
      "execution_count": 134,
      "metadata": {
        "id": "ELfY3yzBtw78"
      },
      "outputs": [],
      "source": [
        "arr1 = np.array([1,2,3,4,5])\n",
        "arr2 = np.array([5,4,3,2,1])"
      ]
    },
    {
      "cell_type": "code",
      "execution_count": 135,
      "metadata": {
        "colab": {
          "base_uri": "https://localhost:8080/"
        },
        "id": "YMa-h3Kktw78",
        "outputId": "278032b0-ef17-4111-ef26-4326462a1e61"
      },
      "outputs": [
        {
          "output_type": "stream",
          "name": "stdout",
          "text": [
            "[False False  True False False]\n",
            "[ True  True False False False]\n"
          ]
        }
      ],
      "source": [
        "# return an array of bools\n",
        "print(arr1 == arr2)\n",
        "print(arr1 < 3)"
      ]
    },
    {
      "cell_type": "markdown",
      "metadata": {
        "id": "prRXTE8Ttw78"
      },
      "source": [
        "# 5. Slicing & Indexing"
      ]
    },
    {
      "cell_type": "code",
      "execution_count": 144,
      "metadata": {
        "id": "b49-55xDtw78"
      },
      "outputs": [],
      "source": [
        "arr = np.array(range(100)).reshape((10,10))"
      ]
    },
    {
      "cell_type": "code",
      "source": [
        "arr"
      ],
      "metadata": {
        "colab": {
          "base_uri": "https://localhost:8080/"
        },
        "id": "lMg6bLqj6JmS",
        "outputId": "735f5bc1-037c-410f-cda4-abdbdf1bc899"
      },
      "execution_count": 145,
      "outputs": [
        {
          "output_type": "execute_result",
          "data": {
            "text/plain": [
              "array([[ 0,  1,  2,  3,  4,  5,  6,  7,  8,  9],\n",
              "       [10, 11, 12, 13, 14, 15, 16, 17, 18, 19],\n",
              "       [20, 21, 22, 23, 24, 25, 26, 27, 28, 29],\n",
              "       [30, 31, 32, 33, 34, 35, 36, 37, 38, 39],\n",
              "       [40, 41, 42, 43, 44, 45, 46, 47, 48, 49],\n",
              "       [50, 51, 52, 53, 54, 55, 56, 57, 58, 59],\n",
              "       [60, 61, 62, 63, 64, 65, 66, 67, 68, 69],\n",
              "       [70, 71, 72, 73, 74, 75, 76, 77, 78, 79],\n",
              "       [80, 81, 82, 83, 84, 85, 86, 87, 88, 89],\n",
              "       [90, 91, 92, 93, 94, 95, 96, 97, 98, 99]])"
            ]
          },
          "metadata": {},
          "execution_count": 145
        }
      ]
    },
    {
      "cell_type": "markdown",
      "metadata": {
        "id": "aNdrpkYetw78"
      },
      "source": [
        "### select an element by row and column indices"
      ]
    },
    {
      "cell_type": "code",
      "execution_count": 146,
      "metadata": {
        "colab": {
          "base_uri": "https://localhost:8080/"
        },
        "id": "ThqJigFOtw78",
        "outputId": "7358a634-fcfd-43d7-d032-f10e1583f1c4"
      },
      "outputs": [
        {
          "output_type": "stream",
          "name": "stdout",
          "text": [
            "55\n",
            "55\n"
          ]
        }
      ],
      "source": [
        "print(arr[5][5])\n",
        "# or more concisely\n",
        "print(arr[5,5])"
      ]
    },
    {
      "cell_type": "markdown",
      "metadata": {
        "id": "R0EEuFZvtw78"
      },
      "source": [
        "### indexing with slicing"
      ]
    },
    {
      "cell_type": "code",
      "execution_count": 147,
      "metadata": {
        "colab": {
          "base_uri": "https://localhost:8080/"
        },
        "id": "aFx-ReQEtw78",
        "outputId": "5317fb1b-f1ac-48ab-9b95-a467e197f5f8"
      },
      "outputs": [
        {
          "output_type": "stream",
          "name": "stdout",
          "text": [
            "[[14 15]\n",
            " [24 25]]\n"
          ]
        }
      ],
      "source": [
        "print(arr[1:3, 4:6])"
      ]
    },
    {
      "cell_type": "code",
      "execution_count": 149,
      "metadata": {
        "colab": {
          "base_uri": "https://localhost:8080/"
        },
        "id": "JbBuIPSKtw78",
        "outputId": "fff555d5-45db-4cc8-e17f-962fed38e8a1"
      },
      "outputs": [
        {
          "output_type": "stream",
          "name": "stdout",
          "text": [
            "[[[0 1]\n",
            "  [2 3]]\n",
            "\n",
            " [[4 5]\n",
            "  [6 7]]]\n"
          ]
        }
      ],
      "source": [
        "# ellipsis slicing: auto-complete the dimensions\n",
        "arr = np.array(range(16)).reshape(2,2,2,2)\n",
        "# equivalent to arr[0,:,:,:]\n",
        "print(arr[0, ...])"
      ]
    },
    {
      "cell_type": "code",
      "source": [
        "arr"
      ],
      "metadata": {
        "colab": {
          "base_uri": "https://localhost:8080/"
        },
        "id": "a9wFAaUR6WEk",
        "outputId": "f463ce45-be4b-418d-cfe3-9f11df158361"
      },
      "execution_count": 150,
      "outputs": [
        {
          "output_type": "execute_result",
          "data": {
            "text/plain": [
              "array([[[[ 0,  1],\n",
              "         [ 2,  3]],\n",
              "\n",
              "        [[ 4,  5],\n",
              "         [ 6,  7]]],\n",
              "\n",
              "\n",
              "       [[[ 8,  9],\n",
              "         [10, 11]],\n",
              "\n",
              "        [[12, 13],\n",
              "         [14, 15]]]])"
            ]
          },
          "metadata": {},
          "execution_count": 150
        }
      ]
    },
    {
      "cell_type": "markdown",
      "metadata": {
        "id": "yEJRkxbPtw79"
      },
      "source": [
        "### assign a scalar to a slice by broadcasting"
      ]
    },
    {
      "cell_type": "code",
      "execution_count": 151,
      "metadata": {
        "colab": {
          "base_uri": "https://localhost:8080/"
        },
        "id": "BN1uUL8rtw79",
        "outputId": "0fd2beca-ead5-439d-8ab9-482ca50f2162"
      },
      "outputs": [
        {
          "output_type": "stream",
          "name": "stdout",
          "text": [
            "[[[[  0   1]\n",
            "   [  2   3]]\n",
            "\n",
            "  [[  4   5]\n",
            "   [  6   7]]]\n",
            "\n",
            "\n",
            " [[[100 100]\n",
            "   [100 100]]\n",
            "\n",
            "  [[100 100]\n",
            "   [100 100]]]]\n"
          ]
        }
      ],
      "source": [
        "arr[1:3,:] = 100    # or simply arr[1:3]\n",
        "arr[:,8:] = 100\n",
        "print(arr)"
      ]
    },
    {
      "cell_type": "markdown",
      "metadata": {
        "id": "ytnnOQUstw79"
      },
      "source": [
        "### boolean indexing"
      ]
    },
    {
      "cell_type": "code",
      "execution_count": 152,
      "metadata": {
        "colab": {
          "base_uri": "https://localhost:8080/"
        },
        "id": "rY01aMO4tw79",
        "outputId": "22bef651-a657-4c43-e389-bdd35c9a8129"
      },
      "outputs": [
        {
          "output_type": "stream",
          "name": "stdout",
          "text": [
            "[[ 0  1  2  3  4]\n",
            " [ 5  6  7  8  9]\n",
            " [15 16 17 18 19]]\n"
          ]
        }
      ],
      "source": [
        "arr1 = np.arange(25).reshape((5,5))\n",
        "bools = np.array([True, True, False, True, False])\n",
        "print(arr1[bools])"
      ]
    },
    {
      "cell_type": "code",
      "execution_count": 153,
      "metadata": {
        "colab": {
          "base_uri": "https://localhost:8080/"
        },
        "id": "4QgtfRQDtw79",
        "outputId": "18dc5200-f068-459c-a36e-89b68fd675da"
      },
      "outputs": [
        {
          "output_type": "stream",
          "name": "stdout",
          "text": [
            "[[10 11 12 13 14]\n",
            " [20 21 22 23 24]]\n"
          ]
        }
      ],
      "source": [
        "# negate the condition\n",
        "print(arr1[~bools])"
      ]
    },
    {
      "cell_type": "code",
      "execution_count": 154,
      "metadata": {
        "colab": {
          "base_uri": "https://localhost:8080/"
        },
        "id": "8ayCYad3tw79",
        "outputId": "cbf6cc62-2079-4857-a7c2-15f5958e0982"
      },
      "outputs": [
        {
          "output_type": "stream",
          "name": "stdout",
          "text": [
            "[[ 0  1  2  3  4]\n",
            " [20 21 22 23 24]]\n"
          ]
        }
      ],
      "source": [
        "arr2 = np.array([1,2,3,4,5])\n",
        "# multiple conditions\n",
        "print(arr1[(arr2<2) | (arr2>4)])"
      ]
    },
    {
      "cell_type": "markdown",
      "metadata": {
        "id": "LkABgCMLtw7-"
      },
      "source": [
        "### fancy indexing"
      ]
    },
    {
      "cell_type": "code",
      "execution_count": 155,
      "metadata": {
        "id": "2rG6fDamtw7-"
      },
      "outputs": [],
      "source": [
        "arr = np.random.rand(10,10)"
      ]
    },
    {
      "cell_type": "code",
      "source": [
        "arr"
      ],
      "metadata": {
        "colab": {
          "base_uri": "https://localhost:8080/"
        },
        "id": "znxQzDpp6tIf",
        "outputId": "aced67d4-d201-4fa4-a1f6-e06c0df8ee2e"
      },
      "execution_count": 156,
      "outputs": [
        {
          "output_type": "execute_result",
          "data": {
            "text/plain": [
              "array([[0.35595767, 0.92976365, 0.14877766, 0.94002901, 0.8327162 ,\n",
              "        0.84605484, 0.12392301, 0.5964869 , 0.01639248, 0.72118437],\n",
              "       [0.00773751, 0.08482228, 0.22549841, 0.87512453, 0.36357632,\n",
              "        0.53995994, 0.56810321, 0.22546336, 0.57214677, 0.6609518 ],\n",
              "       [0.29824539, 0.41862686, 0.45308892, 0.93235066, 0.58749375,\n",
              "        0.94825237, 0.55603475, 0.50056142, 0.00353221, 0.48088904],\n",
              "       [0.927455  , 0.19836569, 0.05209113, 0.40677889, 0.37239648,\n",
              "        0.85715306, 0.02661112, 0.92014923, 0.680903  , 0.90422599],\n",
              "       [0.60752907, 0.81195331, 0.33554387, 0.34956623, 0.38987423,\n",
              "        0.75479708, 0.36929117, 0.24221981, 0.93766836, 0.90801108],\n",
              "       [0.34879732, 0.63463807, 0.27384221, 0.20611513, 0.33633953,\n",
              "        0.32709989, 0.8822761 , 0.82230381, 0.70962323, 0.95934523],\n",
              "       [0.42254335, 0.24503304, 0.11739844, 0.30105336, 0.14526373,\n",
              "        0.0921861 , 0.6029322 , 0.36418745, 0.56457034, 0.19133572],\n",
              "       [0.67690586, 0.21550545, 0.27802359, 0.74176042, 0.5597379 ,\n",
              "        0.33483641, 0.54298878, 0.6939847 , 0.91213212, 0.58071321],\n",
              "       [0.23268638, 0.74669763, 0.77776902, 0.20040131, 0.82057422,\n",
              "        0.46493485, 0.77976666, 0.23747822, 0.33258027, 0.95369712],\n",
              "       [0.65781507, 0.77287783, 0.68837434, 0.20430412, 0.47068875,\n",
              "        0.80896387, 0.67503513, 0.00602789, 0.08740774, 0.34679472]])"
            ]
          },
          "metadata": {},
          "execution_count": 156
        }
      ]
    },
    {
      "cell_type": "code",
      "execution_count": 159,
      "metadata": {
        "colab": {
          "base_uri": "https://localhost:8080/"
        },
        "id": "tdLJEqHYtw7-",
        "outputId": "05bb9feb-91c5-415d-f01e-781d6a38be07"
      },
      "outputs": [
        {
          "output_type": "stream",
          "name": "stdout",
          "text": [
            "[0.40677889 0.22549841 0.41862686]\n"
          ]
        }
      ],
      "source": [
        "# select arr[3,3], arr[1,2], arr[2,1]\n",
        "print(arr[[3,1,2], [3,2,1]])"
      ]
    },
    {
      "cell_type": "code",
      "source": [
        "arr[[3,1,2]]"
      ],
      "metadata": {
        "colab": {
          "base_uri": "https://localhost:8080/"
        },
        "id": "OOGVxoN67DsK",
        "outputId": "9bd9eb1b-97da-4107-a5c8-bede58653ee0"
      },
      "execution_count": 160,
      "outputs": [
        {
          "output_type": "execute_result",
          "data": {
            "text/plain": [
              "array([[0.927455  , 0.19836569, 0.05209113, 0.40677889, 0.37239648,\n",
              "        0.85715306, 0.02661112, 0.92014923, 0.680903  , 0.90422599],\n",
              "       [0.00773751, 0.08482228, 0.22549841, 0.87512453, 0.36357632,\n",
              "        0.53995994, 0.56810321, 0.22546336, 0.57214677, 0.6609518 ],\n",
              "       [0.29824539, 0.41862686, 0.45308892, 0.93235066, 0.58749375,\n",
              "        0.94825237, 0.55603475, 0.50056142, 0.00353221, 0.48088904]])"
            ]
          },
          "metadata": {},
          "execution_count": 160
        }
      ]
    },
    {
      "cell_type": "code",
      "execution_count": 161,
      "metadata": {
        "colab": {
          "base_uri": "https://localhost:8080/"
        },
        "id": "V88pWtxTtw7-",
        "outputId": "f112242e-6206-4dc1-f4c7-7bf619e6c552"
      },
      "outputs": [
        {
          "output_type": "stream",
          "name": "stdout",
          "text": [
            "[[0.02661112 0.37239648 0.680903  ]\n",
            " [0.56810321 0.36357632 0.57214677]\n",
            " [0.55603475 0.58749375 0.00353221]]\n"
          ]
        }
      ],
      "source": [
        "# select rows 3,1,2 and columns 6,4,8\n",
        "print(arr[[3,1,2]][:, [6,4,8]])"
      ]
    },
    {
      "cell_type": "markdown",
      "metadata": {
        "id": "fn4rxjE7tw7-"
      },
      "source": [
        "### dimension inference"
      ]
    },
    {
      "cell_type": "code",
      "execution_count": 162,
      "metadata": {
        "colab": {
          "base_uri": "https://localhost:8080/"
        },
        "id": "zfZaW91Otw7-",
        "outputId": "0913432a-2aaa-4011-9444-c372b505505a"
      },
      "outputs": [
        {
          "output_type": "stream",
          "name": "stdout",
          "text": [
            "(4, 4)\n"
          ]
        }
      ],
      "source": [
        "# dimension inference using any negative number (usually -1)\n",
        "arr = np.array(range(16)).reshape((4,-1))\n",
        "print(arr.shape)"
      ]
    },
    {
      "cell_type": "markdown",
      "metadata": {
        "id": "BvNi4O6Ytw7-"
      },
      "source": [
        "### find elements/indices by conditions"
      ]
    },
    {
      "cell_type": "code",
      "execution_count": 163,
      "metadata": {
        "id": "gQk-KxzRtw7-"
      },
      "outputs": [],
      "source": [
        "arr = np.arange(16).reshape(4,4)"
      ]
    },
    {
      "cell_type": "code",
      "source": [
        "arr"
      ],
      "metadata": {
        "colab": {
          "base_uri": "https://localhost:8080/"
        },
        "id": "UqQICm6e7dPh",
        "outputId": "4b8205d7-5c92-4ab3-b38e-b0dbe3dc2a72"
      },
      "execution_count": 170,
      "outputs": [
        {
          "output_type": "execute_result",
          "data": {
            "text/plain": [
              "array([[ 0,  1,  2,  3],\n",
              "       [ 4,  5,  6,  7],\n",
              "       [ 8,  9, 10, 11],\n",
              "       [12, 13, 14, 15]])"
            ]
          },
          "metadata": {},
          "execution_count": 170
        }
      ]
    },
    {
      "cell_type": "code",
      "execution_count": 164,
      "metadata": {
        "colab": {
          "base_uri": "https://localhost:8080/"
        },
        "id": "WNEdxmbitw7-",
        "outputId": "527343bb-ee80-48bb-adf1-23d23615c3f5"
      },
      "outputs": [
        {
          "output_type": "stream",
          "name": "stdout",
          "text": [
            "[ 6  7  8  9 10 11 12 13 14 15]\n"
          ]
        }
      ],
      "source": [
        "# find the elements greater than 5 and return a flattened array\n",
        "print(arr[arr>5])    # or arr[np.where(arr>5)]"
      ]
    },
    {
      "cell_type": "code",
      "source": [
        "arr[np.where(arr>5)]"
      ],
      "metadata": {
        "colab": {
          "base_uri": "https://localhost:8080/"
        },
        "id": "oB3MCrYn7MT4",
        "outputId": "bfa326e7-87d2-4bd4-ed8c-60f288e4f8b8"
      },
      "execution_count": 167,
      "outputs": [
        {
          "output_type": "execute_result",
          "data": {
            "text/plain": [
              "array([ 6,  7,  8,  9, 10, 11, 12, 13, 14, 15])"
            ]
          },
          "metadata": {},
          "execution_count": 167
        }
      ]
    },
    {
      "cell_type": "code",
      "execution_count": 168,
      "metadata": {
        "colab": {
          "base_uri": "https://localhost:8080/"
        },
        "id": "jsVFmzUEtw7-",
        "outputId": "a1ea5aa3-09fd-4192-d638-127ab87a605d"
      },
      "outputs": [
        {
          "output_type": "stream",
          "name": "stdout",
          "text": [
            "[[10 10 10 10]\n",
            " [10 10 -1 -1]\n",
            " [-1 -1 -1 -1]\n",
            " [-1 -1 -1 -1]]\n"
          ]
        }
      ],
      "source": [
        "# return values based on conditions\n",
        "# np.where(condition, true_return, false_return)\n",
        "print(np.where(arr>5, -1, 10))"
      ]
    },
    {
      "cell_type": "code",
      "execution_count": 171,
      "metadata": {
        "colab": {
          "base_uri": "https://localhost:8080/"
        },
        "id": "MQ78Ydcytw7-",
        "outputId": "907aeb8e-f91d-4484-b7fc-1c81d87693de"
      },
      "outputs": [
        {
          "output_type": "stream",
          "name": "stdout",
          "text": [
            "[[1 2]\n",
            " [1 3]\n",
            " [2 0]\n",
            " [2 1]\n",
            " [2 2]\n",
            " [2 3]\n",
            " [3 0]\n",
            " [3 1]\n",
            " [3 2]\n",
            " [3 3]]\n"
          ]
        }
      ],
      "source": [
        "# find the indices of the elements on conditions\n",
        "print(np.argwhere(arr>5))"
      ]
    },
    {
      "cell_type": "markdown",
      "metadata": {
        "id": "yH5M8jc0tw7-"
      },
      "source": [
        "# 6. Sort an Array"
      ]
    },
    {
      "cell_type": "code",
      "execution_count": 172,
      "metadata": {
        "id": "lHLbY-xutw7_"
      },
      "outputs": [],
      "source": [
        "arr = np.random.rand(5,5)"
      ]
    },
    {
      "cell_type": "code",
      "source": [
        "arr"
      ],
      "metadata": {
        "colab": {
          "base_uri": "https://localhost:8080/"
        },
        "id": "QhPOgZq_7rz5",
        "outputId": "4b0611b1-e092-4bef-d1c3-8b8e9df4bfa0"
      },
      "execution_count": 174,
      "outputs": [
        {
          "output_type": "execute_result",
          "data": {
            "text/plain": [
              "array([[0.94436554, 0.49119048, 0.27017627, 0.36042372, 0.21065263],\n",
              "       [0.42120006, 0.21803544, 0.84575251, 0.4562706 , 0.27980202],\n",
              "       [0.93289165, 0.31435135, 0.90971466, 0.04341809, 0.70711506],\n",
              "       [0.48388904, 0.44422106, 0.03632334, 0.04068319, 0.33275362],\n",
              "       [0.94711954, 0.61765998, 0.36887484, 0.61197704, 0.20613154]])"
            ]
          },
          "metadata": {},
          "execution_count": 174
        }
      ]
    },
    {
      "cell_type": "markdown",
      "metadata": {
        "id": "bBpV2nigtw7_"
      },
      "source": [
        "### sort an array along a specified axis"
      ]
    },
    {
      "cell_type": "code",
      "execution_count": 175,
      "metadata": {
        "colab": {
          "base_uri": "https://localhost:8080/"
        },
        "id": "JMKJZ1Litw7_",
        "outputId": "6f19410f-2974-4bb5-ce86-3df4318defbb"
      },
      "outputs": [
        {
          "output_type": "stream",
          "name": "stdout",
          "text": [
            "[[0.42120006 0.21803544 0.03632334 0.04068319 0.20613154]\n",
            " [0.48388904 0.31435135 0.27017627 0.04341809 0.21065263]\n",
            " [0.93289165 0.44422106 0.36887484 0.36042372 0.27980202]\n",
            " [0.94436554 0.49119048 0.84575251 0.4562706  0.33275362]\n",
            " [0.94711954 0.61765998 0.90971466 0.61197704 0.70711506]]\n"
          ]
        }
      ],
      "source": [
        "# sort along the row and return a copy\n",
        "print(np.sort(arr, axis=0))"
      ]
    },
    {
      "cell_type": "code",
      "execution_count": 176,
      "metadata": {
        "colab": {
          "base_uri": "https://localhost:8080/"
        },
        "id": "bJxYh-Nutw7_",
        "outputId": "a0461168-ec2a-452e-a3b3-feef9e824956"
      },
      "outputs": [
        {
          "output_type": "stream",
          "name": "stdout",
          "text": [
            "[[0.42120006 0.21803544 0.03632334 0.04068319 0.20613154]\n",
            " [0.48388904 0.31435135 0.27017627 0.04341809 0.21065263]\n",
            " [0.93289165 0.44422106 0.36887484 0.36042372 0.27980202]\n",
            " [0.94436554 0.49119048 0.84575251 0.4562706  0.33275362]\n",
            " [0.94711954 0.61765998 0.90971466 0.61197704 0.70711506]]\n"
          ]
        }
      ],
      "source": [
        "# sort along the row in place\n",
        "arr.sort(axis=0)\n",
        "print(arr)"
      ]
    },
    {
      "cell_type": "code",
      "execution_count": 177,
      "metadata": {
        "colab": {
          "base_uri": "https://localhost:8080/"
        },
        "id": "X2dw97gQtw7_",
        "outputId": "7944c4dd-0163-47e5-a8c2-6ada9a83385b"
      },
      "outputs": [
        {
          "output_type": "stream",
          "name": "stdout",
          "text": [
            "[[0.03632334 0.04068319 0.20613154 0.21803544 0.42120006]\n",
            " [0.04341809 0.21065263 0.27017627 0.31435135 0.48388904]\n",
            " [0.27980202 0.36042372 0.36887484 0.44422106 0.93289165]\n",
            " [0.33275362 0.4562706  0.49119048 0.84575251 0.94436554]\n",
            " [0.61197704 0.61765998 0.70711506 0.90971466 0.94711954]]\n"
          ]
        }
      ],
      "source": [
        "# sort along the column and return a copy\n",
        "print(np.sort(arr, axis=1))"
      ]
    },
    {
      "cell_type": "code",
      "execution_count": 178,
      "metadata": {
        "colab": {
          "base_uri": "https://localhost:8080/"
        },
        "id": "mUMrr_urtw7_",
        "outputId": "48bc1c6a-fb8c-4a66-87db-10e3b4ff9f11"
      },
      "outputs": [
        {
          "output_type": "stream",
          "name": "stdout",
          "text": [
            "[[0.03632334 0.04068319 0.20613154 0.21803544 0.42120006]\n",
            " [0.04341809 0.21065263 0.27017627 0.31435135 0.48388904]\n",
            " [0.27980202 0.36042372 0.36887484 0.44422106 0.93289165]\n",
            " [0.33275362 0.4562706  0.49119048 0.84575251 0.94436554]\n",
            " [0.61197704 0.61765998 0.70711506 0.90971466 0.94711954]]\n"
          ]
        }
      ],
      "source": [
        "# sort along the column in place\n",
        "arr.sort(axis=1)\n",
        "print(arr)"
      ]
    },
    {
      "cell_type": "markdown",
      "metadata": {
        "id": "dxbilSsWtw7_"
      },
      "source": [
        "### compute the indices that would sort an array along a specified axis"
      ]
    },
    {
      "cell_type": "code",
      "execution_count": 180,
      "metadata": {
        "colab": {
          "base_uri": "https://localhost:8080/"
        },
        "id": "b7iWY0qgtw7_",
        "outputId": "24935aee-148d-4a56-a334-79e26a923eaa"
      },
      "outputs": [
        {
          "output_type": "execute_result",
          "data": {
            "text/plain": [
              "array([[0.86831471, 0.28047698, 0.02057616, 0.91809702, 0.86448028],\n",
              "       [0.27690179, 0.52348755, 0.1090882 , 0.09342707, 0.83746611],\n",
              "       [0.41026572, 0.66171654, 0.94320056, 0.24513059, 0.01315983],\n",
              "       [0.02414841, 0.70938569, 0.92455188, 0.46733027, 0.37510915],\n",
              "       [0.54286042, 0.85891684, 0.65215387, 0.2329799 , 0.7745802 ]])"
            ]
          },
          "metadata": {},
          "execution_count": 180
        }
      ],
      "source": [
        "arr = np.random.rand(5,5)\n",
        "arr"
      ]
    },
    {
      "cell_type": "code",
      "execution_count": 181,
      "metadata": {
        "colab": {
          "base_uri": "https://localhost:8080/"
        },
        "id": "04n7dVu-tw7_",
        "outputId": "1c70c821-6c37-4824-f43b-10620d59c72b"
      },
      "outputs": [
        {
          "output_type": "stream",
          "name": "stdout",
          "text": [
            "[[3 0 0 1 2]\n",
            " [1 1 1 4 3]\n",
            " [2 2 4 2 4]\n",
            " [4 3 3 3 1]\n",
            " [0 4 2 0 0]]\n"
          ]
        }
      ],
      "source": [
        "# along the row\n",
        "print(np.argsort(arr, axis=0))"
      ]
    },
    {
      "cell_type": "code",
      "execution_count": 182,
      "metadata": {
        "id": "oAYY5bkEtw8A"
      },
      "outputs": [],
      "source": [
        "arr = np.random.rand(3,4)"
      ]
    },
    {
      "cell_type": "markdown",
      "metadata": {
        "id": "LCpnGRfytw8A"
      },
      "source": [
        "# 7. Manipulate an Array"
      ]
    },
    {
      "cell_type": "markdown",
      "metadata": {
        "id": "qjIGD7Jhtw8A"
      },
      "source": [
        "### transpose an array"
      ]
    },
    {
      "cell_type": "code",
      "execution_count": 183,
      "metadata": {
        "colab": {
          "base_uri": "https://localhost:8080/"
        },
        "id": "Xzns1xkGtw8A",
        "outputId": "fa1e910b-683c-49aa-f53e-4e7506f25f83"
      },
      "outputs": [
        {
          "output_type": "stream",
          "name": "stdout",
          "text": [
            "[[0.1346135  0.70477855 0.04061612]\n",
            " [0.16555997 0.34951853 0.64582252]\n",
            " [0.61268228 0.27742396 0.03869959]\n",
            " [0.23878341 0.99891841 0.76021026]]\n",
            "[[0.1346135  0.70477855 0.04061612]\n",
            " [0.16555997 0.34951853 0.64582252]\n",
            " [0.61268228 0.27742396 0.03869959]\n",
            " [0.23878341 0.99891841 0.76021026]]\n",
            "[[0.1346135  0.70477855 0.04061612]\n",
            " [0.16555997 0.34951853 0.64582252]\n",
            " [0.61268228 0.27742396 0.03869959]\n",
            " [0.23878341 0.99891841 0.76021026]]\n"
          ]
        }
      ],
      "source": [
        "# the following methods return a copy\n",
        "print(arr.T)\n",
        "# or\n",
        "print(np.transpose(arr))\n",
        "# or\n",
        "print(arr.transpose())"
      ]
    },
    {
      "cell_type": "markdown",
      "metadata": {
        "id": "QWrPb99atw8D"
      },
      "source": [
        "### transpose of a high dimensional array with specified order of axes"
      ]
    },
    {
      "cell_type": "code",
      "execution_count": 184,
      "metadata": {
        "colab": {
          "base_uri": "https://localhost:8080/"
        },
        "id": "P5E36Gf1tw8D",
        "outputId": "b89b1b48-b378-4be0-b7e2-e17269d733bb"
      },
      "outputs": [
        {
          "output_type": "stream",
          "name": "stdout",
          "text": [
            "[[[ 0  1  2  3]\n",
            "  [ 4  5  6  7]]\n",
            "\n",
            " [[ 8  9 10 11]\n",
            "  [12 13 14 15]]]\n",
            "[[[ 0  1  2  3]\n",
            "  [ 4  5  6  7]]\n",
            "\n",
            " [[ 8  9 10 11]\n",
            "  [12 13 14 15]]]\n"
          ]
        }
      ],
      "source": [
        "arr1 = np.arange(16).reshape((2,2,4))\n",
        "print(arr1)\n",
        "\n",
        "arr1.transpose((1,0,2))\n",
        "print(arr1)"
      ]
    },
    {
      "cell_type": "markdown",
      "metadata": {
        "id": "dfrsP_8Ytw8D"
      },
      "source": [
        "### swap axes"
      ]
    },
    {
      "cell_type": "code",
      "execution_count": 185,
      "metadata": {
        "colab": {
          "base_uri": "https://localhost:8080/"
        },
        "id": "zQ8oK4r1tw8D",
        "outputId": "ef35445c-30ef-450d-c9cf-953c66799eb5"
      },
      "outputs": [
        {
          "output_type": "stream",
          "name": "stdout",
          "text": [
            "[[[ 0  4]\n",
            "  [ 1  5]\n",
            "  [ 2  6]\n",
            "  [ 3  7]]\n",
            "\n",
            " [[ 8 12]\n",
            "  [ 9 13]\n",
            "  [10 14]\n",
            "  [11 15]]]\n"
          ]
        }
      ],
      "source": [
        "arr1 = np.arange(16).reshape((2,2,4))\n",
        "print(arr1.swapaxes(1,2))"
      ]
    },
    {
      "cell_type": "markdown",
      "metadata": {
        "id": "aCo14PNptw8D"
      },
      "source": [
        "### change the shape of an array"
      ]
    },
    {
      "cell_type": "code",
      "execution_count": 186,
      "metadata": {
        "colab": {
          "base_uri": "https://localhost:8080/"
        },
        "id": "Ad4BzWZptw8E",
        "outputId": "d3b4a3dc-b99e-4767-ed27-6c1da4fc5df8"
      },
      "outputs": [
        {
          "output_type": "execute_result",
          "data": {
            "text/plain": [
              "array([[0.1346135 , 0.16555997, 0.61268228, 0.23878341, 0.70477855,\n",
              "        0.34951853],\n",
              "       [0.27742396, 0.99891841, 0.04061612, 0.64582252, 0.03869959,\n",
              "        0.76021026]])"
            ]
          },
          "metadata": {},
          "execution_count": 186
        }
      ],
      "source": [
        "# change the shape of an array and return a copy\n",
        "arr.reshape((2,6))"
      ]
    },
    {
      "cell_type": "code",
      "execution_count": 187,
      "metadata": {
        "id": "8WSgDgqgtw8E"
      },
      "outputs": [],
      "source": [
        "# change the shape of an array in place\n",
        "arr.resize((2,6))"
      ]
    },
    {
      "cell_type": "markdown",
      "metadata": {
        "id": "kLlWEYlAtw8E"
      },
      "source": [
        "### flatten an array"
      ]
    },
    {
      "cell_type": "code",
      "execution_count": 188,
      "metadata": {
        "colab": {
          "base_uri": "https://localhost:8080/"
        },
        "id": "ZqpsJ0j1tw8E",
        "outputId": "22c3a31d-7fbc-440c-d825-7965676ee59e"
      },
      "outputs": [
        {
          "output_type": "execute_result",
          "data": {
            "text/plain": [
              "array([0.1346135 , 0.16555997, 0.61268228, 0.23878341, 0.70477855,\n",
              "       0.34951853, 0.27742396, 0.99891841, 0.04061612, 0.64582252,\n",
              "       0.03869959, 0.76021026])"
            ]
          },
          "metadata": {},
          "execution_count": 188
        }
      ],
      "source": [
        "# return a copy\n",
        "arr.flatten()"
      ]
    },
    {
      "cell_type": "code",
      "execution_count": 190,
      "metadata": {
        "colab": {
          "base_uri": "https://localhost:8080/"
        },
        "id": "cq-QqV2_tw8E",
        "outputId": "6454ea53-62c5-4ab8-9a43-5219d81f120f"
      },
      "outputs": [
        {
          "output_type": "execute_result",
          "data": {
            "text/plain": [
              "array([0.1346135 , 0.16555997, 0.61268228, 0.23878341, 0.70477855,\n",
              "       0.34951853, 0.27742396, 0.99891841, 0.04061612, 0.64582252,\n",
              "       0.03869959, 0.76021026])"
            ]
          },
          "metadata": {},
          "execution_count": 190
        }
      ],
      "source": [
        "# return a view\n",
        "# change any element in the view will change the initial array\n",
        "x = arr.ravel()\n",
        "x"
      ]
    },
    {
      "cell_type": "code",
      "source": [
        "x[0] = 100\n",
        "arr"
      ],
      "metadata": {
        "colab": {
          "base_uri": "https://localhost:8080/"
        },
        "id": "XxTDMYEJAPS1",
        "outputId": "6ae66ae5-ab7b-4cb8-b1e4-f82faadd7e40"
      },
      "execution_count": 191,
      "outputs": [
        {
          "output_type": "execute_result",
          "data": {
            "text/plain": [
              "array([[1.00000000e+02, 1.65559971e-01, 6.12682283e-01, 2.38783406e-01,\n",
              "        7.04778548e-01, 3.49518527e-01],\n",
              "       [2.77423960e-01, 9.98918406e-01, 4.06161246e-02, 6.45822522e-01,\n",
              "        3.86995850e-02, 7.60210258e-01]])"
            ]
          },
          "metadata": {},
          "execution_count": 191
        }
      ]
    },
    {
      "cell_type": "markdown",
      "metadata": {
        "id": "-rOwNB-Gtw8E"
      },
      "source": [
        "### append elements to an array"
      ]
    },
    {
      "cell_type": "code",
      "execution_count": 192,
      "metadata": {
        "id": "LyFy4tjVtw8E"
      },
      "outputs": [],
      "source": [
        "arr = np.array([1,2,3])"
      ]
    },
    {
      "cell_type": "code",
      "execution_count": 193,
      "metadata": {
        "colab": {
          "base_uri": "https://localhost:8080/"
        },
        "id": "1R5bHKqytw8E",
        "outputId": "e98e2417-b8e0-4cac-99d4-0a0c65de640f"
      },
      "outputs": [
        {
          "output_type": "stream",
          "name": "stdout",
          "text": [
            "[1 2 3 4]\n"
          ]
        }
      ],
      "source": [
        "# append a scalar and return a copy\n",
        "arr1 = np.append(arr, 4)\n",
        "print(arr1)"
      ]
    },
    {
      "cell_type": "code",
      "execution_count": 194,
      "metadata": {
        "colab": {
          "base_uri": "https://localhost:8080/"
        },
        "id": "slpoPUdktw8E",
        "outputId": "2132c99e-f229-4483-dc89-b331d25837cb"
      },
      "outputs": [
        {
          "output_type": "stream",
          "name": "stdout",
          "text": [
            "[1 2 3 4 5 6]\n"
          ]
        }
      ],
      "source": [
        "# append an array and return a copy\n",
        "arr2 = np.append(arr, [4,5,6])\n",
        "print(arr2)"
      ]
    },
    {
      "cell_type": "markdown",
      "metadata": {
        "id": "ymb3a1v5tw8E"
      },
      "source": [
        "### insert elements into an array"
      ]
    },
    {
      "cell_type": "code",
      "execution_count": 196,
      "metadata": {
        "colab": {
          "base_uri": "https://localhost:8080/"
        },
        "id": "r22scF29tw8E",
        "outputId": "9a409f91-5a45-46c8-bd48-33b7d08a1d5f"
      },
      "outputs": [
        {
          "output_type": "stream",
          "name": "stdout",
          "text": [
            "[100   1   2   3]\n"
          ]
        }
      ],
      "source": [
        "# np.insert(array, position, element)\n",
        "\n",
        "# insert a scalar at a certain position\n",
        "arr3 = np.insert(arr, 0, 100)\n",
        "print(arr3)"
      ]
    },
    {
      "cell_type": "code",
      "execution_count": 197,
      "metadata": {
        "colab": {
          "base_uri": "https://localhost:8080/"
        },
        "id": "7foieW-Ctw8E",
        "outputId": "99e921d9-7541-402e-8d17-0fea3975dd24"
      },
      "outputs": [
        {
          "output_type": "stream",
          "name": "stdout",
          "text": [
            "[1 2 3 1 2 3]\n"
          ]
        }
      ],
      "source": [
        "# insert multiple values at a certain position\n",
        "arr3 = np.insert(arr, 0, [1,2,3])\n",
        "print(arr3)"
      ]
    },
    {
      "cell_type": "markdown",
      "metadata": {
        "id": "AY1tJ36ltw8F"
      },
      "source": [
        "### delete elements from an array"
      ]
    },
    {
      "cell_type": "code",
      "execution_count": 198,
      "metadata": {
        "colab": {
          "base_uri": "https://localhost:8080/"
        },
        "id": "CoUgdfGltw8F",
        "outputId": "c9197102-2ba4-4c0e-e0be-e976e62ba5e4"
      },
      "outputs": [
        {
          "output_type": "stream",
          "name": "stdout",
          "text": [
            "[2 3]\n"
          ]
        }
      ],
      "source": [
        "# remove the element at position 0\n",
        "arr4 = np.delete(arr, 0)\n",
        "print(arr4)"
      ]
    },
    {
      "cell_type": "code",
      "source": [
        "arrr = np.array([[1,2,3,4], [5,6,7,8], [9,10,11,12]])\n",
        "arrr = np.delete(arrr , [0,0])\n",
        "arrr"
      ],
      "metadata": {
        "colab": {
          "base_uri": "https://localhost:8080/"
        },
        "id": "C0glKs9jAlSQ",
        "outputId": "ad2edf2e-d5a4-4fc1-bda1-d68aa035f78c"
      },
      "execution_count": 205,
      "outputs": [
        {
          "output_type": "execute_result",
          "data": {
            "text/plain": [
              "array([ 2,  3,  4,  5,  6,  7,  8,  9, 10, 11, 12])"
            ]
          },
          "metadata": {},
          "execution_count": 205
        }
      ]
    },
    {
      "cell_type": "code",
      "execution_count": 206,
      "metadata": {
        "colab": {
          "base_uri": "https://localhost:8080/"
        },
        "id": "4-9Ahsritw8F",
        "outputId": "cfa5b2ce-bc82-43a2-8cbe-4906fad212e0"
      },
      "outputs": [
        {
          "output_type": "stream",
          "name": "stdout",
          "text": [
            "[2]\n"
          ]
        }
      ],
      "source": [
        "# remove the element at multiple positions\n",
        "arr4 = np.delete(arr, [0,2])\n",
        "print(arr4)"
      ]
    },
    {
      "cell_type": "markdown",
      "metadata": {
        "id": "7wCxGRDOtw8F"
      },
      "source": [
        "### copy an array"
      ]
    },
    {
      "cell_type": "code",
      "execution_count": 207,
      "metadata": {
        "id": "cgNktUIbtw8F"
      },
      "outputs": [],
      "source": [
        "arr = np.array([1,2,3])"
      ]
    },
    {
      "cell_type": "code",
      "execution_count": 208,
      "metadata": {
        "id": "YKvvlG73tw8F"
      },
      "outputs": [],
      "source": [
        "# the following methods are all deep copy\n",
        "arr1 = np.copy(arr)\n",
        "# or\n",
        "arr1 = arr.copy()\n",
        "# or\n",
        "arr1 = np.array(arr, copy=True)"
      ]
    },
    {
      "cell_type": "markdown",
      "metadata": {
        "id": "lteIs9nvtw8F"
      },
      "source": [
        "# 8. Combine & Split an Array"
      ]
    },
    {
      "cell_type": "code",
      "execution_count": 209,
      "metadata": {
        "id": "YG02j4sstw8F"
      },
      "outputs": [],
      "source": [
        "arr1 = np.array([[1,2,3,4], [1,2,3,4]])\n",
        "arr2 = np.array([[5,6,7,8], [5,6,7,8]])"
      ]
    },
    {
      "cell_type": "markdown",
      "metadata": {
        "id": "HFeUvq8wtw8F"
      },
      "source": [
        "### ```np.concatenate((a, b), axis=0)```"
      ]
    },
    {
      "cell_type": "code",
      "execution_count": 210,
      "metadata": {
        "colab": {
          "base_uri": "https://localhost:8080/"
        },
        "id": "3LhJ22NStw8F",
        "outputId": "f8b3a5cc-3860-4e39-82de-32ab777833ab"
      },
      "outputs": [
        {
          "output_type": "stream",
          "name": "stdout",
          "text": [
            "[[1 2 3 4]\n",
            " [1 2 3 4]\n",
            " [5 6 7 8]\n",
            " [5 6 7 8]]\n"
          ]
        }
      ],
      "source": [
        "# concat along the row\n",
        "cat = np.concatenate((arr1, arr2), axis=0)\n",
        "print(cat)"
      ]
    },
    {
      "cell_type": "code",
      "execution_count": 211,
      "metadata": {
        "colab": {
          "base_uri": "https://localhost:8080/"
        },
        "id": "6VuovKa7tw8F",
        "outputId": "58f47631-1e7b-4aab-bb07-3856da3b4095"
      },
      "outputs": [
        {
          "output_type": "stream",
          "name": "stdout",
          "text": [
            "[[1 2 3 4 5 6 7 8]\n",
            " [1 2 3 4 5 6 7 8]]\n"
          ]
        }
      ],
      "source": [
        "# concat along the column\n",
        "cat = np.concatenate((arr1, arr2), axis=1)\n",
        "print(cat)"
      ]
    },
    {
      "cell_type": "markdown",
      "metadata": {
        "id": "akaGX7g6tw8F"
      },
      "source": [
        "### ```np.vstack((a, b))```\n",
        "### ```np.r_[a, b]```"
      ]
    },
    {
      "cell_type": "code",
      "execution_count": 212,
      "metadata": {
        "colab": {
          "base_uri": "https://localhost:8080/"
        },
        "id": "8RCusmhztw8G",
        "outputId": "2999989c-bba9-4491-c272-73b1a3929dc5"
      },
      "outputs": [
        {
          "output_type": "stream",
          "name": "stdout",
          "text": [
            "[[1 2 3 4]\n",
            " [1 2 3 4]\n",
            " [5 6 7 8]\n",
            " [5 6 7 8]]\n"
          ]
        }
      ],
      "source": [
        "# stack arrays vertically\n",
        "cat = np.vstack((arr1, arr2))\n",
        "print(cat)"
      ]
    },
    {
      "cell_type": "code",
      "execution_count": 213,
      "metadata": {
        "colab": {
          "base_uri": "https://localhost:8080/"
        },
        "id": "a77e6357tw8G",
        "outputId": "5beec8ec-bfe9-4696-9c25-3fb9b291285d"
      },
      "outputs": [
        {
          "output_type": "stream",
          "name": "stdout",
          "text": [
            "[[1 2 3 4]\n",
            " [1 2 3 4]\n",
            " [5 6 7 8]\n",
            " [5 6 7 8]]\n"
          ]
        }
      ],
      "source": [
        "# stack arrays vertically\n",
        "cat = np.r_[arr1, arr2]\n",
        "print(cat)"
      ]
    },
    {
      "cell_type": "markdown",
      "metadata": {
        "id": "lsWxczDotw8G"
      },
      "source": [
        "### ```np.hstack((a, b))```\n",
        "### ```np.c_[a, b]```"
      ]
    },
    {
      "cell_type": "code",
      "execution_count": 214,
      "metadata": {
        "colab": {
          "base_uri": "https://localhost:8080/"
        },
        "id": "y5C-9Gaatw8G",
        "outputId": "cf82125f-6353-4dc2-ea12-bf6b3ce1d32c"
      },
      "outputs": [
        {
          "output_type": "stream",
          "name": "stdout",
          "text": [
            "[[1 2 3 4 5 6 7 8]\n",
            " [1 2 3 4 5 6 7 8]]\n"
          ]
        }
      ],
      "source": [
        "# stack arrays horizontally\n",
        "cat = np.hstack((arr1, arr2))\n",
        "print(cat)"
      ]
    },
    {
      "cell_type": "code",
      "execution_count": 215,
      "metadata": {
        "colab": {
          "base_uri": "https://localhost:8080/"
        },
        "id": "O_5IZfC6tw8G",
        "outputId": "1393307e-b5c4-4313-e19c-bab523443175"
      },
      "outputs": [
        {
          "output_type": "stream",
          "name": "stdout",
          "text": [
            "[[1 2 3 4 5 6 7 8]\n",
            " [1 2 3 4 5 6 7 8]]\n"
          ]
        }
      ],
      "source": [
        "# stack arrays horizontally\n",
        "cat = np.c_[arr1, arr2]\n",
        "print(cat)"
      ]
    },
    {
      "cell_type": "markdown",
      "metadata": {
        "id": "hBAc22FAtw8G"
      },
      "source": [
        "# 9. Set Operations"
      ]
    },
    {
      "cell_type": "markdown",
      "metadata": {
        "id": "rWBqelCstw8G"
      },
      "source": [
        "### select the unique elements from an array"
      ]
    },
    {
      "cell_type": "code",
      "execution_count": 219,
      "metadata": {
        "colab": {
          "base_uri": "https://localhost:8080/"
        },
        "id": "kmKiIxMWtw8G",
        "outputId": "b1fdc3df-6ddb-488f-a765-c0611bc62802"
      },
      "outputs": [
        {
          "output_type": "stream",
          "name": "stdout",
          "text": [
            "[1 2 3 4 5 6]\n"
          ]
        }
      ],
      "source": [
        "arr = np.array([1,1,2,2,3,3,4,5,6])\n",
        "print(np.unique(arr))"
      ]
    },
    {
      "cell_type": "code",
      "execution_count": 220,
      "metadata": {
        "colab": {
          "base_uri": "https://localhost:8080/"
        },
        "id": "h1P-WM-4tw8H",
        "outputId": "e8a1101e-3419-495f-c50a-925b4d55b263"
      },
      "outputs": [
        {
          "output_type": "stream",
          "name": "stdout",
          "text": [
            "[1 2 3 4 5 6]\n",
            "[2 2 2 1 1 1]\n"
          ]
        }
      ],
      "source": [
        "# return the number of times each unique item appears\n",
        "arr = np.array([1,1,2,2,3,3,4,5,6])\n",
        "uniques, counts = np.unique(arr, return_counts=True)\n",
        "print(uniques)\n",
        "print(counts)"
      ]
    },
    {
      "cell_type": "markdown",
      "metadata": {
        "id": "cLm5ZFWEtw8H"
      },
      "source": [
        "### compute the intersection & union of two arrays"
      ]
    },
    {
      "cell_type": "code",
      "execution_count": 221,
      "metadata": {
        "id": "XTF-wJqVtw8H"
      },
      "outputs": [],
      "source": [
        "arr1 = np.array([1,2,3,4,5])\n",
        "arr2 = np.array([3,4,5,6,7])"
      ]
    },
    {
      "cell_type": "code",
      "execution_count": 222,
      "metadata": {
        "colab": {
          "base_uri": "https://localhost:8080/"
        },
        "id": "s-wO4Wl-tw8H",
        "outputId": "c6ccd69a-0f25-4b3c-fb26-d36ff6030412"
      },
      "outputs": [
        {
          "output_type": "stream",
          "name": "stdout",
          "text": [
            "[3 4 5]\n"
          ]
        }
      ],
      "source": [
        "# intersection\n",
        "print(np.intersect1d(arr1, arr2))"
      ]
    },
    {
      "cell_type": "code",
      "execution_count": 223,
      "metadata": {
        "colab": {
          "base_uri": "https://localhost:8080/"
        },
        "id": "9Bnkbg_vtw8H",
        "outputId": "88887cf6-7b63-4940-df61-b2bf9717ed07"
      },
      "outputs": [
        {
          "output_type": "stream",
          "name": "stdout",
          "text": [
            "[1 2 3 4 5 6 7]\n"
          ]
        }
      ],
      "source": [
        "# union\n",
        "print(np.union1d(arr1, arr2))"
      ]
    },
    {
      "cell_type": "markdown",
      "metadata": {
        "id": "1Mer6IkFtw8H"
      },
      "source": [
        "### compute whether each element of an array is contained in another"
      ]
    },
    {
      "cell_type": "code",
      "execution_count": 224,
      "metadata": {
        "colab": {
          "base_uri": "https://localhost:8080/"
        },
        "id": "rdC6itu-tw8I",
        "outputId": "a0eec529-813a-435f-d859-a59574578553"
      },
      "outputs": [
        {
          "output_type": "stream",
          "name": "stdout",
          "text": [
            "[False False  True  True  True]\n"
          ]
        }
      ],
      "source": [
        "print(np.in1d(arr1, arr2))"
      ]
    },
    {
      "cell_type": "code",
      "execution_count": 226,
      "metadata": {
        "colab": {
          "base_uri": "https://localhost:8080/"
        },
        "id": "tIz4xHZDtw8I",
        "outputId": "e5507dc9-ebc1-48df-aa44-325afdf11b8c"
      },
      "outputs": [
        {
          "output_type": "stream",
          "name": "stdout",
          "text": [
            "[False False  True  True  True]\n"
          ]
        }
      ],
      "source": [
        "# preserve the shape of the array in the output, if the array is of higher dimensions\n",
        "print(np.isin(arr1, arr2))"
      ]
    },
    {
      "cell_type": "markdown",
      "metadata": {
        "id": "jnOn33Kmtw8I"
      },
      "source": [
        "### compute the elements in an array that are not in another"
      ]
    },
    {
      "cell_type": "code",
      "execution_count": 227,
      "metadata": {
        "colab": {
          "base_uri": "https://localhost:8080/"
        },
        "id": "jChmc2lbtw8I",
        "outputId": "af56e23b-e49d-45ee-b08c-2235f7e4f1a4"
      },
      "outputs": [
        {
          "output_type": "stream",
          "name": "stdout",
          "text": [
            "[1 2]\n"
          ]
        }
      ],
      "source": [
        "print(np.setdiff1d(arr1, arr2))"
      ]
    },
    {
      "cell_type": "markdown",
      "metadata": {
        "id": "e4sM1124tw8J"
      },
      "source": [
        "### compute the elements in either of two arrays, but not both"
      ]
    },
    {
      "cell_type": "code",
      "execution_count": 228,
      "metadata": {
        "colab": {
          "base_uri": "https://localhost:8080/"
        },
        "id": "66dc6Lxitw8J",
        "outputId": "b2941279-ea1d-4d56-b87e-d5e77221d365"
      },
      "outputs": [
        {
          "output_type": "stream",
          "name": "stdout",
          "text": [
            "[1 2 6 7]\n"
          ]
        }
      ],
      "source": [
        "print(np.setxor1d(arr1, arr2))"
      ]
    },
    {
      "cell_type": "markdown",
      "metadata": {
        "id": "_wgTHnkztw8J"
      },
      "source": [
        "# 10. Linear Algebra"
      ]
    },
    {
      "cell_type": "code",
      "execution_count": 229,
      "metadata": {
        "id": "1PMSHINPtw8J"
      },
      "outputs": [],
      "source": [
        "arr1 = np.random.rand(5,5)\n",
        "arr2 = np.random.rand(5,5)"
      ]
    },
    {
      "cell_type": "markdown",
      "metadata": {
        "id": "mWNNpzRatw8K"
      },
      "source": [
        "### matrix multiplication"
      ]
    },
    {
      "cell_type": "code",
      "execution_count": 230,
      "metadata": {
        "colab": {
          "base_uri": "https://localhost:8080/"
        },
        "id": "4qpaUg73tw8K",
        "outputId": "2744aebe-9a07-4a6a-91f4-9e39830c92d4"
      },
      "outputs": [
        {
          "output_type": "stream",
          "name": "stdout",
          "text": [
            "[[1.14593774 1.40904881 1.09469282 0.80214023 1.46232661]\n",
            " [1.09212873 1.19025398 0.81989156 0.78837689 1.24361687]\n",
            " [1.38431945 1.50010783 1.03060088 1.18603049 1.57122838]\n",
            " [0.67805148 0.98690735 0.81952501 0.6025586  1.02676732]\n",
            " [1.24986169 1.64054587 1.28637831 0.99915198 1.68841141]]\n",
            "[[1.14593774 1.40904881 1.09469282 0.80214023 1.46232661]\n",
            " [1.09212873 1.19025398 0.81989156 0.78837689 1.24361687]\n",
            " [1.38431945 1.50010783 1.03060088 1.18603049 1.57122838]\n",
            " [0.67805148 0.98690735 0.81952501 0.6025586  1.02676732]\n",
            " [1.24986169 1.64054587 1.28637831 0.99915198 1.68841141]]\n",
            "[[1.14593774 1.40904881 1.09469282 0.80214023 1.46232661]\n",
            " [1.09212873 1.19025398 0.81989156 0.78837689 1.24361687]\n",
            " [1.38431945 1.50010783 1.03060088 1.18603049 1.57122838]\n",
            " [0.67805148 0.98690735 0.81952501 0.6025586  1.02676732]\n",
            " [1.24986169 1.64054587 1.28637831 0.99915198 1.68841141]]\n"
          ]
        }
      ],
      "source": [
        "print(arr1.dot(arr2))\n",
        "# or\n",
        "print(np.dot(arr1, arr2))\n",
        "# or\n",
        "print(arr1 @ arr2)"
      ]
    },
    {
      "cell_type": "markdown",
      "metadata": {
        "id": "0oDm6uJGtw8K"
      },
      "source": [
        "### singular value decomposition (SVD)"
      ]
    },
    {
      "cell_type": "code",
      "execution_count": 231,
      "metadata": {
        "colab": {
          "base_uri": "https://localhost:8080/"
        },
        "id": "Qw_mx4b9tw8K",
        "outputId": "0f8759e4-e0c1-4622-8249-ebdba30f3e19"
      },
      "outputs": [
        {
          "output_type": "stream",
          "name": "stdout",
          "text": [
            "[[-0.54818591 -0.06892406 -0.09088782 -0.50439662 -0.65731662]\n",
            " [-0.26988968  0.17282672 -0.53694001  0.72907915 -0.27826157]\n",
            " [-0.31912442  0.10730484  0.83290649  0.4046519  -0.17078904]\n",
            " [-0.52462782  0.62917001 -0.07717698 -0.19669933  0.53316399]\n",
            " [-0.49957685 -0.74700145 -0.06119903  0.10767476  0.42079999]]\n",
            "[3.02499183 0.8007945  0.61800127 0.32613841 0.20704867]\n",
            "[[-0.36504402 -0.49652615 -0.60603533 -0.27095889 -0.42368279]\n",
            " [-0.40222904  0.26546285 -0.01958426 -0.70779347  0.51612608]\n",
            " [-0.35410117  0.13484243  0.6418895  -0.22384793 -0.627933  ]\n",
            " [ 0.23374045 -0.78603607  0.44596965 -0.25933555  0.24772736]\n",
            " [-0.72452221 -0.2166935   0.14637819  0.55519984  0.3137484 ]]\n"
          ]
        }
      ],
      "source": [
        "arr = np.random.rand(5,5)\n",
        "\n",
        "u, s, v = np.linalg.svd(arr)\n",
        "print(u)\n",
        "print(s)\n",
        "print(v)"
      ]
    },
    {
      "cell_type": "markdown",
      "metadata": {
        "id": "JcP-rwkktw8K"
      },
      "source": [
        "### compute eigen values"
      ]
    },
    {
      "cell_type": "code",
      "execution_count": 232,
      "metadata": {
        "colab": {
          "base_uri": "https://localhost:8080/"
        },
        "id": "78Xl3EX5tw8K",
        "outputId": "8a9c3997-362f-4775-cfea-cd856895bcad"
      },
      "outputs": [
        {
          "output_type": "stream",
          "name": "stdout",
          "text": [
            "[ 2.53011269+0.j          0.51351236+0.j         -0.69444519+0.j\n",
            " -0.19389371+0.14234167j -0.19389371-0.14234167j]\n"
          ]
        }
      ],
      "source": [
        "arr = np.random.rand(5,5)\n",
        "print(np.linalg.eigvals(arr))"
      ]
    },
    {
      "cell_type": "markdown",
      "metadata": {
        "id": "OL1jkVy7tw8L"
      },
      "source": [
        "### eigen value decomposition"
      ]
    },
    {
      "cell_type": "code",
      "execution_count": 234,
      "metadata": {
        "colab": {
          "base_uri": "https://localhost:8080/"
        },
        "id": "8RekwmS6tw8L",
        "outputId": "7c5e48a7-7f7a-4e62-e0b6-47e67dc32058"
      },
      "outputs": [
        {
          "output_type": "stream",
          "name": "stdout",
          "text": [
            "[ 2.91527691+0.j         -0.54886909+0.j          0.17458007+0.28824091j\n",
            "  0.17458007-0.28824091j  0.08782653+0.j        ]\n",
            " ============================================= \n",
            "[[-0.49910137+0.j          0.28299949+0.j          0.13375034+0.12369484j\n",
            "   0.13375034-0.12369484j  0.28787418+0.j        ]\n",
            " [-0.34725241+0.j          0.38126685+0.j         -0.72007774+0.j\n",
            "  -0.72007774-0.j         -0.62429124+0.j        ]\n",
            " [-0.3037686 +0.j         -0.71659418+0.j         -0.09702574+0.40370471j\n",
            "  -0.09702574-0.40370471j -0.16913407+0.j        ]\n",
            " [-0.45026976+0.j          0.46375834+0.j          0.00680983+0.061157j\n",
            "   0.00680983-0.061157j   -0.52835413+0.j        ]\n",
            " [-0.57904695+0.j         -0.21440116+0.j          0.26922286-0.44681036j\n",
            "   0.26922286+0.44681036j  0.4686411 +0.j        ]]\n"
          ]
        }
      ],
      "source": [
        "arr = np.random.rand(5,5)\n",
        "\n",
        "w, v = np.linalg.eig(arr)\n",
        "print(w)    # eigen values\n",
        "print(\" ============================================= \")\n",
        "print(v)    # eigen vectors"
      ]
    },
    {
      "cell_type": "markdown",
      "metadata": {
        "id": "fO2vj5xstw8L"
      },
      "source": [
        "### compute the trace & determinant"
      ]
    },
    {
      "cell_type": "code",
      "execution_count": 235,
      "metadata": {
        "colab": {
          "base_uri": "https://localhost:8080/"
        },
        "id": "OoluHH3xtw8L",
        "outputId": "a0dcb1d7-3d8e-4a0b-b367-df40493da441"
      },
      "outputs": [
        {
          "output_type": "stream",
          "name": "stdout",
          "text": [
            "2.803394491994699\n"
          ]
        }
      ],
      "source": [
        "# notice this is not a function in linalg!!!\n",
        "print(np.trace(arr))#calculates the sum of the diagonal elements of a 2D array (or matrix)."
      ]
    },
    {
      "cell_type": "code",
      "execution_count": 237,
      "metadata": {
        "colab": {
          "base_uri": "https://localhost:8080/"
        },
        "id": "rdWZRypetw8L",
        "outputId": "89be5624-8893-494f-aa79-09b099182393"
      },
      "outputs": [
        {
          "output_type": "stream",
          "name": "stdout",
          "text": [
            "-0.01595892402301516\n"
          ]
        }
      ],
      "source": [
        "print(np.linalg.det(arr))#The determinant of the matrix, which is a scalar value."
      ]
    },
    {
      "cell_type": "markdown",
      "metadata": {
        "id": "nA4mSqZetw8L"
      },
      "source": [
        "### calculate the inverse/psedo-inverse of a matrix"
      ]
    },
    {
      "cell_type": "code",
      "execution_count": 238,
      "metadata": {
        "id": "7IEcd2U2tw8L"
      },
      "outputs": [],
      "source": [
        "arr = np.random.rand(5,5)"
      ]
    },
    {
      "cell_type": "code",
      "execution_count": 239,
      "metadata": {
        "colab": {
          "base_uri": "https://localhost:8080/"
        },
        "id": "GoDoDcChtw8L",
        "outputId": "0d8ac01c-bcbc-40ae-c247-2071ad7ef5a0"
      },
      "outputs": [
        {
          "output_type": "stream",
          "name": "stdout",
          "text": [
            "[[-0.34719027  0.64284161 -0.91239353 -1.63777927  1.56161703]\n",
            " [ 1.22004304  0.143929   -1.85211047  0.73782908  0.81687265]\n",
            " [-0.47335926  1.98742713  2.75239879 -0.4060076  -3.713789  ]\n",
            " [ 0.34832715 -0.29802914  1.69058232 -0.14867902 -1.14491003]\n",
            " [-1.33611739 -0.92206644  1.30818369  1.18036715  0.24086515]]\n"
          ]
        }
      ],
      "source": [
        "# compute the inverse of a matrix\n",
        "print(np.linalg.inv(arr))"
      ]
    },
    {
      "cell_type": "markdown",
      "metadata": {
        "id": "9bbBxBV_tw8M"
      },
      "source": [
        "### solve a linear system"
      ]
    },
    {
      "cell_type": "code",
      "execution_count": 240,
      "metadata": {
        "colab": {
          "base_uri": "https://localhost:8080/"
        },
        "id": "e3xYhBgqtw8M",
        "outputId": "d90588e3-20bf-4891-8707-b55f76af2cec"
      },
      "outputs": [
        {
          "output_type": "stream",
          "name": "stdout",
          "text": [
            "[-0.54171957  2.98724918 -8.43428403 -1.49525041  6.67009514]\n"
          ]
        }
      ],
      "source": [
        "# solve a linear system in closed form\n",
        "y = [1,2,3,4,5]\n",
        "print(np.linalg.solve(arr, y))"
      ]
    }
  ],
  "metadata": {
    "kernelspec": {
      "display_name": "Python 3",
      "language": "python",
      "name": "python3"
    },
    "language_info": {
      "codemirror_mode": {
        "name": "ipython",
        "version": 3
      },
      "file_extension": ".py",
      "mimetype": "text/x-python",
      "name": "python",
      "nbconvert_exporter": "python",
      "pygments_lexer": "ipython3",
      "version": "3.6.6"
    },
    "colab": {
      "provenance": []
    }
  },
  "nbformat": 4,
  "nbformat_minor": 0
}