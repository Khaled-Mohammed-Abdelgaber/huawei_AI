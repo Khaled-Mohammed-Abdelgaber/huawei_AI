{
  "cells": [
    {
      "cell_type": "code",
      "execution_count": 1,
      "id": "daa35388",
      "metadata": {
        "colab": {
          "base_uri": "https://localhost:8080/"
        },
        "id": "daa35388",
        "outputId": "9fbcb81e-d80f-45a1-d8fa-4eb871880280"
      },
      "outputs": [
        {
          "output_type": "stream",
          "name": "stdout",
          "text": [
            "hello world\n",
            "hello world\n"
          ]
        }
      ],
      "source": [
        "print ('hello world') # Generate \"hello world\".\n",
        "print(\"hello world\") # Generate \"hello world\". The output is the same when single and double quotation marks are carried in input."
      ]
    },
    {
      "cell_type": "code",
      "source": [
        "#multiple line string\n",
        "print( '''this is the long string\n",
        "     this is the second\n",
        "     the thrid line''')"
      ],
      "metadata": {
        "colab": {
          "base_uri": "https://localhost:8080/"
        },
        "id": "QZesMtsPWwJH",
        "outputId": "14b1b40a-fef6-4535-b2b8-d3070feab8e5"
      },
      "id": "QZesMtsPWwJH",
      "execution_count": 2,
      "outputs": [
        {
          "output_type": "stream",
          "name": "stdout",
          "text": [
            "this is the long string \n",
            "     this is the second\n",
            "     the thrid line\n"
          ]
        }
      ]
    },
    {
      "cell_type": "code",
      "execution_count": 3,
      "id": "9fbaf61c",
      "metadata": {
        "colab": {
          "base_uri": "https://localhost:8080/"
        },
        "id": "9fbaf61c",
        "outputId": "731097f8-b083-49a7-c2ad-291682cacd07"
      },
      "outputs": [
        {
          "output_type": "stream",
          "name": "stdout",
          "text": [
            "hello world\n"
          ]
        }
      ],
      "source": [
        "#when you need to write the string in multiple lines\n",
        "print(\"hello \" \\\n",
        "      \"world\"\n",
        "      )"
      ]
    },
    {
      "cell_type": "code",
      "execution_count": 4,
      "id": "01ae6393",
      "metadata": {
        "colab": {
          "base_uri": "https://localhost:8080/"
        },
        "id": "01ae6393",
        "outputId": "917f351b-16f2-47fc-e539-2cc9f4c341c4"
      },
      "outputs": [
        {
          "output_type": "stream",
          "name": "stdout",
          "text": [
            "1\n"
          ]
        }
      ],
      "source": [
        "print(True+False)# The output is 1. By default, True indicates 1, and False indicates 0."
      ]
    },
    {
      "cell_type": "code",
      "execution_count": 5,
      "id": "1b7b956d",
      "metadata": {
        "colab": {
          "base_uri": "https://localhost:8080/"
        },
        "id": "1b7b956d",
        "outputId": "9b694c45-e4c4-4444-9c83-4db370fd8607"
      },
      "outputs": [
        {
          "output_type": "stream",
          "name": "stdout",
          "text": [
            "True\n"
          ]
        }
      ],
      "source": [
        "print(True or False)# If True is displayed, enter or or perform the OR operation."
      ]
    },
    {
      "cell_type": "code",
      "execution_count": 6,
      "id": "d0949e09",
      "metadata": {
        "colab": {
          "base_uri": "https://localhost:8080/"
        },
        "id": "d0949e09",
        "outputId": "69310a03-d7c4-4668-a8a6-70c3dca96ade"
      },
      "outputs": [
        {
          "output_type": "stream",
          "name": "stdout",
          "text": [
            "2\n"
          ]
        }
      ],
      "source": [
        "print(5//2)# The output is 2, and // is the rounding operator."
      ]
    },
    {
      "cell_type": "code",
      "execution_count": 7,
      "id": "bbc1a8d0",
      "metadata": {
        "colab": {
          "base_uri": "https://localhost:8080/"
        },
        "id": "bbc1a8d0",
        "outputId": "6d759371-3bf2-40fe-bfc8-3e87a315f83c"
      },
      "outputs": [
        {
          "output_type": "execute_result",
          "data": {
            "text/plain": [
              "2.5"
            ]
          },
          "metadata": {},
          "execution_count": 7
        }
      ],
      "source": [
        "int(5)/int(2) #no casting for the operation"
      ]
    },
    {
      "cell_type": "code",
      "execution_count": 8,
      "id": "5fda2c2b",
      "metadata": {
        "colab": {
          "base_uri": "https://localhost:8080/"
        },
        "id": "5fda2c2b",
        "outputId": "d4e80b27-bdc8-4f5f-db95-7613df70fa60"
      },
      "outputs": [
        {
          "output_type": "stream",
          "name": "stdout",
          "text": [
            "2.5\n"
          ]
        }
      ],
      "source": [
        "print(5/2)# The output is 2.5, and // is the rounding operator.\n"
      ]
    },
    {
      "cell_type": "code",
      "execution_count": 9,
      "id": "8fa06d23",
      "metadata": {
        "colab": {
          "base_uri": "https://localhost:8080/"
        },
        "id": "8fa06d23",
        "outputId": "ad4f3fcd-995d-4839-c373-518d8f13274f"
      },
      "outputs": [
        {
          "output_type": "stream",
          "name": "stdout",
          "text": [
            "1\n"
          ]
        }
      ],
      "source": [
        "print(5%2)# The output is 1, and % is the modulo operator."
      ]
    },
    {
      "cell_type": "code",
      "execution_count": 10,
      "id": "d8f33fc0",
      "metadata": {
        "colab": {
          "base_uri": "https://localhost:8080/"
        },
        "id": "d8f33fc0",
        "outputId": "836b808a-9054-4de5-eb0d-9c901b92f7e4"
      },
      "outputs": [
        {
          "output_type": "stream",
          "name": "stdout",
          "text": [
            "9\n"
          ]
        }
      ],
      "source": [
        "print(3**2) # The output is 9, and ** indicates the power operation."
      ]
    },
    {
      "cell_type": "code",
      "execution_count": 11,
      "id": "473cfb16",
      "metadata": {
        "colab": {
          "base_uri": "https://localhost:8080/"
        },
        "id": "473cfb16",
        "outputId": "6942d5c7-9521-4905-871d-c1546583dc52"
      },
      "outputs": [
        {
          "output_type": "stream",
          "name": "stdout",
          "text": [
            "6.6\n"
          ]
        }
      ],
      "source": [
        "print(5+1.6) # The output is 6.6. By default, the sum of numbers of different precisions is the number of the highest precision type."
      ]
    },
    {
      "cell_type": "code",
      "execution_count": null,
      "id": "023551f2",
      "metadata": {
        "id": "023551f2"
      },
      "outputs": [],
      "source": [
        "#(int, string, and float are in-built data types)"
      ]
    },
    {
      "cell_type": "code",
      "execution_count": 12,
      "id": "2056261c",
      "metadata": {
        "colab": {
          "base_uri": "https://localhost:8080/"
        },
        "id": "2056261c",
        "outputId": "d92b9327-b398-4e9a-e916-2579d7b55bb3"
      },
      "outputs": [
        {
          "output_type": "stream",
          "name": "stdout",
          "text": [
            "1 2 5\n",
            "6 7 8\n"
          ]
        }
      ],
      "source": [
        "# valid variable name\n",
        "geeks = 1\n",
        "Geeks = 2\n",
        "Ge_e_ks = 5\n",
        "_geeks = 6\n",
        "geeks_ = 7\n",
        "_GEEKS_ = 8\n",
        "\n",
        "print(geeks, Geeks, Ge_e_ks)\n",
        "print(_geeks, geeks_, _GEEKS_)"
      ]
    },
    {
      "cell_type": "code",
      "execution_count": 13,
      "id": "58c512c9",
      "metadata": {
        "colab": {
          "base_uri": "https://localhost:8080/"
        },
        "id": "58c512c9",
        "outputId": "ea1a91c9-2bc3-4d5d-8917-16f507743dbe"
      },
      "outputs": [
        {
          "output_type": "stream",
          "name": "stdout",
          "text": [
            "45\n",
            "1456.8\n",
            "John\n"
          ]
        }
      ],
      "source": [
        "# An integer assignment\n",
        "age = 45\n",
        "\n",
        "# A floating point\n",
        "salary = 1456.8\n",
        "\n",
        "# A string\n",
        "name = \"John\"\n",
        "\n",
        "print(age)\n",
        "print(salary)\n",
        "print(name)"
      ]
    },
    {
      "cell_type": "code",
      "execution_count": 14,
      "id": "3b2cb427",
      "metadata": {
        "colab": {
          "base_uri": "https://localhost:8080/"
        },
        "id": "3b2cb427",
        "outputId": "8c6c7cf8-ba23-4b6b-e27c-dee15b6f05b0"
      },
      "outputs": [
        {
          "output_type": "stream",
          "name": "stdout",
          "text": [
            "100\n"
          ]
        }
      ],
      "source": [
        "# declaring the var\n",
        "Number = 100\n",
        "\n",
        "# display\n",
        "print( Number)"
      ]
    },
    {
      "cell_type": "code",
      "execution_count": 15,
      "id": "928450d5",
      "metadata": {
        "colab": {
          "base_uri": "https://localhost:8080/"
        },
        "id": "928450d5",
        "outputId": "ac589a00-a9d2-4ce8-911e-2849ccdb6505"
      },
      "outputs": [
        {
          "output_type": "stream",
          "name": "stdout",
          "text": [
            "Before declare:  100\n",
            "After re-declare: 120.3\n"
          ]
        }
      ],
      "source": [
        "# declaring the var\n",
        "Number = 100\n",
        "\n",
        "# display\n",
        "print(\"Before declare: \", Number)\n",
        "\n",
        "# re-declare the var\n",
        "Number = 120.3\n",
        "\n",
        "print(\"After re-declare:\", Number)"
      ]
    },
    {
      "cell_type": "code",
      "execution_count": 16,
      "id": "1ab91300",
      "metadata": {
        "colab": {
          "base_uri": "https://localhost:8080/"
        },
        "id": "1ab91300",
        "outputId": "8be5780b-29f0-4953-b447-0845d74e1ad2"
      },
      "outputs": [
        {
          "output_type": "stream",
          "name": "stdout",
          "text": [
            "10\n",
            "10\n",
            "10\n"
          ]
        }
      ],
      "source": [
        "a = b = c = 10\n",
        "\n",
        "print(a)\n",
        "print(b)\n",
        "print(c)"
      ]
    },
    {
      "cell_type": "code",
      "execution_count": 17,
      "id": "a627c6b6",
      "metadata": {
        "colab": {
          "base_uri": "https://localhost:8080/"
        },
        "id": "a627c6b6",
        "outputId": "14b6a7bd-e7df-4c0f-86cc-92cb925930dd"
      },
      "outputs": [
        {
          "output_type": "stream",
          "name": "stdout",
          "text": [
            "1\n",
            "20.2\n",
            "GeeksforGeeks\n"
          ]
        }
      ],
      "source": [
        "a, b, c = 1, 20.2, \"GeeksforGeeks\"\n",
        "\n",
        "print(a)\n",
        "print(b)\n",
        "print(c)"
      ]
    },
    {
      "cell_type": "code",
      "execution_count": 18,
      "id": "d1379ee2",
      "metadata": {
        "colab": {
          "base_uri": "https://localhost:8080/"
        },
        "id": "d1379ee2",
        "outputId": "c24a7e15-ca16-4d11-ed0c-67e8261a4301"
      },
      "outputs": [
        {
          "output_type": "stream",
          "name": "stdout",
          "text": [
            "GeeksforGeeks\n"
          ]
        }
      ],
      "source": [
        "a = 10\n",
        "a = \"GeeksforGeeks\"\n",
        "\n",
        "print(a)"
      ]
    },
    {
      "cell_type": "code",
      "execution_count": 19,
      "id": "1037acba",
      "metadata": {
        "colab": {
          "base_uri": "https://localhost:8080/"
        },
        "id": "1037acba",
        "outputId": "7d39c306-6125-4e03-dd23-8f992977c681"
      },
      "outputs": [
        {
          "output_type": "stream",
          "name": "stdout",
          "text": [
            "30\n",
            "GeeksforGeeks\n"
          ]
        }
      ],
      "source": [
        "a = 10\n",
        "b = 20\n",
        "print(a+b)\n",
        "\n",
        "a = \"Geeksfor\"\n",
        "b = \"Geeks\"\n",
        "print(a+b)"
      ]
    },
    {
      "cell_type": "code",
      "execution_count": 20,
      "id": "f7984161",
      "metadata": {
        "colab": {
          "base_uri": "https://localhost:8080/",
          "height": 176
        },
        "id": "f7984161",
        "outputId": "3af3a8a0-3ca9-4a60-8e0d-58cb12de2b54"
      },
      "outputs": [
        {
          "output_type": "error",
          "ename": "TypeError",
          "evalue": "unsupported operand type(s) for +: 'int' and 'str'",
          "traceback": [
            "\u001b[0;31m---------------------------------------------------------------------------\u001b[0m",
            "\u001b[0;31mTypeError\u001b[0m                                 Traceback (most recent call last)",
            "\u001b[0;32m<ipython-input-20-1381764c4fb9>\u001b[0m in \u001b[0;36m<cell line: 3>\u001b[0;34m()\u001b[0m\n\u001b[1;32m      1\u001b[0m \u001b[0ma\u001b[0m \u001b[0;34m=\u001b[0m \u001b[0;36m10\u001b[0m\u001b[0;34m\u001b[0m\u001b[0;34m\u001b[0m\u001b[0m\n\u001b[1;32m      2\u001b[0m \u001b[0mb\u001b[0m \u001b[0;34m=\u001b[0m \u001b[0;34m\"Geeks\"\u001b[0m\u001b[0;34m\u001b[0m\u001b[0;34m\u001b[0m\u001b[0m\n\u001b[0;32m----> 3\u001b[0;31m \u001b[0mprint\u001b[0m\u001b[0;34m(\u001b[0m\u001b[0ma\u001b[0m\u001b[0;34m+\u001b[0m\u001b[0mb\u001b[0m\u001b[0;34m)\u001b[0m\u001b[0;34m\u001b[0m\u001b[0;34m\u001b[0m\u001b[0m\n\u001b[0m",
            "\u001b[0;31mTypeError\u001b[0m: unsupported operand type(s) for +: 'int' and 'str'"
          ]
        }
      ],
      "source": [
        "a = 10\n",
        "b = \"Geeks\"\n",
        "print(a+b)"
      ]
    },
    {
      "cell_type": "code",
      "execution_count": 21,
      "id": "d722897e",
      "metadata": {
        "colab": {
          "base_uri": "https://localhost:8080/"
        },
        "id": "d722897e",
        "outputId": "b2a53a72-432b-422d-e37a-ebb679044d0f"
      },
      "outputs": [
        {
          "output_type": "stream",
          "name": "stdout",
          "text": [
            "Welcome geeks\n"
          ]
        }
      ],
      "source": [
        "# This function uses local variable s\n",
        "def f():\n",
        "    s = \"Welcome geeks\"\n",
        "    print(s)\n",
        "\n",
        "\n",
        "f()"
      ]
    },
    {
      "cell_type": "code",
      "execution_count": 22,
      "id": "3a98022c",
      "metadata": {
        "colab": {
          "base_uri": "https://localhost:8080/"
        },
        "id": "3a98022c",
        "outputId": "85597700-b2a9-40f6-ffde-5a458f9da8e6"
      },
      "outputs": [
        {
          "output_type": "stream",
          "name": "stdout",
          "text": [
            "I love Geeksforgeeks\n"
          ]
        }
      ],
      "source": [
        "# This function has a variable with\n",
        "# name same as s\n",
        "def f():\n",
        "    print(s)\n",
        "\n",
        "# Global scope\n",
        "s = \"I love Geeksforgeeks\"\n",
        "f()"
      ]
    },
    {
      "cell_type": "code",
      "execution_count": 23,
      "id": "fe315222",
      "metadata": {
        "colab": {
          "base_uri": "https://localhost:8080/"
        },
        "id": "fe315222",
        "outputId": "e098a090-4409-4201-d783-63c3b91c4d82"
      },
      "outputs": [
        {
          "output_type": "stream",
          "name": "stdout",
          "text": [
            "Value of x inside a function : 20\n",
            "Value of x outside a function : 20\n"
          ]
        }
      ],
      "source": [
        "x = 15\n",
        "\n",
        "def change():\n",
        "\n",
        "    # using a global keyword\n",
        "    global x\n",
        "\n",
        "    # increment value of a by 5\n",
        "    x = x + 5\n",
        "    print(\"Value of x inside a function :\", x)\n",
        "\n",
        "\n",
        "change()\n",
        "print(\"Value of x outside a function :\", x)"
      ]
    },
    {
      "cell_type": "markdown",
      "id": "54d5e0b3",
      "metadata": {
        "id": "54d5e0b3"
      },
      "source": [
        "### Logical operations"
      ]
    },
    {
      "cell_type": "code",
      "execution_count": 24,
      "id": "8868cf6d",
      "metadata": {
        "colab": {
          "base_uri": "https://localhost:8080/"
        },
        "id": "8868cf6d",
        "outputId": "ab188294-7951-43f6-b511-19dea74dd996"
      },
      "outputs": [
        {
          "output_type": "stream",
          "name": "stdout",
          "text": [
            "The numbers are greater than 0\n",
            "Atleast one number is not greater than 0\n"
          ]
        }
      ],
      "source": [
        "a = 10\n",
        "b = 10\n",
        "c = -10\n",
        "if a > 0 and b > 0:\n",
        "    print(\"The numbers are greater than 0\")\n",
        "if a > 0 and b > 0 and c > 0:\n",
        "    print(\"The numbers are greater than 0\")\n",
        "else:\n",
        "    print(\"Atleast one number is not greater than 0\")"
      ]
    },
    {
      "cell_type": "code",
      "execution_count": 25,
      "id": "edc14cd0",
      "metadata": {
        "colab": {
          "base_uri": "https://localhost:8080/"
        },
        "id": "edc14cd0",
        "outputId": "e5bbb596-dbe1-4749-8346-424e3103a5a8"
      },
      "outputs": [
        {
          "output_type": "stream",
          "name": "stdout",
          "text": [
            "Atleast one number has boolean value as False\n"
          ]
        }
      ],
      "source": [
        "a = 10\n",
        "b = 12\n",
        "c = 0\n",
        "if a and b and c:\n",
        "    print(\"All the numbers have boolean value as True\")\n",
        "else:\n",
        "    print(\"Atleast one number has boolean value as False\")"
      ]
    },
    {
      "cell_type": "code",
      "execution_count": 26,
      "id": "fec6fc88",
      "metadata": {
        "colab": {
          "base_uri": "https://localhost:8080/"
        },
        "id": "fec6fc88",
        "outputId": "d714a49a-08fe-4112-9c0b-c734ea963330"
      },
      "outputs": [
        {
          "output_type": "stream",
          "name": "stdout",
          "text": [
            "Either of the number is greater than 0\n",
            "No number is greater than 0\n"
          ]
        }
      ],
      "source": [
        "a = 10\n",
        "b = -10\n",
        "c = 0\n",
        "if a > 0 or b > 0:\n",
        "    print(\"Either of the number is greater than 0\")\n",
        "else:\n",
        "    print(\"No number is greater than 0\")\n",
        "if b > 0 or c > 0:\n",
        "    print(\"Either of the number is greater than 0\")\n",
        "else:\n",
        "    print(\"No number is greater than 0\")\n"
      ]
    },
    {
      "cell_type": "code",
      "execution_count": 27,
      "id": "955c800c",
      "metadata": {
        "colab": {
          "base_uri": "https://localhost:8080/"
        },
        "id": "955c800c",
        "outputId": "0a1273f2-02b2-4dc9-d457-2864666ec1a4"
      },
      "outputs": [
        {
          "output_type": "stream",
          "name": "stdout",
          "text": [
            "Atleast one number has boolean value as True\n"
          ]
        }
      ],
      "source": [
        "a = 10\n",
        "b = 12\n",
        "c = 0\n",
        "if a or b or c:\n",
        "    print(\"Atleast one number has boolean value as True\")\n",
        "else:\n",
        "    print(\"All the numbers have boolean value as False\")"
      ]
    },
    {
      "cell_type": "code",
      "execution_count": 28,
      "id": "fe01b925",
      "metadata": {
        "colab": {
          "base_uri": "https://localhost:8080/"
        },
        "id": "fe01b925",
        "outputId": "2032a5d3-cc5f-4daf-b20f-67e8f9edf7ab"
      },
      "outputs": [
        {
          "output_type": "stream",
          "name": "stdout",
          "text": [
            "10 is divisible by either 3 or 5\n"
          ]
        }
      ],
      "source": [
        "a = 10\n",
        "\n",
        "if not a:\n",
        "    print(\"Boolean value of a is True\")\n",
        "if not (a % 3 == 0 or a % 5 == 0):\n",
        "    print(\"10 is not divisible by either 3 or 5\")\n",
        "else:\n",
        "    print(\"10 is divisible by either 3 or 5\")"
      ]
    },
    {
      "cell_type": "code",
      "execution_count": 29,
      "id": "b8932062",
      "metadata": {
        "colab": {
          "base_uri": "https://localhost:8080/"
        },
        "id": "b8932062",
        "outputId": "5a43c959-013e-42ec-8bca-00510bf8b95c"
      },
      "outputs": [
        {
          "output_type": "execute_result",
          "data": {
            "text/plain": [
              "1"
            ]
          },
          "metadata": {},
          "execution_count": 29
        }
      ],
      "source": [
        "result = 5 & 3  # Bitwise AND, result is 1\n",
        "result"
      ]
    },
    {
      "cell_type": "code",
      "execution_count": 30,
      "id": "c4e04135",
      "metadata": {
        "colab": {
          "base_uri": "https://localhost:8080/"
        },
        "id": "c4e04135",
        "outputId": "cbb43cea-c5cd-4e39-dd43-d4562d9da351"
      },
      "outputs": [
        {
          "output_type": "execute_result",
          "data": {
            "text/plain": [
              "True"
            ]
          },
          "metadata": {},
          "execution_count": 30
        }
      ],
      "source": [
        "result = (5 > 3) and (8 > 5) or (2 < 1)  # Evaluates to True\n",
        "result"
      ]
    },
    {
      "cell_type": "code",
      "execution_count": null,
      "id": "30fbcfa3",
      "metadata": {
        "id": "30fbcfa3"
      },
      "outputs": [],
      "source": []
    },
    {
      "cell_type": "code",
      "execution_count": null,
      "id": "340c2f66",
      "metadata": {
        "id": "340c2f66"
      },
      "outputs": [],
      "source": []
    },
    {
      "cell_type": "code",
      "execution_count": null,
      "id": "823fbca6",
      "metadata": {
        "id": "823fbca6"
      },
      "outputs": [],
      "source": [
        "################List###########"
      ]
    },
    {
      "cell_type": "code",
      "execution_count": 31,
      "id": "91fbdb69",
      "metadata": {
        "colab": {
          "base_uri": "https://localhost:8080/"
        },
        "id": "91fbdb69",
        "outputId": "93f5a51e-a924-4b53-eb40-daeb36e2461e"
      },
      "outputs": [
        {
          "output_type": "stream",
          "name": "stdout",
          "text": [
            "[1, 2, 3]\n"
          ]
        },
        {
          "output_type": "execute_result",
          "data": {
            "text/plain": [
              "[1, 2, 3]"
            ]
          },
          "metadata": {},
          "execution_count": 31
        }
      ],
      "source": [
        "L1=[1,2,3]#Homogeneous\n",
        "print(L1)\n",
        "L1"
      ]
    },
    {
      "cell_type": "code",
      "execution_count": 32,
      "id": "c690d8bc",
      "metadata": {
        "colab": {
          "base_uri": "https://localhost:8080/"
        },
        "id": "c690d8bc",
        "outputId": "e64c8dc8-7a36-4039-996b-759d7afa4354"
      },
      "outputs": [
        {
          "output_type": "execute_result",
          "data": {
            "text/plain": [
              "[1, 'Hello', 23.5, 'a']"
            ]
          },
          "metadata": {},
          "execution_count": 32
        }
      ],
      "source": [
        "L2=[1,'Hello',23.5,'a']#Heterogeneous\n",
        "L2"
      ]
    },
    {
      "cell_type": "code",
      "execution_count": 33,
      "id": "5c9eb7ad",
      "metadata": {
        "colab": {
          "base_uri": "https://localhost:8080/"
        },
        "id": "5c9eb7ad",
        "outputId": "df7de568-b111-4e50-a14b-a99dfe4ac2f1"
      },
      "outputs": [
        {
          "output_type": "execute_result",
          "data": {
            "text/plain": [
              "[]"
            ]
          },
          "metadata": {},
          "execution_count": 33
        }
      ],
      "source": [
        "L3=[]#empty\n",
        "L3"
      ]
    },
    {
      "cell_type": "code",
      "execution_count": 34,
      "id": "36b250a0",
      "metadata": {
        "colab": {
          "base_uri": "https://localhost:8080/"
        },
        "id": "36b250a0",
        "outputId": "f1f3321b-290d-4a0d-9401-17f0a3b9bc93"
      },
      "outputs": [
        {
          "output_type": "execute_result",
          "data": {
            "text/plain": [
              "list"
            ]
          },
          "metadata": {},
          "execution_count": 34
        }
      ],
      "source": [
        "type(L3)"
      ]
    },
    {
      "cell_type": "code",
      "execution_count": 35,
      "id": "2d4aa9b4",
      "metadata": {
        "colab": {
          "base_uri": "https://localhost:8080/"
        },
        "id": "2d4aa9b4",
        "outputId": "be55588c-0638-477b-8430-0a1aa085e525"
      },
      "outputs": [
        {
          "output_type": "execute_result",
          "data": {
            "text/plain": [
              "[1, [2, 3], 4]"
            ]
          },
          "metadata": {},
          "execution_count": 35
        }
      ],
      "source": [
        "L4=[1,[2,3],4]#2D List\n",
        "L4"
      ]
    },
    {
      "cell_type": "code",
      "execution_count": 36,
      "id": "6a3012b0",
      "metadata": {
        "colab": {
          "base_uri": "https://localhost:8080/"
        },
        "id": "6a3012b0",
        "outputId": "0f32cf4d-a32f-4518-dc78-095eb00a30ac"
      },
      "outputs": [
        {
          "output_type": "execute_result",
          "data": {
            "text/plain": [
              "list"
            ]
          },
          "metadata": {},
          "execution_count": 36
        }
      ],
      "source": [
        "type(L4)"
      ]
    },
    {
      "cell_type": "code",
      "execution_count": 37,
      "id": "3d9f9488",
      "metadata": {
        "colab": {
          "base_uri": "https://localhost:8080/"
        },
        "id": "3d9f9488",
        "outputId": "f4271491-a280-4a52-d79c-22be109498da"
      },
      "outputs": [
        {
          "output_type": "execute_result",
          "data": {
            "text/plain": [
              "[99, 'Bottle of beer', ['on', 'the', 'wall']]"
            ]
          },
          "metadata": {},
          "execution_count": 37
        }
      ],
      "source": [
        "L5=[99,\"Bottle of beer\",[\"on\",\"the\",\"wall\"]]\n",
        "L5"
      ]
    },
    {
      "cell_type": "code",
      "execution_count": 38,
      "id": "9c48e272",
      "metadata": {
        "colab": {
          "base_uri": "https://localhost:8080/"
        },
        "id": "9c48e272",
        "outputId": "3ea3ed69-9ae5-4ba0-a5ae-cd5978dd52f2"
      },
      "outputs": [
        {
          "output_type": "stream",
          "name": "stdout",
          "text": [
            "element of index 0 is:  99\n"
          ]
        }
      ],
      "source": [
        "print(\"element of index 0 is: \",L5[0])"
      ]
    },
    {
      "cell_type": "code",
      "execution_count": 39,
      "id": "f4aabb6f",
      "metadata": {
        "colab": {
          "base_uri": "https://localhost:8080/"
        },
        "id": "f4aabb6f",
        "outputId": "a869c969-73d2-493e-92ba-fd019e0b6963"
      },
      "outputs": [
        {
          "output_type": "stream",
          "name": "stdout",
          "text": [
            "element of index 0 is:  Bottle of beer\n"
          ]
        }
      ],
      "source": [
        "print(\"element of index 0 is: \",L5[1])"
      ]
    },
    {
      "cell_type": "code",
      "execution_count": 40,
      "id": "3605be9a",
      "metadata": {
        "colab": {
          "base_uri": "https://localhost:8080/"
        },
        "id": "3605be9a",
        "outputId": "46011ef8-c83c-490e-fe74-8b238b529377"
      },
      "outputs": [
        {
          "output_type": "stream",
          "name": "stdout",
          "text": [
            "element of index 0 is:  ['on', 'the', 'wall']\n"
          ]
        }
      ],
      "source": [
        "print(\"element of index 0 is: \",L5[2])"
      ]
    },
    {
      "cell_type": "code",
      "execution_count": 41,
      "id": "33e68af0",
      "metadata": {
        "colab": {
          "base_uri": "https://localhost:8080/",
          "height": 36
        },
        "id": "33e68af0",
        "outputId": "b9f3d754-a089-4589-a2cf-8a736e945ed5"
      },
      "outputs": [
        {
          "output_type": "execute_result",
          "data": {
            "text/plain": [
              "'on'"
            ],
            "application/vnd.google.colaboratory.intrinsic+json": {
              "type": "string"
            }
          },
          "metadata": {},
          "execution_count": 41
        }
      ],
      "source": [
        "L5[2][0]"
      ]
    },
    {
      "cell_type": "code",
      "execution_count": 42,
      "id": "766e4a57",
      "metadata": {
        "colab": {
          "base_uri": "https://localhost:8080/",
          "height": 36
        },
        "id": "766e4a57",
        "outputId": "eacae8da-0855-464e-8480-1d0fc055ec9f"
      },
      "outputs": [
        {
          "output_type": "execute_result",
          "data": {
            "text/plain": [
              "'the'"
            ],
            "application/vnd.google.colaboratory.intrinsic+json": {
              "type": "string"
            }
          },
          "metadata": {},
          "execution_count": 42
        }
      ],
      "source": [
        "L5[2][1]"
      ]
    },
    {
      "cell_type": "code",
      "execution_count": 43,
      "id": "691cebe2",
      "metadata": {
        "colab": {
          "base_uri": "https://localhost:8080/",
          "height": 36
        },
        "id": "691cebe2",
        "outputId": "24550f9e-66ea-41a8-d67e-63e93ae5d873"
      },
      "outputs": [
        {
          "output_type": "execute_result",
          "data": {
            "text/plain": [
              "'wall'"
            ],
            "application/vnd.google.colaboratory.intrinsic+json": {
              "type": "string"
            }
          },
          "metadata": {},
          "execution_count": 43
        }
      ],
      "source": [
        "L5[2][2]"
      ]
    },
    {
      "cell_type": "code",
      "execution_count": 44,
      "id": "4dee968a",
      "metadata": {
        "colab": {
          "base_uri": "https://localhost:8080/"
        },
        "id": "4dee968a",
        "outputId": "252dc3c8-8150-47be-9643-4fdaad7f5076"
      },
      "outputs": [
        {
          "output_type": "stream",
          "name": "stdout",
          "text": [
            "element of index 0 is:  ['on', 'the', 'wall']\n"
          ]
        }
      ],
      "source": [
        "print(\"element of index 0 is: \",L5[-1])"
      ]
    },
    {
      "cell_type": "code",
      "execution_count": 45,
      "id": "84deb872",
      "metadata": {
        "colab": {
          "base_uri": "https://localhost:8080/",
          "height": 36
        },
        "id": "84deb872",
        "outputId": "a19d1c22-94e3-4bea-e5ab-b62cdee5e5e3"
      },
      "outputs": [
        {
          "output_type": "execute_result",
          "data": {
            "text/plain": [
              "'wall'"
            ],
            "application/vnd.google.colaboratory.intrinsic+json": {
              "type": "string"
            }
          },
          "metadata": {},
          "execution_count": 45
        }
      ],
      "source": [
        "L5[-1][-1]"
      ]
    },
    {
      "cell_type": "code",
      "execution_count": 46,
      "id": "c023005f",
      "metadata": {
        "colab": {
          "base_uri": "https://localhost:8080/"
        },
        "id": "c023005f",
        "outputId": "85865568-06c4-4f07-b635-6601720004ea"
      },
      "outputs": [
        {
          "output_type": "execute_result",
          "data": {
            "text/plain": [
              "99"
            ]
          },
          "metadata": {},
          "execution_count": 46
        }
      ],
      "source": [
        "L5[-3]#L5[0]"
      ]
    },
    {
      "cell_type": "code",
      "execution_count": 47,
      "id": "274acc8b",
      "metadata": {
        "colab": {
          "base_uri": "https://localhost:8080/",
          "height": 36
        },
        "id": "274acc8b",
        "outputId": "f2b4d93f-0203-4c32-8ad8-e357b4af7143"
      },
      "outputs": [
        {
          "output_type": "execute_result",
          "data": {
            "text/plain": [
              "'t'"
            ],
            "application/vnd.google.colaboratory.intrinsic+json": {
              "type": "string"
            }
          },
          "metadata": {},
          "execution_count": 47
        }
      ],
      "source": [
        "L5[1][3]"
      ]
    },
    {
      "cell_type": "code",
      "execution_count": 48,
      "id": "8fe46861",
      "metadata": {
        "colab": {
          "base_uri": "https://localhost:8080/",
          "height": 36
        },
        "id": "8fe46861",
        "outputId": "c1b38689-9c38-4e4f-fca9-9890c68e0eaf"
      },
      "outputs": [
        {
          "output_type": "execute_result",
          "data": {
            "text/plain": [
              "'e'"
            ],
            "application/vnd.google.colaboratory.intrinsic+json": {
              "type": "string"
            }
          },
          "metadata": {},
          "execution_count": 48
        }
      ],
      "source": [
        "L5[1][-3]"
      ]
    },
    {
      "cell_type": "code",
      "execution_count": 49,
      "id": "3ac4370a",
      "metadata": {
        "colab": {
          "base_uri": "https://localhost:8080/"
        },
        "id": "3ac4370a",
        "outputId": "d666e749-f080-4ba7-d7f3-d3f92b6952f0"
      },
      "outputs": [
        {
          "output_type": "execute_result",
          "data": {
            "text/plain": [
              "['on', 'the', 'wall']"
            ]
          },
          "metadata": {},
          "execution_count": 49
        }
      ],
      "source": [
        "L5[len(L5)-1]#L5[2],L5[-1]"
      ]
    },
    {
      "cell_type": "code",
      "execution_count": 50,
      "id": "6abdbc4c",
      "metadata": {
        "colab": {
          "base_uri": "https://localhost:8080/"
        },
        "id": "6abdbc4c",
        "outputId": "7e91ce70-e193-455b-f4c4-8455e6990925"
      },
      "outputs": [
        {
          "output_type": "execute_result",
          "data": {
            "text/plain": [
              "[1, 2, 3, 4, 5]"
            ]
          },
          "metadata": {},
          "execution_count": 50
        }
      ],
      "source": [
        "L6=[1,2,3,4,5]\n",
        "L6"
      ]
    },
    {
      "cell_type": "code",
      "execution_count": 51,
      "id": "30677f90",
      "metadata": {
        "colab": {
          "base_uri": "https://localhost:8080/"
        },
        "id": "30677f90",
        "outputId": "e9d2428b-4bc5-4a79-a505-e182ad3df26e"
      },
      "outputs": [
        {
          "output_type": "execute_result",
          "data": {
            "text/plain": [
              "[2]"
            ]
          },
          "metadata": {},
          "execution_count": 51
        }
      ],
      "source": [
        "L6[1:2]"
      ]
    },
    {
      "cell_type": "code",
      "execution_count": 52,
      "id": "398b3f19",
      "metadata": {
        "colab": {
          "base_uri": "https://localhost:8080/"
        },
        "id": "398b3f19",
        "outputId": "04685f7c-a3b3-4df4-bfd8-aa56e833d8dd"
      },
      "outputs": [
        {
          "output_type": "execute_result",
          "data": {
            "text/plain": [
              "[2, 3]"
            ]
          },
          "metadata": {},
          "execution_count": 52
        }
      ],
      "source": [
        "L6[1:3]"
      ]
    },
    {
      "cell_type": "code",
      "execution_count": 53,
      "id": "6d234dfe",
      "metadata": {
        "colab": {
          "base_uri": "https://localhost:8080/"
        },
        "id": "6d234dfe",
        "outputId": "19dd3534-651d-4d6e-f6e4-6e2e53bcf75f"
      },
      "outputs": [
        {
          "output_type": "execute_result",
          "data": {
            "text/plain": [
              "[2, 3, 4, 5]"
            ]
          },
          "metadata": {},
          "execution_count": 53
        }
      ],
      "source": [
        "L6[1:]"
      ]
    },
    {
      "cell_type": "code",
      "execution_count": 54,
      "id": "ebec8d34",
      "metadata": {
        "colab": {
          "base_uri": "https://localhost:8080/"
        },
        "id": "ebec8d34",
        "outputId": "05b942d4-f077-42fb-e069-f8a2b24e9425"
      },
      "outputs": [
        {
          "output_type": "execute_result",
          "data": {
            "text/plain": [
              "[1]"
            ]
          },
          "metadata": {},
          "execution_count": 54
        }
      ],
      "source": [
        "L6[:1]"
      ]
    },
    {
      "cell_type": "code",
      "execution_count": 55,
      "id": "0a5d9878",
      "metadata": {
        "colab": {
          "base_uri": "https://localhost:8080/"
        },
        "id": "0a5d9878",
        "outputId": "7c7d001f-fed7-449e-d1b0-01d4b3e3219e"
      },
      "outputs": [
        {
          "output_type": "execute_result",
          "data": {
            "text/plain": [
              "[1, 2, 3, 4]"
            ]
          },
          "metadata": {},
          "execution_count": 55
        }
      ],
      "source": [
        "L6[:-1]"
      ]
    },
    {
      "cell_type": "code",
      "execution_count": 56,
      "id": "d53b83a6",
      "metadata": {
        "colab": {
          "base_uri": "https://localhost:8080/"
        },
        "id": "d53b83a6",
        "outputId": "7abe9911-40bc-4132-8c0c-9796aa54b737"
      },
      "outputs": [
        {
          "output_type": "execute_result",
          "data": {
            "text/plain": [
              "[1, 2, 3, 4, 5]"
            ]
          },
          "metadata": {},
          "execution_count": 56
        }
      ],
      "source": [
        "L6"
      ]
    },
    {
      "cell_type": "code",
      "execution_count": 57,
      "id": "e166c18f",
      "metadata": {
        "colab": {
          "base_uri": "https://localhost:8080/"
        },
        "id": "e166c18f",
        "outputId": "f3bd4af7-454b-4180-981a-92f3a797919b"
      },
      "outputs": [
        {
          "output_type": "execute_result",
          "data": {
            "text/plain": [
              "[1, 2, 3, 4, 5, 7]"
            ]
          },
          "metadata": {},
          "execution_count": 57
        }
      ],
      "source": [
        "L6.append(7)\n",
        "L6"
      ]
    },
    {
      "cell_type": "code",
      "execution_count": 58,
      "id": "721c2715",
      "metadata": {
        "id": "721c2715"
      },
      "outputs": [],
      "source": [
        "x=[1,2,3]\n",
        "y=[4,5]"
      ]
    },
    {
      "cell_type": "code",
      "execution_count": 59,
      "id": "61210978",
      "metadata": {
        "colab": {
          "base_uri": "https://localhost:8080/"
        },
        "id": "61210978",
        "outputId": "e49ef8b6-b18d-4b5b-fff5-1e831e1ba434"
      },
      "outputs": [
        {
          "output_type": "execute_result",
          "data": {
            "text/plain": [
              "[1, 2, 3, [4, 5]]"
            ]
          },
          "metadata": {},
          "execution_count": 59
        }
      ],
      "source": [
        "x.append(y)\n",
        "x"
      ]
    },
    {
      "cell_type": "code",
      "execution_count": 60,
      "id": "dec05833",
      "metadata": {
        "id": "dec05833"
      },
      "outputs": [],
      "source": [
        "x=[1,2,3]\n",
        "y=[4,5]"
      ]
    },
    {
      "cell_type": "code",
      "execution_count": 61,
      "id": "a211f8ca",
      "metadata": {
        "colab": {
          "base_uri": "https://localhost:8080/"
        },
        "id": "a211f8ca",
        "outputId": "b5a864f1-c0f8-41a7-a970-684a431f4dec"
      },
      "outputs": [
        {
          "output_type": "execute_result",
          "data": {
            "text/plain": [
              "[1, 2, 3, 4, 5]"
            ]
          },
          "metadata": {},
          "execution_count": 61
        }
      ],
      "source": [
        "x.extend(y)\n",
        "x"
      ]
    },
    {
      "cell_type": "code",
      "execution_count": 62,
      "id": "b19762e2",
      "metadata": {
        "id": "b19762e2"
      },
      "outputs": [],
      "source": [
        "x=[1,2,3]\n",
        "y=[4,5]"
      ]
    },
    {
      "cell_type": "code",
      "execution_count": 63,
      "id": "ad9c990e",
      "metadata": {
        "colab": {
          "base_uri": "https://localhost:8080/"
        },
        "id": "ad9c990e",
        "outputId": "31aecfe9-6911-49b1-c455-87f1df367773"
      },
      "outputs": [
        {
          "output_type": "stream",
          "name": "stdout",
          "text": [
            "[1, 2, 3, 4, 5]\n"
          ]
        }
      ],
      "source": [
        "for i in y:\n",
        "    x.append(i)\n",
        "print(x)"
      ]
    },
    {
      "cell_type": "code",
      "execution_count": 64,
      "id": "b3ee4563",
      "metadata": {
        "colab": {
          "base_uri": "https://localhost:8080/"
        },
        "id": "b3ee4563",
        "outputId": "544190eb-9eb1-45c6-f703-1c2142c31aa3"
      },
      "outputs": [
        {
          "output_type": "execute_result",
          "data": {
            "text/plain": [
              "[1, 2, 3, 4, 5]"
            ]
          },
          "metadata": {},
          "execution_count": 64
        }
      ],
      "source": [
        "x=[1,2,3]\n",
        "y=[4,5]\n",
        "x+y"
      ]
    },
    {
      "cell_type": "code",
      "execution_count": 65,
      "id": "2cafe2ad",
      "metadata": {
        "colab": {
          "base_uri": "https://localhost:8080/"
        },
        "id": "2cafe2ad",
        "outputId": "0ca33baa-22f3-46fc-c80b-ca93f17307c6"
      },
      "outputs": [
        {
          "output_type": "execute_result",
          "data": {
            "text/plain": [
              "[40, 1, 2, 3]"
            ]
          },
          "metadata": {},
          "execution_count": 65
        }
      ],
      "source": [
        "x=[1,2,3]\n",
        "x.insert(0,40)#to insert at specific index\n",
        "x"
      ]
    },
    {
      "cell_type": "code",
      "execution_count": 66,
      "id": "6c6160f8",
      "metadata": {
        "colab": {
          "base_uri": "https://localhost:8080/"
        },
        "id": "6c6160f8",
        "outputId": "4c33ab74-dbab-4ea9-b56c-445ce0c80f4e"
      },
      "outputs": [
        {
          "output_type": "execute_result",
          "data": {
            "text/plain": [
              "[40, 1, 2]"
            ]
          },
          "metadata": {},
          "execution_count": 66
        }
      ],
      "source": [
        "x.pop()#to remove the last element in the list\n",
        "x"
      ]
    },
    {
      "cell_type": "code",
      "execution_count": 67,
      "id": "ecdddcdc",
      "metadata": {
        "colab": {
          "base_uri": "https://localhost:8080/"
        },
        "id": "ecdddcdc",
        "outputId": "a263b31e-1be3-4f2d-efd1-c94f96cbe3b7"
      },
      "outputs": [
        {
          "output_type": "execute_result",
          "data": {
            "text/plain": [
              "[40, 2]"
            ]
          },
          "metadata": {},
          "execution_count": 67
        }
      ],
      "source": [
        "x.pop(1)#to remove the element at index 1 from the list\n",
        "x"
      ]
    },
    {
      "cell_type": "code",
      "execution_count": 68,
      "id": "dbbd81bb",
      "metadata": {
        "colab": {
          "base_uri": "https://localhost:8080/"
        },
        "id": "dbbd81bb",
        "outputId": "6a8e5b56-9cfb-4285-e0fc-fbe9cb8a9d80"
      },
      "outputs": [
        {
          "output_type": "stream",
          "name": "stdout",
          "text": [
            "Not Empty List\n"
          ]
        }
      ],
      "source": [
        "if len(x)==0 :\n",
        "    print(\"Empty List\")\n",
        "else:\n",
        "    print(\"Not Empty List\")"
      ]
    },
    {
      "cell_type": "code",
      "execution_count": 69,
      "id": "1550be1b",
      "metadata": {
        "colab": {
          "base_uri": "https://localhost:8080/"
        },
        "id": "1550be1b",
        "outputId": "e8e057e4-e605-46eb-e094-4188e78766e3"
      },
      "outputs": [
        {
          "output_type": "execute_result",
          "data": {
            "text/plain": [
              "[4, 5, 4, 3, 2, 1]"
            ]
          },
          "metadata": {},
          "execution_count": 69
        }
      ],
      "source": [
        "x=[1,2,3,4,5,4]\n",
        "x.reverse()\n",
        "x"
      ]
    },
    {
      "cell_type": "code",
      "execution_count": 70,
      "id": "2225f5e4",
      "metadata": {
        "colab": {
          "base_uri": "https://localhost:8080/"
        },
        "id": "2225f5e4",
        "outputId": "11d11dd0-464e-41cb-81d4-67ad94f356fe"
      },
      "outputs": [
        {
          "output_type": "execute_result",
          "data": {
            "text/plain": [
              "[5, 4, 3, 2, 1]"
            ]
          },
          "metadata": {},
          "execution_count": 70
        }
      ],
      "source": [
        "x.remove(4) # to rmove 4 from the list [the first one]\n",
        "x"
      ]
    },
    {
      "cell_type": "code",
      "execution_count": 71,
      "id": "fd4d442a",
      "metadata": {
        "colab": {
          "base_uri": "https://localhost:8080/",
          "height": 158
        },
        "id": "fd4d442a",
        "outputId": "ce339731-432d-406f-8714-38d61970b45f"
      },
      "outputs": [
        {
          "output_type": "error",
          "ename": "NameError",
          "evalue": "name 'x' is not defined",
          "traceback": [
            "\u001b[0;31m---------------------------------------------------------------------------\u001b[0m",
            "\u001b[0;31mNameError\u001b[0m                                 Traceback (most recent call last)",
            "\u001b[0;32m<ipython-input-71-124677a243cf>\u001b[0m in \u001b[0;36m<cell line: 2>\u001b[0;34m()\u001b[0m\n\u001b[1;32m      1\u001b[0m \u001b[0;32mdel\u001b[0m\u001b[0;34m(\u001b[0m\u001b[0mx\u001b[0m\u001b[0;34m)\u001b[0m \u001b[0;31m# to delete a variable from the memory\u001b[0m\u001b[0;34m\u001b[0m\u001b[0;34m\u001b[0m\u001b[0m\n\u001b[0;32m----> 2\u001b[0;31m \u001b[0mx\u001b[0m\u001b[0;34m\u001b[0m\u001b[0;34m\u001b[0m\u001b[0m\n\u001b[0m",
            "\u001b[0;31mNameError\u001b[0m: name 'x' is not defined"
          ]
        }
      ],
      "source": [
        "del(x) # to delete a variable from the memory\n",
        "x"
      ]
    },
    {
      "cell_type": "code",
      "execution_count": 72,
      "id": "d81d5dba",
      "metadata": {
        "colab": {
          "base_uri": "https://localhost:8080/"
        },
        "id": "d81d5dba",
        "outputId": "3cc5cd7d-1007-4ae3-e034-dec1f7f8c7d2"
      },
      "outputs": [
        {
          "output_type": "stream",
          "name": "stdout",
          "text": [
            "False\n",
            "True\n"
          ]
        }
      ],
      "source": [
        "# Python program to demonstrate\n",
        "# is keyword\n",
        "\n",
        "x = [\"a\", \"b\", \"c\", \"d\"]\n",
        "\n",
        "y = [\"a\", \"b\", \"c\", \"d\"]\n",
        "\n",
        "print(x is y)\n",
        "print(x == y)"
      ]
    },
    {
      "cell_type": "code",
      "execution_count": 73,
      "id": "31e73a8e",
      "metadata": {
        "colab": {
          "base_uri": "https://localhost:8080/"
        },
        "id": "31e73a8e",
        "outputId": "e7bd2e72-763e-4aab-d8d3-ccfb2880ca51"
      },
      "outputs": [
        {
          "output_type": "execute_result",
          "data": {
            "text/plain": [
              "[1, 2, 3, 4]"
            ]
          },
          "metadata": {},
          "execution_count": 73
        }
      ],
      "source": [
        "#1\n",
        "x=[1,2,3,4]\n",
        "y1=x[:]\n",
        "y1"
      ]
    },
    {
      "cell_type": "code",
      "execution_count": 74,
      "id": "b5952e9d",
      "metadata": {
        "colab": {
          "base_uri": "https://localhost:8080/"
        },
        "id": "b5952e9d",
        "outputId": "3ef78700-52e5-4781-f249-e42d3dc6494a"
      },
      "outputs": [
        {
          "output_type": "execute_result",
          "data": {
            "text/plain": [
              "False"
            ]
          },
          "metadata": {},
          "execution_count": 74
        }
      ],
      "source": [
        "y1 is x # false here means that y1 and x are different places in memory"
      ]
    },
    {
      "cell_type": "code",
      "execution_count": 75,
      "id": "8483e0e2",
      "metadata": {
        "colab": {
          "base_uri": "https://localhost:8080/"
        },
        "id": "8483e0e2",
        "outputId": "d0680100-9d02-480d-fcab-abd15a2b3b83"
      },
      "outputs": [
        {
          "output_type": "stream",
          "name": "stdout",
          "text": [
            "y1 is : [1, 2, 3, 4]\n",
            "y1 is : [1, 2, 3, 100]\n",
            "x is : [1, 2, 3, 4]\n"
          ]
        }
      ],
      "source": [
        "print(\"y1 is :\",y1)\n",
        "y1[-1]=100\n",
        "print(\"y1 is :\",y1)\n",
        "print(\"x is :\",x)"
      ]
    },
    {
      "cell_type": "code",
      "execution_count": 76,
      "id": "7e6f89d9",
      "metadata": {
        "colab": {
          "base_uri": "https://localhost:8080/"
        },
        "id": "7e6f89d9",
        "outputId": "6354f6b0-b7a1-4e9f-a724-45724d8a0cc8"
      },
      "outputs": [
        {
          "output_type": "execute_result",
          "data": {
            "text/plain": [
              "[1, 2, 3, 4]"
            ]
          },
          "metadata": {},
          "execution_count": 76
        }
      ],
      "source": [
        "x=[1,2,3,4]\n",
        "y=x # here will refer to the same place in memory\n",
        "y"
      ]
    },
    {
      "cell_type": "code",
      "execution_count": 77,
      "id": "a5a3d713",
      "metadata": {
        "colab": {
          "base_uri": "https://localhost:8080/"
        },
        "id": "a5a3d713",
        "outputId": "4d8fe8dc-25e7-490f-9969-226de72658b4"
      },
      "outputs": [
        {
          "output_type": "execute_result",
          "data": {
            "text/plain": [
              "True"
            ]
          },
          "metadata": {},
          "execution_count": 77
        }
      ],
      "source": [
        "y is x # true here confirm on the previous"
      ]
    },
    {
      "cell_type": "code",
      "execution_count": 78,
      "id": "71776d2e",
      "metadata": {
        "colab": {
          "base_uri": "https://localhost:8080/"
        },
        "id": "71776d2e",
        "outputId": "d22e589c-f7e5-47f3-e389-89bc8c051600"
      },
      "outputs": [
        {
          "output_type": "stream",
          "name": "stdout",
          "text": [
            "y is : [1, 2, 3, 4]\n",
            "y is : [1, 2, 3, 100]\n",
            "x is : [1, 2, 3, 100]\n"
          ]
        }
      ],
      "source": [
        "print(\"y is :\",y)\n",
        "y[-1]=100\n",
        "print(\"y is :\",y)\n",
        "print(\"x is :\",x)"
      ]
    },
    {
      "cell_type": "code",
      "execution_count": 79,
      "id": "15c37619",
      "metadata": {
        "colab": {
          "base_uri": "https://localhost:8080/"
        },
        "id": "15c37619",
        "outputId": "f1bf3ef1-94a5-4dae-aeec-f59743896b85"
      },
      "outputs": [
        {
          "output_type": "execute_result",
          "data": {
            "text/plain": [
              "[1, 2, 3, 4]"
            ]
          },
          "metadata": {},
          "execution_count": 79
        }
      ],
      "source": [
        "#2\n",
        "x=[1,2,3,4]\n",
        "y2=list(x)\n",
        "y2"
      ]
    },
    {
      "cell_type": "code",
      "execution_count": 80,
      "id": "d3cb7427",
      "metadata": {
        "colab": {
          "base_uri": "https://localhost:8080/"
        },
        "id": "d3cb7427",
        "outputId": "21c50578-c4aa-4bc2-a091-5a39fdec673f"
      },
      "outputs": [
        {
          "output_type": "execute_result",
          "data": {
            "text/plain": [
              "False"
            ]
          },
          "metadata": {},
          "execution_count": 80
        }
      ],
      "source": [
        "x is y2"
      ]
    },
    {
      "cell_type": "code",
      "execution_count": 81,
      "id": "dd3bd1a6",
      "metadata": {
        "colab": {
          "base_uri": "https://localhost:8080/"
        },
        "id": "dd3bd1a6",
        "outputId": "0f738f83-8fae-4c13-c74b-3715a944ef64"
      },
      "outputs": [
        {
          "output_type": "execute_result",
          "data": {
            "text/plain": [
              "[]"
            ]
          },
          "metadata": {},
          "execution_count": 81
        }
      ],
      "source": [
        "result = [] and \"Non-empty\"  # Returns []\n",
        "result"
      ]
    },
    {
      "cell_type": "code",
      "execution_count": 82,
      "id": "02fc39a9",
      "metadata": {
        "colab": {
          "base_uri": "https://localhost:8080/",
          "height": 36
        },
        "id": "02fc39a9",
        "outputId": "85d02aa0-369a-4da0-cd54-c8191f32a2b2"
      },
      "outputs": [
        {
          "output_type": "execute_result",
          "data": {
            "text/plain": [
              "'Non-empty'"
            ],
            "application/vnd.google.colaboratory.intrinsic+json": {
              "type": "string"
            }
          },
          "metadata": {},
          "execution_count": 82
        }
      ],
      "source": [
        "result = [] or \"Non-empty\"  # Returns \"Non-empty\"\n",
        "result"
      ]
    },
    {
      "cell_type": "code",
      "execution_count": 83,
      "id": "3f8801c1",
      "metadata": {
        "colab": {
          "base_uri": "https://localhost:8080/"
        },
        "id": "3f8801c1",
        "outputId": "d5d5a79b-fbf5-4626-e2f1-a4770e48b19a"
      },
      "outputs": [
        {
          "output_type": "execute_result",
          "data": {
            "text/plain": [
              "True"
            ]
          },
          "metadata": {},
          "execution_count": 83
        }
      ],
      "source": [
        "result = not []  # Returns True\n",
        "result"
      ]
    },
    {
      "cell_type": "code",
      "execution_count": null,
      "id": "71a810a6",
      "metadata": {
        "id": "71a810a6"
      },
      "outputs": [],
      "source": [
        "# !, |, & -----------> bitwise operators\n",
        "#&& , ||  -----------> not valid operators"
      ]
    },
    {
      "cell_type": "code",
      "execution_count": 85,
      "id": "478e4004",
      "metadata": {
        "id": "478e4004"
      },
      "outputs": [],
      "source": [
        "if True & False:\n",
        "    print(\"dsa\")"
      ]
    },
    {
      "cell_type": "code",
      "execution_count": null,
      "id": "573a6ecf",
      "metadata": {
        "id": "573a6ecf"
      },
      "outputs": [],
      "source": []
    },
    {
      "cell_type": "code",
      "execution_count": null,
      "id": "13a87d79",
      "metadata": {
        "id": "13a87d79"
      },
      "outputs": [],
      "source": []
    },
    {
      "cell_type": "code",
      "execution_count": null,
      "id": "556013ed",
      "metadata": {
        "id": "556013ed"
      },
      "outputs": [],
      "source": []
    },
    {
      "cell_type": "code",
      "execution_count": 92,
      "id": "c045f988",
      "metadata": {
        "colab": {
          "base_uri": "https://localhost:8080/"
        },
        "id": "c045f988",
        "outputId": "86523dcd-4d28-4ddf-b85c-96bca0136aa3"
      },
      "outputs": [
        {
          "output_type": "stream",
          "name": "stdout",
          "text": [
            "max of x: 5\n",
            "min of x: 2\n"
          ]
        }
      ],
      "source": [
        "x=[2,3,4,5]\n",
        "print(\"max of x:\",max(x))\n",
        "print(\"min of x:\",min(x))"
      ]
    },
    {
      "cell_type": "code",
      "execution_count": 93,
      "id": "3be55bf1",
      "metadata": {
        "colab": {
          "base_uri": "https://localhost:8080/"
        },
        "id": "3be55bf1",
        "outputId": "ff1e789c-3bf0-4d3f-ac07-85061b0bdb06"
      },
      "outputs": [
        {
          "output_type": "execute_result",
          "data": {
            "text/plain": [
              "list"
            ]
          },
          "metadata": {},
          "execution_count": 93
        }
      ],
      "source": [
        "x=[1,2,3,4]\n",
        "type(x)"
      ]
    },
    {
      "cell_type": "code",
      "execution_count": 94,
      "id": "328a9e30",
      "metadata": {
        "colab": {
          "base_uri": "https://localhost:8080/"
        },
        "id": "328a9e30",
        "outputId": "d51ba241-a5b2-4505-be53-8a7827bbdbe1"
      },
      "outputs": [
        {
          "output_type": "execute_result",
          "data": {
            "text/plain": [
              "[1, 2, 3, 100]"
            ]
          },
          "metadata": {},
          "execution_count": 94
        }
      ],
      "source": [
        "x[-1]=100\n",
        "x"
      ]
    },
    {
      "cell_type": "code",
      "execution_count": null,
      "id": "83b5f68c",
      "metadata": {
        "id": "83b5f68c"
      },
      "outputs": [],
      "source": [
        "################Tuple###########"
      ]
    },
    {
      "cell_type": "markdown",
      "id": "3c937be7",
      "metadata": {
        "id": "3c937be7"
      },
      "source": [
        "faster than lists\n",
        "memory efficient than list\n",
        "can be used as a dictionary keys  because they are immutable\n",
        "when function return multiple values they tread as a tuple"
      ]
    },
    {
      "cell_type": "code",
      "execution_count": 95,
      "id": "0b47de0d",
      "metadata": {
        "colab": {
          "base_uri": "https://localhost:8080/"
        },
        "id": "0b47de0d",
        "outputId": "3d8da5ee-1353-4533-cf5c-917a74bb6050"
      },
      "outputs": [
        {
          "output_type": "execute_result",
          "data": {
            "text/plain": [
              "tuple"
            ]
          },
          "metadata": {},
          "execution_count": 95
        }
      ],
      "source": [
        "x=(1,2,3,4)\n",
        "type(x)"
      ]
    },
    {
      "cell_type": "code",
      "execution_count": 96,
      "id": "d6592564",
      "metadata": {
        "colab": {
          "base_uri": "https://localhost:8080/",
          "height": 141
        },
        "id": "d6592564",
        "outputId": "5e376973-4d72-45fe-ea3a-2d54a0bd87a4"
      },
      "outputs": [
        {
          "output_type": "error",
          "ename": "TypeError",
          "evalue": "'tuple' object does not support item assignment",
          "traceback": [
            "\u001b[0;31m---------------------------------------------------------------------------\u001b[0m",
            "\u001b[0;31mTypeError\u001b[0m                                 Traceback (most recent call last)",
            "\u001b[0;32m<ipython-input-96-b80712251707>\u001b[0m in \u001b[0;36m<cell line: 1>\u001b[0;34m()\u001b[0m\n\u001b[0;32m----> 1\u001b[0;31m \u001b[0mx\u001b[0m\u001b[0;34m[\u001b[0m\u001b[0;34m-\u001b[0m\u001b[0;36m1\u001b[0m\u001b[0;34m]\u001b[0m\u001b[0;34m=\u001b[0m\u001b[0;36m100\u001b[0m\u001b[0;34m\u001b[0m\u001b[0;34m\u001b[0m\u001b[0m\n\u001b[0m",
            "\u001b[0;31mTypeError\u001b[0m: 'tuple' object does not support item assignment"
          ]
        }
      ],
      "source": [
        "x[-1]=100"
      ]
    },
    {
      "cell_type": "code",
      "execution_count": 97,
      "id": "23eac38e",
      "metadata": {
        "colab": {
          "base_uri": "https://localhost:8080/"
        },
        "id": "23eac38e",
        "outputId": "fac6cb81-3b4b-40cd-9b4d-a3b3a62a8d6f"
      },
      "outputs": [
        {
          "output_type": "execute_result",
          "data": {
            "text/plain": [
              "tuple"
            ]
          },
          "metadata": {},
          "execution_count": 97
        }
      ],
      "source": [
        "x=(1,)\n",
        "type(x)"
      ]
    },
    {
      "cell_type": "code",
      "execution_count": 98,
      "id": "6fd7b372",
      "metadata": {
        "colab": {
          "base_uri": "https://localhost:8080/"
        },
        "id": "6fd7b372",
        "outputId": "a3da3645-a2e5-4b3c-f124-743d00220c4d"
      },
      "outputs": [
        {
          "output_type": "execute_result",
          "data": {
            "text/plain": [
              "(1, 2, 3)"
            ]
          },
          "metadata": {},
          "execution_count": 98
        }
      ],
      "source": [
        "x=(1,2,3,4)\n",
        "x[:-1]"
      ]
    },
    {
      "cell_type": "code",
      "execution_count": 99,
      "id": "e9fc1718",
      "metadata": {
        "colab": {
          "base_uri": "https://localhost:8080/"
        },
        "id": "e9fc1718",
        "outputId": "d2230eea-3c6f-44f5-ba35-5f675bc0b3db"
      },
      "outputs": [
        {
          "output_type": "execute_result",
          "data": {
            "text/plain": [
              "(1, 2, 3, 4, [6])"
            ]
          },
          "metadata": {},
          "execution_count": 99
        }
      ],
      "source": [
        "x=(1,2,3,4,[6])#we can change the list not the tuple\n",
        "x"
      ]
    },
    {
      "cell_type": "code",
      "execution_count": 100,
      "id": "1362627f",
      "metadata": {
        "colab": {
          "base_uri": "https://localhost:8080/"
        },
        "id": "1362627f",
        "outputId": "2ebbf6f5-0e5f-4c88-9f58-1c7a55d8df59"
      },
      "outputs": [
        {
          "output_type": "execute_result",
          "data": {
            "text/plain": [
              "(1, 2, 3, 4, [100])"
            ]
          },
          "metadata": {},
          "execution_count": 100
        }
      ],
      "source": [
        "x[-1][0]=100\n",
        "x"
      ]
    },
    {
      "cell_type": "code",
      "execution_count": 101,
      "id": "4ce8da63",
      "metadata": {
        "colab": {
          "base_uri": "https://localhost:8080/"
        },
        "id": "4ce8da63",
        "outputId": "965bd83b-be13-4a7a-ff18-2a6ae905160d"
      },
      "outputs": [
        {
          "output_type": "execute_result",
          "data": {
            "text/plain": [
              "(1, 2, 3, 4, [100, 200, 300])"
            ]
          },
          "metadata": {},
          "execution_count": 101
        }
      ],
      "source": [
        "x[-1].extend([200,300])\n",
        "x"
      ]
    },
    {
      "cell_type": "code",
      "execution_count": null,
      "id": "1a26acb0",
      "metadata": {
        "id": "1a26acb0"
      },
      "outputs": [],
      "source": [
        "################Dictionary###########"
      ]
    },
    {
      "cell_type": "code",
      "execution_count": 102,
      "id": "833b14a1",
      "metadata": {
        "colab": {
          "base_uri": "https://localhost:8080/"
        },
        "id": "833b14a1",
        "outputId": "bd65f1cc-c470-4aeb-bce7-f5bc7200108a"
      },
      "outputs": [
        {
          "output_type": "execute_result",
          "data": {
            "text/plain": [
              "{'name': 'ahmed', 'age': 27}"
            ]
          },
          "metadata": {},
          "execution_count": 102
        }
      ],
      "source": [
        "d1={\"name\":\"ahmed\",\"age\":27}\n",
        "d1"
      ]
    },
    {
      "cell_type": "code",
      "execution_count": 103,
      "id": "62ea15a0",
      "metadata": {
        "colab": {
          "base_uri": "https://localhost:8080/"
        },
        "id": "62ea15a0",
        "outputId": "afd23b48-94cf-43a3-8781-7cf6883845d1"
      },
      "outputs": [
        {
          "output_type": "execute_result",
          "data": {
            "text/plain": [
              "{'name': 27}"
            ]
          },
          "metadata": {},
          "execution_count": 103
        }
      ],
      "source": [
        "d1={\"name\":\"ahmed\",\"name\":27}\n",
        "d1"
      ]
    },
    {
      "cell_type": "code",
      "execution_count": 104,
      "id": "d9738aeb",
      "metadata": {
        "colab": {
          "base_uri": "https://localhost:8080/"
        },
        "id": "d9738aeb",
        "outputId": "fb1e8b11-eec8-49af-e8c0-ee87fa735364"
      },
      "outputs": [
        {
          "output_type": "execute_result",
          "data": {
            "text/plain": [
              "27"
            ]
          },
          "metadata": {},
          "execution_count": 104
        }
      ],
      "source": [
        "d1[\"name\"]"
      ]
    },
    {
      "cell_type": "code",
      "execution_count": 105,
      "id": "a5c116f3",
      "metadata": {
        "colab": {
          "base_uri": "https://localhost:8080/"
        },
        "id": "a5c116f3",
        "outputId": "fe4c46a1-93dc-41d6-c80d-53740b9e8f1d"
      },
      "outputs": [
        {
          "output_type": "execute_result",
          "data": {
            "text/plain": [
              "{1: 'ahmed', 1.5: 27}"
            ]
          },
          "metadata": {},
          "execution_count": 105
        }
      ],
      "source": [
        "d1={1:\"ahmed\",1.5:27}\n",
        "d1"
      ]
    },
    {
      "cell_type": "code",
      "execution_count": 106,
      "id": "8b203d8b",
      "metadata": {
        "colab": {
          "base_uri": "https://localhost:8080/"
        },
        "id": "8b203d8b",
        "outputId": "75f91050-c3c8-4fb8-b899-eccaf4dd92d0"
      },
      "outputs": [
        {
          "output_type": "execute_result",
          "data": {
            "text/plain": [
              "27"
            ]
          },
          "metadata": {},
          "execution_count": 106
        }
      ],
      "source": [
        "d1[1.5]"
      ]
    },
    {
      "cell_type": "code",
      "execution_count": 107,
      "id": "1961d820",
      "metadata": {
        "colab": {
          "base_uri": "https://localhost:8080/"
        },
        "id": "1961d820",
        "outputId": "85656286-a4d7-4f54-906f-01b292ba4109"
      },
      "outputs": [
        {
          "output_type": "execute_result",
          "data": {
            "text/plain": [
              "dict"
            ]
          },
          "metadata": {},
          "execution_count": 107
        }
      ],
      "source": [
        "type(d1)"
      ]
    },
    {
      "cell_type": "code",
      "execution_count": 108,
      "id": "dd3246ea",
      "metadata": {
        "colab": {
          "base_uri": "https://localhost:8080/"
        },
        "id": "dd3246ea",
        "outputId": "3b4a7502-9b2e-42ce-d19d-b2de0f462c35"
      },
      "outputs": [
        {
          "output_type": "execute_result",
          "data": {
            "text/plain": [
              "dict_keys([1, 1.5])"
            ]
          },
          "metadata": {},
          "execution_count": 108
        }
      ],
      "source": [
        "d1.keys()"
      ]
    },
    {
      "cell_type": "code",
      "execution_count": 109,
      "id": "92c752ac",
      "metadata": {
        "colab": {
          "base_uri": "https://localhost:8080/"
        },
        "id": "92c752ac",
        "outputId": "07f27573-6c76-4cc6-d2d7-593c3af72dbf"
      },
      "outputs": [
        {
          "output_type": "execute_result",
          "data": {
            "text/plain": [
              "dict_values(['ahmed', 27])"
            ]
          },
          "metadata": {},
          "execution_count": 109
        }
      ],
      "source": [
        "d1.values()"
      ]
    },
    {
      "cell_type": "code",
      "execution_count": 110,
      "id": "ec9b390f",
      "metadata": {
        "colab": {
          "base_uri": "https://localhost:8080/"
        },
        "id": "ec9b390f",
        "outputId": "c46de55f-7495-4631-b59d-33869b6757b1"
      },
      "outputs": [
        {
          "output_type": "execute_result",
          "data": {
            "text/plain": [
              "{'one': 1, 'two': 2, 'three': 3}"
            ]
          },
          "metadata": {},
          "execution_count": 110
        }
      ],
      "source": [
        "#first method\n",
        "d1={'one':1,'two':2,'three':3}\n",
        "d1"
      ]
    },
    {
      "cell_type": "code",
      "execution_count": 111,
      "id": "5620b2c6",
      "metadata": {
        "colab": {
          "base_uri": "https://localhost:8080/"
        },
        "id": "5620b2c6",
        "outputId": "eb1c9a74-968f-4e63-8a47-03a77c9de605"
      },
      "outputs": [
        {
          "output_type": "execute_result",
          "data": {
            "text/plain": [
              "{'one': [1, 2, 'ahmed'], 'two': 2, 'three': 3}"
            ]
          },
          "metadata": {},
          "execution_count": 111
        }
      ],
      "source": [
        "d1={'one':[1,2,\"ahmed\"],'two':2,'three':3}\n",
        "d1"
      ]
    },
    {
      "cell_type": "code",
      "execution_count": 112,
      "id": "73a22792",
      "metadata": {
        "colab": {
          "base_uri": "https://localhost:8080/"
        },
        "id": "73a22792",
        "outputId": "13f6c996-5bfd-4568-bdb2-9b3cc828e39a"
      },
      "outputs": [
        {
          "output_type": "execute_result",
          "data": {
            "text/plain": [
              "{'one': 1, 'two': 2, 'three': 3}"
            ]
          },
          "metadata": {},
          "execution_count": 112
        }
      ],
      "source": [
        "#second method\n",
        "d2=dict(one=1,two=2,three=3)\n",
        "d2"
      ]
    },
    {
      "cell_type": "code",
      "execution_count": 113,
      "id": "53ae2831",
      "metadata": {
        "colab": {
          "base_uri": "https://localhost:8080/"
        },
        "id": "53ae2831",
        "outputId": "bf6ed4ba-ae2c-43a6-c0be-5c45bcb9e3a6"
      },
      "outputs": [
        {
          "output_type": "execute_result",
          "data": {
            "text/plain": [
              "{'one': [1, 2, 'ahmed'], 'two': 2, 'three': 3}"
            ]
          },
          "metadata": {},
          "execution_count": 113
        }
      ],
      "source": [
        "d2=dict(one=[1,2,\"ahmed\"],two=2,three=3)\n",
        "d2"
      ]
    },
    {
      "cell_type": "code",
      "execution_count": 114,
      "id": "0dc87272",
      "metadata": {
        "colab": {
          "base_uri": "https://localhost:8080/"
        },
        "id": "0dc87272",
        "outputId": "5a9b30c8-2e3b-4dd7-cc85-d9b4b74859fb"
      },
      "outputs": [
        {
          "output_type": "execute_result",
          "data": {
            "text/plain": [
              "{'one': 1, 'two': 2, 'three': 3}"
            ]
          },
          "metadata": {},
          "execution_count": 114
        }
      ],
      "source": [
        "#third method\n",
        "d3=dict([('one',1),('two',2),('three',3)])\n",
        "d3"
      ]
    },
    {
      "cell_type": "code",
      "execution_count": 115,
      "id": "10d0540f",
      "metadata": {
        "colab": {
          "base_uri": "https://localhost:8080/"
        },
        "id": "10d0540f",
        "outputId": "368dff5c-640c-4849-c333-a0b23bbe1e1b"
      },
      "outputs": [
        {
          "output_type": "stream",
          "name": "stdout",
          "text": [
            "<zip object at 0x7a404815d940>\n"
          ]
        }
      ],
      "source": [
        "print(zip(['one','two','three'],[1,2,3])) # will return the memory location where zip object stored"
      ]
    },
    {
      "cell_type": "code",
      "execution_count": 116,
      "id": "5655bbdf",
      "metadata": {
        "colab": {
          "base_uri": "https://localhost:8080/"
        },
        "id": "5655bbdf",
        "outputId": "66e1470b-9044-47ae-a48a-8773b2544d09"
      },
      "outputs": [
        {
          "output_type": "execute_result",
          "data": {
            "text/plain": [
              "[('one', 1), ('two', 2), ('three', 3)]"
            ]
          },
          "metadata": {},
          "execution_count": 116
        }
      ],
      "source": [
        "list(zip(['one','two','three'],[1,2,3]))"
      ]
    },
    {
      "cell_type": "code",
      "execution_count": 117,
      "id": "c91205e2",
      "metadata": {
        "colab": {
          "base_uri": "https://localhost:8080/"
        },
        "id": "c91205e2",
        "outputId": "4abc48bc-e545-42e0-e47b-72aac7b9224b"
      },
      "outputs": [
        {
          "output_type": "execute_result",
          "data": {
            "text/plain": [
              "{'one': 1, 'two': 2, 'three': 3}"
            ]
          },
          "metadata": {},
          "execution_count": 117
        }
      ],
      "source": [
        "#fourth method\n",
        "d4=dict(zip(['one','two','three'],[1,2,3]))\n",
        "d4"
      ]
    },
    {
      "cell_type": "code",
      "execution_count": 118,
      "id": "b5ba0568",
      "metadata": {
        "colab": {
          "base_uri": "https://localhost:8080/"
        },
        "id": "b5ba0568",
        "outputId": "a47cf98d-8f25-4264-c4ee-722f8fa16297"
      },
      "outputs": [
        {
          "output_type": "execute_result",
          "data": {
            "text/plain": [
              "{'one': 1, 'two': 2, 'three': 3}"
            ]
          },
          "metadata": {},
          "execution_count": 118
        }
      ],
      "source": [
        "#fifth method\n",
        "d5=dict({'one':1,'two':2,'three':3})\n",
        "d5"
      ]
    },
    {
      "cell_type": "code",
      "execution_count": 119,
      "id": "cd4e9747",
      "metadata": {
        "colab": {
          "base_uri": "https://localhost:8080/"
        },
        "id": "cd4e9747",
        "outputId": "aabc50d5-9ed6-4187-8ab5-b9eb5ba69814"
      },
      "outputs": [
        {
          "output_type": "stream",
          "name": "stdout",
          "text": [
            "False\n"
          ]
        }
      ],
      "source": [
        "print(d1==d2==d3==d4==d5)"
      ]
    },
    {
      "cell_type": "markdown",
      "id": "d1e8f6f7",
      "metadata": {
        "id": "d1e8f6f7"
      },
      "source": [
        "### LOOPS"
      ]
    },
    {
      "cell_type": "code",
      "execution_count": 120,
      "id": "b252ba07",
      "metadata": {
        "colab": {
          "base_uri": "https://localhost:8080/"
        },
        "id": "b252ba07",
        "outputId": "2af0ec25-57db-4d10-d003-a9bc9aea7f57"
      },
      "outputs": [
        {
          "output_type": "stream",
          "name": "stdout",
          "text": [
            "0\n",
            "1\n",
            "2\n",
            "3\n"
          ]
        }
      ],
      "source": [
        "for i in [0,1,2,3]:\n",
        "    print(i)"
      ]
    },
    {
      "cell_type": "code",
      "execution_count": 121,
      "id": "40662f21",
      "metadata": {
        "colab": {
          "base_uri": "https://localhost:8080/"
        },
        "id": "40662f21",
        "outputId": "ab681946-bbf0-4b5b-8d3f-943abb84a4f9"
      },
      "outputs": [
        {
          "output_type": "stream",
          "name": "stdout",
          "text": [
            "100\n",
            "1\n",
            "2\n",
            "3\n"
          ]
        }
      ],
      "source": [
        "for i in [100,1,2,3]:\n",
        "    print(i)"
      ]
    },
    {
      "cell_type": "code",
      "execution_count": 122,
      "id": "54eabc2b",
      "metadata": {
        "colab": {
          "base_uri": "https://localhost:8080/"
        },
        "id": "54eabc2b",
        "outputId": "c05ab55d-3c0e-4652-e203-20b2287a5f48"
      },
      "outputs": [
        {
          "output_type": "stream",
          "name": "stdout",
          "text": [
            "huawei\n",
            "3\n",
            "nti\n"
          ]
        }
      ],
      "source": [
        "for i in [\"huawei\",3,\"nti\"]:\n",
        "    print(i)"
      ]
    },
    {
      "cell_type": "code",
      "execution_count": 123,
      "id": "6d3206bd",
      "metadata": {
        "colab": {
          "base_uri": "https://localhost:8080/"
        },
        "id": "6d3206bd",
        "outputId": "adf6d6e4-aba1-48c9-b65c-776aa678f545"
      },
      "outputs": [
        {
          "output_type": "stream",
          "name": "stdout",
          "text": [
            "0\n",
            "1\n",
            "2\n",
            "3\n",
            "4\n",
            "5\n",
            "6\n",
            "7\n",
            "8\n",
            "9\n"
          ]
        }
      ],
      "source": [
        "for i in range(10):\n",
        "    print(i)"
      ]
    },
    {
      "cell_type": "code",
      "execution_count": 124,
      "id": "f0bc8bb9",
      "metadata": {
        "colab": {
          "base_uri": "https://localhost:8080/"
        },
        "id": "f0bc8bb9",
        "outputId": "7c480798-fd7b-4a9f-fe42-75174a9eea29"
      },
      "outputs": [
        {
          "output_type": "stream",
          "name": "stdout",
          "text": [
            "4\n",
            "5\n",
            "6\n",
            "7\n",
            "8\n",
            "9\n"
          ]
        }
      ],
      "source": [
        "for i in range(4,10):\n",
        "    print(i)"
      ]
    },
    {
      "cell_type": "code",
      "execution_count": 125,
      "id": "b13e2db0",
      "metadata": {
        "colab": {
          "base_uri": "https://localhost:8080/"
        },
        "id": "b13e2db0",
        "outputId": "5a4141f4-4308-4e3c-8355-6d876a72c59f"
      },
      "outputs": [
        {
          "output_type": "stream",
          "name": "stdout",
          "text": [
            "4\n",
            "6\n",
            "8\n"
          ]
        }
      ],
      "source": [
        "for i in range(4,10,2):\n",
        "    print(i)"
      ]
    },
    {
      "cell_type": "code",
      "execution_count": 126,
      "id": "70630f04",
      "metadata": {
        "colab": {
          "base_uri": "https://localhost:8080/"
        },
        "id": "70630f04",
        "outputId": "945c20a0-f23f-44dd-a6ea-08c9137635d8"
      },
      "outputs": [
        {
          "output_type": "execute_result",
          "data": {
            "text/plain": [
              "[range(0, 10)]"
            ]
          },
          "metadata": {},
          "execution_count": 126
        }
      ],
      "source": [
        "x=[range(10)]\n",
        "x"
      ]
    },
    {
      "cell_type": "markdown",
      "id": "b51b3ae6",
      "metadata": {
        "id": "b51b3ae6"
      },
      "source": [
        "### List Comprehension"
      ]
    },
    {
      "cell_type": "markdown",
      "id": "cfd57454",
      "metadata": {
        "id": "cfd57454"
      },
      "source": [
        "newList = [ expression(element) for element in oldList if condition ]"
      ]
    },
    {
      "cell_type": "code",
      "execution_count": 127,
      "id": "a74c0950",
      "metadata": {
        "colab": {
          "base_uri": "https://localhost:8080/"
        },
        "id": "a74c0950",
        "outputId": "8907adfa-f1ce-4fd2-9afc-e9ae0ec78781"
      },
      "outputs": [
        {
          "output_type": "execute_result",
          "data": {
            "text/plain": [
              "[0, 1, 2, 3, 4, 5, 6, 7, 8, 9]"
            ]
          },
          "metadata": {},
          "execution_count": 127
        }
      ],
      "source": [
        "x=[i for i in range(10)]\n",
        "x"
      ]
    },
    {
      "cell_type": "code",
      "execution_count": 128,
      "id": "e84d5720",
      "metadata": {
        "colab": {
          "base_uri": "https://localhost:8080/"
        },
        "id": "e84d5720",
        "outputId": "9efea1d6-0cb6-4e71-9fad-4b73c00ccbb5"
      },
      "outputs": [
        {
          "output_type": "execute_result",
          "data": {
            "text/plain": [
              "[4, 6, 8]"
            ]
          },
          "metadata": {},
          "execution_count": 128
        }
      ],
      "source": [
        "x=[i for i in range(4,10,2)]\n",
        "x"
      ]
    },
    {
      "cell_type": "code",
      "execution_count": 129,
      "id": "580083f5",
      "metadata": {
        "colab": {
          "base_uri": "https://localhost:8080/"
        },
        "id": "580083f5",
        "outputId": "03db21e8-a046-4659-8e24-d07c50a06623"
      },
      "outputs": [
        {
          "output_type": "execute_result",
          "data": {
            "text/plain": [
              "[16, 36, 64]"
            ]
          },
          "metadata": {},
          "execution_count": 129
        }
      ],
      "source": [
        "x=[i*i for i in range(4,10,2)]\n",
        "x"
      ]
    },
    {
      "cell_type": "code",
      "execution_count": 130,
      "id": "d4d0aa06",
      "metadata": {
        "colab": {
          "base_uri": "https://localhost:8080/"
        },
        "id": "d4d0aa06",
        "outputId": "72d824ca-30d6-4c11-c929-eab944cd47c1"
      },
      "outputs": [
        {
          "output_type": "execute_result",
          "data": {
            "text/plain": [
              "[8, 48]"
            ]
          },
          "metadata": {},
          "execution_count": 130
        }
      ],
      "source": [
        "x=[i*j for i,j in [(2,4),(6,8)]]\n",
        "x"
      ]
    },
    {
      "cell_type": "code",
      "execution_count": 131,
      "id": "1a2be5ef",
      "metadata": {
        "colab": {
          "base_uri": "https://localhost:8080/"
        },
        "id": "1a2be5ef",
        "outputId": "5c6eec2f-042b-4f4e-fe62-b67fd9d8023a"
      },
      "outputs": [
        {
          "output_type": "execute_result",
          "data": {
            "text/plain": [
              "[['Nancy', 'Engineer'],\n",
              " ['Ahmed', 'CEO'],\n",
              " ['Farida', 'hr'],\n",
              " ['Rayan', 'Accountant']]"
            ]
          },
          "metadata": {},
          "execution_count": 131
        }
      ],
      "source": [
        "data=[(\"Nancy\",\"Engineer\",37),(\"Ahmed\",\"CEO\",40),(\"Farida\",\"hr\",27),(\"Rayan\",\"Accountant\",24)]\n",
        "name=[ [x,y] for x,y,z in data]\n",
        "name"
      ]
    },
    {
      "cell_type": "code",
      "execution_count": 132,
      "id": "4072662f",
      "metadata": {
        "colab": {
          "base_uri": "https://localhost:8080/"
        },
        "id": "4072662f",
        "outputId": "d6d13b2b-85ef-4434-b216-978559435d73"
      },
      "outputs": [
        {
          "output_type": "execute_result",
          "data": {
            "text/plain": [
              "{'Nancy': 'Engineer', 'Ahmed': 'CEO', 'Farida': 'hr', 'Rayan': 'Accountant'}"
            ]
          },
          "metadata": {},
          "execution_count": 132
        }
      ],
      "source": [
        "\n",
        "data=[(\"Nancy\",\"Engineer\",37),(\"Ahmed\",\"CEO\",40),(\"Farida\",\"hr\",27),(\"Rayan\",\"Accountant\",24)]\n",
        "Employee={name:job for name,job,Age in data }\n",
        "Employee"
      ]
    },
    {
      "cell_type": "code",
      "execution_count": 133,
      "id": "491e2603",
      "metadata": {
        "colab": {
          "base_uri": "https://localhost:8080/"
        },
        "id": "491e2603",
        "outputId": "58610bc8-a48f-4aee-9a9e-881f4d807e69"
      },
      "outputs": [
        {
          "output_type": "stream",
          "name": "stdout",
          "text": [
            "Engineer\n"
          ]
        }
      ],
      "source": [
        "print (Employee[\"Nancy\"])"
      ]
    },
    {
      "cell_type": "code",
      "execution_count": 136,
      "id": "c50e86bc",
      "metadata": {
        "colab": {
          "base_uri": "https://localhost:8080/",
          "height": 141
        },
        "id": "c50e86bc",
        "outputId": "7c7e621c-ce6b-4fcc-8342-e2ae4bb1aebf"
      },
      "outputs": [
        {
          "output_type": "error",
          "ename": "KeyError",
          "evalue": "'Nanc'",
          "traceback": [
            "\u001b[0;31m---------------------------------------------------------------------------\u001b[0m",
            "\u001b[0;31mKeyError\u001b[0m                                  Traceback (most recent call last)",
            "\u001b[0;32m<ipython-input-136-575d3966375e>\u001b[0m in \u001b[0;36m<cell line: 1>\u001b[0;34m()\u001b[0m\n\u001b[0;32m----> 1\u001b[0;31m \u001b[0mprint\u001b[0m\u001b[0;34m(\u001b[0m\u001b[0mEmployee\u001b[0m\u001b[0;34m[\u001b[0m\u001b[0;34m\"Nanc\"\u001b[0m\u001b[0;34m]\u001b[0m\u001b[0;34m)\u001b[0m\u001b[0;34m\u001b[0m\u001b[0;34m\u001b[0m\u001b[0m\n\u001b[0m",
            "\u001b[0;31mKeyError\u001b[0m: 'Nanc'"
          ]
        }
      ],
      "source": [
        "print(Employee[\"Nanc\"])"
      ]
    },
    {
      "cell_type": "code",
      "execution_count": 134,
      "id": "4ebe9338",
      "metadata": {
        "colab": {
          "base_uri": "https://localhost:8080/"
        },
        "id": "4ebe9338",
        "outputId": "0d778f07-64d5-4fe8-a159-c9abfcfc37a4"
      },
      "outputs": [
        {
          "output_type": "stream",
          "name": "stdout",
          "text": [
            "Engineer\n"
          ]
        }
      ],
      "source": [
        "print (Employee.get(\"Nancy\"))"
      ]
    },
    {
      "cell_type": "code",
      "execution_count": 135,
      "id": "5f47fa05",
      "metadata": {
        "colab": {
          "base_uri": "https://localhost:8080/"
        },
        "id": "5f47fa05",
        "outputId": "9b9798a2-30ec-45c6-b76f-7543f92dea09"
      },
      "outputs": [
        {
          "output_type": "stream",
          "name": "stdout",
          "text": [
            "None\n"
          ]
        }
      ],
      "source": [
        "print (Employee.get(\"Nanc\"))"
      ]
    },
    {
      "cell_type": "code",
      "execution_count": 137,
      "id": "2cac2cf9",
      "metadata": {
        "colab": {
          "base_uri": "https://localhost:8080/"
        },
        "id": "2cac2cf9",
        "outputId": "b22034d5-c445-4fa9-e4c0-3e10c37f3fe0"
      },
      "outputs": [
        {
          "output_type": "stream",
          "name": "stdout",
          "text": [
            "Not in my Staff\n"
          ]
        }
      ],
      "source": [
        "print(Employee.get(\"Nanc\",\"Not in my Staff\"))"
      ]
    },
    {
      "cell_type": "code",
      "execution_count": 138,
      "id": "d09b9cdf",
      "metadata": {
        "colab": {
          "base_uri": "https://localhost:8080/"
        },
        "id": "d09b9cdf",
        "outputId": "a0fabc5e-fec4-4e8c-9b2c-5054a9d9d353"
      },
      "outputs": [
        {
          "output_type": "stream",
          "name": "stdout",
          "text": [
            "Engineer\n"
          ]
        }
      ],
      "source": [
        "print(Employee.get(\"Nancy\",\"Not in my Staff\"))"
      ]
    },
    {
      "cell_type": "code",
      "execution_count": 139,
      "id": "3bc5e4a8",
      "metadata": {
        "colab": {
          "base_uri": "https://localhost:8080/"
        },
        "id": "3bc5e4a8",
        "outputId": "802e0b53-b66f-4748-95d9-0ed4a2e2b744"
      },
      "outputs": [
        {
          "output_type": "stream",
          "name": "stdout",
          "text": [
            "Employee as dic is  {'Nancy': 'Engineer', 'Ahmed': 'CEO', 'Farida': 'hr', 'Rayan': 'Accountant'}\n",
            "emp      as dic is  {'Nancy': 'Engineer', 'Ahmed': 'CEO', 'Farida': 'hr', 'Rayan': 'Doctor'}\n"
          ]
        }
      ],
      "source": [
        "import copy\n",
        "emp=Employee.copy()\n",
        "emp[\"Rayan\"]=\"Doctor\"\n",
        "print(\"Employee as dic is \",Employee)\n",
        "print(\"emp      as dic is \",emp)"
      ]
    },
    {
      "cell_type": "code",
      "execution_count": 140,
      "id": "44939d28",
      "metadata": {
        "colab": {
          "base_uri": "https://localhost:8080/"
        },
        "id": "44939d28",
        "outputId": "6829d0d7-24af-4b63-edf9-113695ac4d4b"
      },
      "outputs": [
        {
          "output_type": "execute_result",
          "data": {
            "text/plain": [
              "{'Nancy': 'Engineer', 'Ahmed': 'CEO', 'Farida': 'hr', 'Rayan': 'Accountant'}"
            ]
          },
          "metadata": {},
          "execution_count": 140
        }
      ],
      "source": [
        "X=Employee.copy()\n",
        "X"
      ]
    },
    {
      "cell_type": "code",
      "execution_count": 141,
      "id": "c0222649",
      "metadata": {
        "colab": {
          "base_uri": "https://localhost:8080/",
          "height": 36
        },
        "id": "c0222649",
        "outputId": "18245b44-3803-4521-b3ad-f8e4deec8539"
      },
      "outputs": [
        {
          "output_type": "execute_result",
          "data": {
            "text/plain": [
              "'Accountant'"
            ],
            "application/vnd.google.colaboratory.intrinsic+json": {
              "type": "string"
            }
          },
          "metadata": {},
          "execution_count": 141
        }
      ],
      "source": [
        "X[\"Rayan\"]"
      ]
    },
    {
      "cell_type": "code",
      "execution_count": 142,
      "id": "d3e7e8ed",
      "metadata": {
        "id": "d3e7e8ed"
      },
      "outputs": [],
      "source": [
        "X[\"Rayan\"]=\"Manager\""
      ]
    },
    {
      "cell_type": "code",
      "execution_count": 143,
      "id": "6c4f2055",
      "metadata": {
        "colab": {
          "base_uri": "https://localhost:8080/"
        },
        "id": "6c4f2055",
        "outputId": "a40e1ddf-b057-404e-fcda-0829bb3a819c"
      },
      "outputs": [
        {
          "output_type": "execute_result",
          "data": {
            "text/plain": [
              "{'Nancy': 'Engineer', 'Ahmed': 'CEO', 'Farida': 'hr', 'Rayan': 'Manager'}"
            ]
          },
          "metadata": {},
          "execution_count": 143
        }
      ],
      "source": [
        "X"
      ]
    },
    {
      "cell_type": "code",
      "execution_count": 144,
      "id": "e512ad81",
      "metadata": {
        "colab": {
          "base_uri": "https://localhost:8080/"
        },
        "id": "e512ad81",
        "outputId": "f4676e74-b042-43ad-99e4-960b042bf0f6"
      },
      "outputs": [
        {
          "output_type": "execute_result",
          "data": {
            "text/plain": [
              "{'Nancy': 'Engineer', 'Ahmed': 'CEO', 'Farida': 'hr', 'Rayan': 'Accountant'}"
            ]
          },
          "metadata": {},
          "execution_count": 144
        }
      ],
      "source": [
        "Employee"
      ]
    },
    {
      "cell_type": "code",
      "execution_count": 145,
      "id": "f7b57cd0",
      "metadata": {
        "colab": {
          "base_uri": "https://localhost:8080/"
        },
        "id": "f7b57cd0",
        "outputId": "e6812e49-c344-4339-8db5-443259b75bd3"
      },
      "outputs": [
        {
          "output_type": "execute_result",
          "data": {
            "text/plain": [
              "dict_keys(['Nancy', 'Ahmed', 'Farida', 'Rayan'])"
            ]
          },
          "metadata": {},
          "execution_count": 145
        }
      ],
      "source": [
        "Employee.keys()"
      ]
    },
    {
      "cell_type": "code",
      "execution_count": 146,
      "id": "c74e6c35",
      "metadata": {
        "colab": {
          "base_uri": "https://localhost:8080/"
        },
        "id": "c74e6c35",
        "outputId": "36f7e6d0-812a-4925-8eb6-251581c7ac33"
      },
      "outputs": [
        {
          "output_type": "execute_result",
          "data": {
            "text/plain": [
              "dict_values(['Engineer', 'CEO', 'hr', 'Accountant'])"
            ]
          },
          "metadata": {},
          "execution_count": 146
        }
      ],
      "source": [
        "Employee.values()"
      ]
    },
    {
      "cell_type": "code",
      "execution_count": 147,
      "id": "d6696f80",
      "metadata": {
        "colab": {
          "base_uri": "https://localhost:8080/"
        },
        "id": "d6696f80",
        "outputId": "69ecb115-0124-4cab-c4ca-e2ef87142517"
      },
      "outputs": [
        {
          "output_type": "execute_result",
          "data": {
            "text/plain": [
              "dict_items([('Nancy', 'Engineer'), ('Ahmed', 'CEO'), ('Farida', 'hr'), ('Rayan', 'Accountant')])"
            ]
          },
          "metadata": {},
          "execution_count": 147
        }
      ],
      "source": [
        "Employee.items()"
      ]
    },
    {
      "cell_type": "code",
      "execution_count": 148,
      "id": "85853b73",
      "metadata": {
        "colab": {
          "base_uri": "https://localhost:8080/"
        },
        "id": "85853b73",
        "outputId": "978c14dd-70dc-4234-9b80-8326e3c2137f"
      },
      "outputs": [
        {
          "output_type": "execute_result",
          "data": {
            "text/plain": [
              "dict_items([])"
            ]
          },
          "metadata": {},
          "execution_count": 148
        }
      ],
      "source": [
        "X.clear()\n",
        "X.items()"
      ]
    },
    {
      "cell_type": "code",
      "execution_count": 149,
      "id": "40a60e26",
      "metadata": {
        "colab": {
          "base_uri": "https://localhost:8080/",
          "height": 158
        },
        "id": "40a60e26",
        "outputId": "af5f0720-302c-4717-cc38-b3a487bd63c6"
      },
      "outputs": [
        {
          "output_type": "error",
          "ename": "NameError",
          "evalue": "name 'X' is not defined",
          "traceback": [
            "\u001b[0;31m---------------------------------------------------------------------------\u001b[0m",
            "\u001b[0;31mNameError\u001b[0m                                 Traceback (most recent call last)",
            "\u001b[0;32m<ipython-input-149-c7a72aa10f26>\u001b[0m in \u001b[0;36m<cell line: 2>\u001b[0;34m()\u001b[0m\n\u001b[1;32m      1\u001b[0m \u001b[0;32mdel\u001b[0m\u001b[0;34m(\u001b[0m\u001b[0mX\u001b[0m\u001b[0;34m)\u001b[0m\u001b[0;34m\u001b[0m\u001b[0;34m\u001b[0m\u001b[0m\n\u001b[0;32m----> 2\u001b[0;31m \u001b[0mX\u001b[0m\u001b[0;34m.\u001b[0m\u001b[0mitems\u001b[0m\u001b[0;34m(\u001b[0m\u001b[0;34m)\u001b[0m\u001b[0;34m\u001b[0m\u001b[0;34m\u001b[0m\u001b[0m\n\u001b[0m",
            "\u001b[0;31mNameError\u001b[0m: name 'X' is not defined"
          ]
        }
      ],
      "source": [
        "del(X)\n",
        "X.items()"
      ]
    },
    {
      "cell_type": "code",
      "execution_count": null,
      "id": "6381157f",
      "metadata": {
        "id": "6381157f"
      },
      "outputs": [],
      "source": [
        "################String###########"
      ]
    },
    {
      "cell_type": "code",
      "execution_count": 150,
      "id": "0dbccad8",
      "metadata": {
        "colab": {
          "base_uri": "https://localhost:8080/"
        },
        "id": "0dbccad8",
        "outputId": "0969cf1b-f91c-4120-a6bf-ba7d55e5cb5d"
      },
      "outputs": [
        {
          "output_type": "stream",
          "name": "stdout",
          "text": [
            "String\n"
          ]
        }
      ],
      "source": [
        "s1='String'\n",
        "print(s1)"
      ]
    },
    {
      "cell_type": "code",
      "execution_count": 151,
      "id": "8c521cf2",
      "metadata": {
        "colab": {
          "base_uri": "https://localhost:8080/"
        },
        "id": "8c521cf2",
        "outputId": "89779e32-b648-4651-f7ab-47a43e3a3471"
      },
      "outputs": [
        {
          "output_type": "stream",
          "name": "stdout",
          "text": [
            "Hello Python\n"
          ]
        }
      ],
      "source": [
        "s2=\"Hello Python\"\n",
        "print(s2)"
      ]
    },
    {
      "cell_type": "code",
      "execution_count": 152,
      "id": "8528f706",
      "metadata": {
        "colab": {
          "base_uri": "https://localhost:8080/",
          "height": 36
        },
        "id": "8528f706",
        "outputId": "03f84024-e038-4a3d-c39b-fc7deacea50f"
      },
      "outputs": [
        {
          "output_type": "execute_result",
          "data": {
            "text/plain": [
              "'g'"
            ],
            "application/vnd.google.colaboratory.intrinsic+json": {
              "type": "string"
            }
          },
          "metadata": {},
          "execution_count": 152
        }
      ],
      "source": [
        "s1[-1]"
      ]
    },
    {
      "cell_type": "code",
      "execution_count": 153,
      "id": "2404a5b9",
      "metadata": {
        "colab": {
          "base_uri": "https://localhost:8080/",
          "height": 36
        },
        "id": "2404a5b9",
        "outputId": "72276c42-b864-404c-d066-6ac65e6cca68"
      },
      "outputs": [
        {
          "output_type": "execute_result",
          "data": {
            "text/plain": [
              "'Strin'"
            ],
            "application/vnd.google.colaboratory.intrinsic+json": {
              "type": "string"
            }
          },
          "metadata": {},
          "execution_count": 153
        }
      ],
      "source": [
        "s1[:-1]"
      ]
    },
    {
      "cell_type": "code",
      "execution_count": 154,
      "id": "d228a753",
      "metadata": {
        "colab": {
          "base_uri": "https://localhost:8080/",
          "height": 36
        },
        "id": "d228a753",
        "outputId": "88d63630-cff2-494e-ec49-31826739afc6"
      },
      "outputs": [
        {
          "output_type": "execute_result",
          "data": {
            "text/plain": [
              "'String'"
            ],
            "application/vnd.google.colaboratory.intrinsic+json": {
              "type": "string"
            }
          },
          "metadata": {},
          "execution_count": 154
        }
      ],
      "source": [
        "s1[0:]#s1[:],s1"
      ]
    },
    {
      "cell_type": "code",
      "execution_count": 155,
      "id": "b4238587",
      "metadata": {
        "colab": {
          "base_uri": "https://localhost:8080/",
          "height": 36
        },
        "id": "b4238587",
        "outputId": "875336ea-75d3-43b0-cc63-f3b79ac01fdc"
      },
      "outputs": [
        {
          "output_type": "execute_result",
          "data": {
            "text/plain": [
              "'ring'"
            ],
            "application/vnd.google.colaboratory.intrinsic+json": {
              "type": "string"
            }
          },
          "metadata": {},
          "execution_count": 155
        }
      ],
      "source": [
        "s1[2:]"
      ]
    },
    {
      "cell_type": "code",
      "execution_count": 158,
      "id": "10a35657",
      "metadata": {
        "colab": {
          "base_uri": "https://localhost:8080/"
        },
        "id": "10a35657",
        "outputId": "e4b8c968-ce4b-43da-b139-efa039ebfaca"
      },
      "outputs": [
        {
          "output_type": "stream",
          "name": "stdout",
          "text": [
            "python \n",
            "\"Hello World\" \n",
            "string\n"
          ]
        }
      ],
      "source": [
        "sss='''python\n",
        "\"Hello World\"\n",
        "string'''\n",
        "print(sss)"
      ]
    },
    {
      "cell_type": "code",
      "execution_count": 159,
      "id": "cf14b1ec",
      "metadata": {
        "colab": {
          "base_uri": "https://localhost:8080/"
        },
        "id": "cf14b1ec",
        "outputId": "46378f2a-ec37-4ffb-8669-ae278b0a6221"
      },
      "outputs": [
        {
          "output_type": "stream",
          "name": "stdout",
          "text": [
            "this is a long string\n"
          ]
        }
      ],
      "source": [
        "print('this is a long string')"
      ]
    },
    {
      "cell_type": "code",
      "execution_count": 160,
      "id": "a0aae273",
      "metadata": {
        "colab": {
          "base_uri": "https://localhost:8080/"
        },
        "id": "a0aae273",
        "outputId": "448f0d3a-2bb1-428e-ed48-5d5ea99f8ecd"
      },
      "outputs": [
        {
          "output_type": "stream",
          "name": "stdout",
          "text": [
            "www\\SVN_CODE\\V900R17C00_TRP\\omu\\src\n"
          ]
        }
      ],
      "source": [
        "raw ='www\\\\SVN_CODE\\V900R17C00_TRP\\omu\\src'\n",
        "print(raw)"
      ]
    },
    {
      "cell_type": "code",
      "execution_count": 161,
      "id": "393ef1f8",
      "metadata": {
        "colab": {
          "base_uri": "https://localhost:8080/"
        },
        "id": "393ef1f8",
        "outputId": "bd405bb7-7256-4a97-c694-a9318ba3a7bd"
      },
      "outputs": [
        {
          "output_type": "stream",
          "name": "stdout",
          "text": [
            "www:\\\\SVN_CODE\\V900R17C00_TRP\\omu\\src\n"
          ]
        }
      ],
      "source": [
        "rawStr = r'www:\\\\SVN_CODE\\V900R17C00_TRP\\omu\\src'\n",
        "print(rawStr)"
      ]
    },
    {
      "cell_type": "code",
      "execution_count": 162,
      "id": "5b9c09fa",
      "metadata": {
        "colab": {
          "base_uri": "https://localhost:8080/"
        },
        "id": "5b9c09fa",
        "outputId": "ee626ccd-c155-4baa-de02-4ed789a541dd"
      },
      "outputs": [
        {
          "output_type": "stream",
          "name": "stdout",
          "text": [
            "b\n"
          ]
        }
      ],
      "source": [
        "print(\"%c\" % 98)"
      ]
    },
    {
      "cell_type": "code",
      "execution_count": 165,
      "id": "66226eb8",
      "metadata": {
        "colab": {
          "base_uri": "https://localhost:8080/"
        },
        "id": "66226eb8",
        "outputId": "dce24046-746c-4844-bdeb-b9aae96d1ca4"
      },
      "outputs": [
        {
          "output_type": "stream",
          "name": "stdout",
          "text": [
            "98\n"
          ]
        }
      ],
      "source": [
        "print(\"%d\" % 98.5)"
      ]
    },
    {
      "cell_type": "code",
      "execution_count": 164,
      "id": "ce3f684a",
      "metadata": {
        "colab": {
          "base_uri": "https://localhost:8080/"
        },
        "id": "ce3f684a",
        "outputId": "2905c9a1-0e44-473f-eb8f-9fe25038e6c9"
      },
      "outputs": [
        {
          "output_type": "stream",
          "name": "stdout",
          "text": [
            "98\n"
          ]
        }
      ],
      "source": [
        "print(\"%i\" % 98)"
      ]
    },
    {
      "cell_type": "code",
      "execution_count": 166,
      "id": "ef07fe4a",
      "metadata": {
        "colab": {
          "base_uri": "https://localhost:8080/"
        },
        "id": "ef07fe4a",
        "outputId": "66e76d8c-0896-4fbe-80dd-886eb97bac38"
      },
      "outputs": [
        {
          "output_type": "stream",
          "name": "stdout",
          "text": [
            "98.000000\n"
          ]
        }
      ],
      "source": [
        "print(\"%f\" % 98)"
      ]
    },
    {
      "cell_type": "code",
      "execution_count": 167,
      "id": "44a90c5e",
      "metadata": {
        "colab": {
          "base_uri": "https://localhost:8080/"
        },
        "id": "44a90c5e",
        "outputId": "bd80e275-ffd2-43f4-c331-77cb4cc78b10"
      },
      "outputs": [
        {
          "output_type": "stream",
          "name": "stdout",
          "text": [
            "     2.500\n"
          ]
        }
      ],
      "source": [
        "\"\"\"%10.3f:\n",
        "    10 specifies the total width of the output (including decimal point and digits).\n",
        "    .3 specifies that the number will be rounded to 3 decimal places.\n",
        "    f means it's a floating-point number.\"\"\"\n",
        "print(\"%10.3f\" % 2.5)"
      ]
    },
    {
      "cell_type": "code",
      "execution_count": 168,
      "id": "f73d14e2",
      "metadata": {
        "colab": {
          "base_uri": "https://localhost:8080/"
        },
        "id": "f73d14e2",
        "outputId": "145a837f-8813-4049-d1e5-13f7ca02a55c"
      },
      "outputs": [
        {
          "output_type": "stream",
          "name": "stdout",
          "text": [
            "         2.5000\n"
          ]
        }
      ],
      "source": [
        "print(\"%15.4f\" % 2.5)"
      ]
    },
    {
      "cell_type": "code",
      "execution_count": 169,
      "id": "dd91c3c0",
      "metadata": {
        "scrolled": true,
        "colab": {
          "base_uri": "https://localhost:8080/"
        },
        "id": "dd91c3c0",
        "outputId": "70801f39-0377-4f50-a874-4482ebc6cc0f"
      },
      "outputs": [
        {
          "output_type": "stream",
          "name": "stdout",
          "text": [
            "I want Python.\n"
          ]
        }
      ],
      "source": [
        "s = 'I' + ' '+ 'want'+ ' ' + 'Python' + '.'\n",
        "print(s)"
      ]
    },
    {
      "cell_type": "code",
      "execution_count": 170,
      "id": "d7c70b4f",
      "metadata": {
        "colab": {
          "base_uri": "https://localhost:8080/"
        },
        "id": "d7c70b4f",
        "outputId": "13197e5a-a04b-4001-9d3a-a1b395ba33f8"
      },
      "outputs": [
        {
          "output_type": "stream",
          "name": "stdout",
          "text": [
            "I want Python I want Python I want Python \n"
          ]
        }
      ],
      "source": [
        "ss='I want Python '*3\n",
        "print(ss)"
      ]
    },
    {
      "cell_type": "code",
      "execution_count": 171,
      "id": "accac4ae",
      "metadata": {
        "id": "accac4ae"
      },
      "outputs": [],
      "source": [
        "del(ss)"
      ]
    },
    {
      "cell_type": "code",
      "execution_count": 172,
      "id": "a3ff7ef7",
      "metadata": {
        "id": "a3ff7ef7"
      },
      "outputs": [],
      "source": [
        "################  If  ###########"
      ]
    },
    {
      "cell_type": "code",
      "execution_count": 178,
      "id": "931bd7c8",
      "metadata": {
        "colab": {
          "base_uri": "https://localhost:8080/"
        },
        "id": "931bd7c8",
        "outputId": "f10769b2-4045-49f8-cbec-a86441c5fa71"
      },
      "outputs": [
        {
          "output_type": "stream",
          "name": "stdout",
          "text": [
            "please enter score : h\n",
            "Enter a correct Score.\n"
          ]
        }
      ],
      "source": [
        "score=input(\"please enter score : \")\n",
        "\n",
        "try :\n",
        "  score=float(score)\n",
        "  if 100 >= score >= 90 :\n",
        "    print(\"Excellent\")\n",
        "  elif 90 > score >= 80 :\n",
        "    print(\"Very Good\")\n",
        "  elif 80 > score >= 70 :\n",
        "    print(\"Good\")\n",
        "  elif 70 > score >= 50 :\n",
        "    print(\"Medium\")\n",
        "  else :\n",
        "    print(\"Bad\")\n",
        "except Exception:\n",
        "  print(\"Enter a correct Score.\")"
      ]
    },
    {
      "cell_type": "code",
      "execution_count": null,
      "id": "e165bb5b",
      "metadata": {
        "id": "e165bb5b"
      },
      "outputs": [],
      "source": [
        "################ Nested for ###########"
      ]
    },
    {
      "cell_type": "code",
      "execution_count": 179,
      "id": "1b6a539b",
      "metadata": {
        "colab": {
          "base_uri": "https://localhost:8080/"
        },
        "id": "1b6a539b",
        "outputId": "58ccfb01-a77e-487a-ee6e-d9942d9c2a3b"
      },
      "outputs": [
        {
          "output_type": "stream",
          "name": "stdout",
          "text": [
            "1 * 1 =  1   \n",
            "2 * 1 =  2   2 * 2 =  4   \n",
            "3 * 1 =  3   3 * 2 =  6   3 * 3 =  9   \n",
            "4 * 1 =  4   4 * 2 =  8   4 * 3 = 12   4 * 4 = 16   \n",
            "5 * 1 =  5   5 * 2 = 10   5 * 3 = 15   5 * 4 = 20   5 * 5 = 25   \n",
            "6 * 1 =  6   6 * 2 = 12   6 * 3 = 18   6 * 4 = 24   6 * 5 = 30   6 * 6 = 36   \n",
            "7 * 1 =  7   7 * 2 = 14   7 * 3 = 21   7 * 4 = 28   7 * 5 = 35   7 * 6 = 42   7 * 7 = 49   \n",
            "8 * 1 =  8   8 * 2 = 16   8 * 3 = 24   8 * 4 = 32   8 * 5 = 40   8 * 6 = 48   8 * 7 = 56   8 * 8 = 64   \n",
            "9 * 1 =  9   9 * 2 = 18   9 * 3 = 27   9 * 4 = 36   9 * 5 = 45   9 * 6 = 54   9 * 7 = 63   9 * 8 = 72   9 * 9 = 81   \n"
          ]
        }
      ],
      "source": [
        "for i in range(1,10):\n",
        "  for j in range(1,i+1):\n",
        "    print (\"%d * %d = %2d\"%(i,j,i*j),end= \"   \")\n",
        "  print()"
      ]
    },
    {
      "cell_type": "code",
      "execution_count": 181,
      "id": "c659b3b5",
      "metadata": {
        "id": "c659b3b5"
      },
      "outputs": [],
      "source": [
        "################ while ###########"
      ]
    },
    {
      "cell_type": "code",
      "execution_count": 180,
      "id": "5a1d39f0",
      "metadata": {
        "colab": {
          "base_uri": "https://localhost:8080/"
        },
        "id": "5a1d39f0",
        "outputId": "73ceeffc-510f-4930-be1c-acab6b889875"
      },
      "outputs": [
        {
          "output_type": "stream",
          "name": "stdout",
          "text": [
            "91\n",
            "92\n",
            "93\n",
            "94\n",
            "95\n",
            "96\n",
            "97\n",
            "98\n",
            "99\n",
            "100\n"
          ]
        }
      ],
      "source": [
        "i=90\n",
        "while (i<100):\n",
        "    i+=1\n",
        "    print(i)"
      ]
    },
    {
      "cell_type": "code",
      "execution_count": 182,
      "id": "88e27e3e",
      "metadata": {
        "colab": {
          "base_uri": "https://localhost:8080/"
        },
        "id": "88e27e3e",
        "outputId": "ca6c841c-f780-4e48-ffcd-0283f1b848be"
      },
      "outputs": [
        {
          "output_type": "stream",
          "name": "stdout",
          "text": [
            "91\n",
            "92\n",
            "93\n",
            "94\n",
            "95\n",
            "96\n",
            "97\n",
            "98\n",
            "99\n"
          ]
        }
      ],
      "source": [
        "i=90\n",
        "while (True):\n",
        "    i+=1\n",
        "    if i==100:\n",
        "        break\n",
        "    print(i)"
      ]
    },
    {
      "cell_type": "code",
      "execution_count": 183,
      "id": "6da64570",
      "metadata": {
        "colab": {
          "base_uri": "https://localhost:8080/"
        },
        "id": "6da64570",
        "outputId": "284e6c74-0cbc-4b73-ebe0-c2e6dd707467"
      },
      "outputs": [
        {
          "output_type": "stream",
          "name": "stdout",
          "text": [
            "91\n",
            "92\n",
            "93\n",
            "94\n",
            "96\n",
            "97\n",
            "98\n",
            "99\n"
          ]
        }
      ],
      "source": [
        "i=90\n",
        "while (True):\n",
        "  i+=1\n",
        "  if i==95 :\n",
        "    continue\n",
        "  if i == 100 :\n",
        "    break\n",
        "  print(i)"
      ]
    },
    {
      "cell_type": "code",
      "execution_count": null,
      "id": "251e1b85",
      "metadata": {
        "id": "251e1b85"
      },
      "outputs": [],
      "source": [
        "################ Functions ###########"
      ]
    },
    {
      "cell_type": "code",
      "execution_count": 184,
      "id": "35989292",
      "metadata": {
        "colab": {
          "base_uri": "https://localhost:8080/"
        },
        "id": "35989292",
        "outputId": "a1f646db-5dab-46b0-935c-ea2c0affe148"
      },
      "outputs": [
        {
          "output_type": "execute_result",
          "data": {
            "text/plain": [
              "str"
            ]
          },
          "metadata": {},
          "execution_count": 184
        }
      ],
      "source": [
        "x='123'\n",
        "type(x)"
      ]
    },
    {
      "cell_type": "code",
      "execution_count": 185,
      "id": "7a7fb3a3",
      "metadata": {
        "colab": {
          "base_uri": "https://localhost:8080/"
        },
        "id": "7a7fb3a3",
        "outputId": "c06f9c52-66c2-4da1-8675-c9ff6d8fa19f"
      },
      "outputs": [
        {
          "output_type": "execute_result",
          "data": {
            "text/plain": [
              "123"
            ]
          },
          "metadata": {},
          "execution_count": 185
        }
      ],
      "source": [
        "int('123')"
      ]
    },
    {
      "cell_type": "code",
      "execution_count": 186,
      "id": "8c38b3ea",
      "metadata": {
        "colab": {
          "base_uri": "https://localhost:8080/"
        },
        "id": "8c38b3ea",
        "outputId": "044de998-3dcd-4ffc-fce1-049bc7fea5b0"
      },
      "outputs": [
        {
          "output_type": "execute_result",
          "data": {
            "text/plain": [
              "12"
            ]
          },
          "metadata": {},
          "execution_count": 186
        }
      ],
      "source": [
        "int(12.36)"
      ]
    },
    {
      "cell_type": "code",
      "execution_count": 187,
      "id": "be08b60c",
      "metadata": {
        "colab": {
          "base_uri": "https://localhost:8080/"
        },
        "id": "be08b60c",
        "outputId": "6500375e-d371-4b1f-9356-02da2bcb480b"
      },
      "outputs": [
        {
          "output_type": "execute_result",
          "data": {
            "text/plain": [
              "123.0"
            ]
          },
          "metadata": {},
          "execution_count": 187
        }
      ],
      "source": [
        "float('123')"
      ]
    },
    {
      "cell_type": "code",
      "execution_count": 188,
      "id": "8ae9a4ea",
      "metadata": {
        "colab": {
          "base_uri": "https://localhost:8080/",
          "height": 36
        },
        "id": "8ae9a4ea",
        "outputId": "99bb7887-013b-4137-9163-9f9df0752cb2"
      },
      "outputs": [
        {
          "output_type": "execute_result",
          "data": {
            "text/plain": [
              "'12.36'"
            ],
            "application/vnd.google.colaboratory.intrinsic+json": {
              "type": "string"
            }
          },
          "metadata": {},
          "execution_count": 188
        }
      ],
      "source": [
        "str(12.36)"
      ]
    },
    {
      "cell_type": "code",
      "execution_count": 189,
      "id": "46203224",
      "metadata": {
        "colab": {
          "base_uri": "https://localhost:8080/",
          "height": 36
        },
        "id": "46203224",
        "outputId": "fea18bce-ee09-4985-ae6e-2dee452e5fb5"
      },
      "outputs": [
        {
          "output_type": "execute_result",
          "data": {
            "text/plain": [
              "'100'"
            ],
            "application/vnd.google.colaboratory.intrinsic+json": {
              "type": "string"
            }
          },
          "metadata": {},
          "execution_count": 189
        }
      ],
      "source": [
        "str(100)"
      ]
    },
    {
      "cell_type": "code",
      "execution_count": 190,
      "id": "485d6089",
      "metadata": {
        "colab": {
          "base_uri": "https://localhost:8080/"
        },
        "id": "485d6089",
        "outputId": "5aca887f-e90f-4664-ac54-891eb7164370"
      },
      "outputs": [
        {
          "output_type": "execute_result",
          "data": {
            "text/plain": [
              "False"
            ]
          },
          "metadata": {},
          "execution_count": 190
        }
      ],
      "source": [
        "bool(0)"
      ]
    },
    {
      "cell_type": "code",
      "execution_count": 191,
      "id": "0be06c33",
      "metadata": {
        "colab": {
          "base_uri": "https://localhost:8080/"
        },
        "id": "0be06c33",
        "outputId": "8c59bf47-18c1-4853-9288-b3a6190dfe67"
      },
      "outputs": [
        {
          "output_type": "execute_result",
          "data": {
            "text/plain": [
              "False"
            ]
          },
          "metadata": {},
          "execution_count": 191
        }
      ],
      "source": [
        "bool('')"
      ]
    },
    {
      "cell_type": "code",
      "execution_count": 192,
      "id": "503d5e85",
      "metadata": {
        "colab": {
          "base_uri": "https://localhost:8080/"
        },
        "id": "503d5e85",
        "outputId": "3998c70e-9e03-46a1-a131-91a54a44ff4b"
      },
      "outputs": [
        {
          "output_type": "execute_result",
          "data": {
            "text/plain": [
              "False"
            ]
          },
          "metadata": {},
          "execution_count": 192
        }
      ],
      "source": [
        "bool([])"
      ]
    },
    {
      "cell_type": "code",
      "execution_count": 193,
      "id": "ad82a2c6",
      "metadata": {
        "colab": {
          "base_uri": "https://localhost:8080/"
        },
        "id": "ad82a2c6",
        "outputId": "e466fafe-c49c-466b-8bc3-aab31d25f664"
      },
      "outputs": [
        {
          "output_type": "execute_result",
          "data": {
            "text/plain": [
              "True"
            ]
          },
          "metadata": {},
          "execution_count": 193
        }
      ],
      "source": [
        "bool(\"a\")"
      ]
    },
    {
      "cell_type": "code",
      "execution_count": 194,
      "id": "485cac53",
      "metadata": {
        "colab": {
          "base_uri": "https://localhost:8080/"
        },
        "id": "485cac53",
        "outputId": "ac79d880-2706-482a-dca5-e1207eb55078"
      },
      "outputs": [
        {
          "output_type": "execute_result",
          "data": {
            "text/plain": [
              "True"
            ]
          },
          "metadata": {},
          "execution_count": 194
        }
      ],
      "source": [
        "bool(2)"
      ]
    },
    {
      "cell_type": "code",
      "execution_count": 195,
      "id": "f15fff72",
      "metadata": {
        "colab": {
          "base_uri": "https://localhost:8080/"
        },
        "id": "f15fff72",
        "outputId": "82f5c84e-86d8-45b7-e0be-0e89b2f73ffc"
      },
      "outputs": [
        {
          "output_type": "execute_result",
          "data": {
            "text/plain": [
              "True"
            ]
          },
          "metadata": {},
          "execution_count": 195
        }
      ],
      "source": [
        "bool([2,3])"
      ]
    },
    {
      "cell_type": "code",
      "execution_count": 196,
      "id": "db5284a1",
      "metadata": {
        "colab": {
          "base_uri": "https://localhost:8080/"
        },
        "id": "db5284a1",
        "outputId": "2d447adb-6cf0-45ae-c4cd-64e574cc3829"
      },
      "outputs": [
        {
          "output_type": "execute_result",
          "data": {
            "text/plain": [
              "9"
            ]
          },
          "metadata": {},
          "execution_count": 196
        }
      ],
      "source": [
        "abs(-9)"
      ]
    },
    {
      "cell_type": "code",
      "execution_count": 197,
      "id": "dee57592",
      "metadata": {
        "id": "dee57592"
      },
      "outputs": [],
      "source": [
        "x=abs"
      ]
    },
    {
      "cell_type": "code",
      "execution_count": 198,
      "id": "6493f9cb",
      "metadata": {
        "colab": {
          "base_uri": "https://localhost:8080/"
        },
        "id": "6493f9cb",
        "outputId": "ed780839-a2ec-4595-a320-83278c89d5bb"
      },
      "outputs": [
        {
          "output_type": "execute_result",
          "data": {
            "text/plain": [
              "9"
            ]
          },
          "metadata": {},
          "execution_count": 198
        }
      ],
      "source": [
        "x(-9)"
      ]
    },
    {
      "cell_type": "code",
      "execution_count": 199,
      "id": "a9ac4b50",
      "metadata": {
        "id": "a9ac4b50"
      },
      "outputs": [],
      "source": [
        "def fun1():\n",
        "    print(\"Hello Fun1\")"
      ]
    },
    {
      "cell_type": "code",
      "execution_count": 200,
      "id": "b4e2fe28",
      "metadata": {
        "colab": {
          "base_uri": "https://localhost:8080/"
        },
        "id": "b4e2fe28",
        "outputId": "9258220e-c401-490a-de65-cc84755523d1"
      },
      "outputs": [
        {
          "output_type": "stream",
          "name": "stdout",
          "text": [
            "Hello Fun1\n"
          ]
        }
      ],
      "source": [
        "fun1()"
      ]
    },
    {
      "cell_type": "code",
      "execution_count": 201,
      "id": "c9d4a091",
      "metadata": {
        "id": "c9d4a091"
      },
      "outputs": [],
      "source": [
        "def fun2(x):\n",
        "    print(\"Hello Fun2\")\n",
        "    return x*x"
      ]
    },
    {
      "cell_type": "code",
      "execution_count": 202,
      "id": "aab8a836",
      "metadata": {
        "colab": {
          "base_uri": "https://localhost:8080/"
        },
        "id": "aab8a836",
        "outputId": "701dd5fd-92b3-4357-a756-2a306f75c577"
      },
      "outputs": [
        {
          "output_type": "stream",
          "name": "stdout",
          "text": [
            "Hello Fun2\n",
            "25\n"
          ]
        }
      ],
      "source": [
        "print(fun2(5))"
      ]
    },
    {
      "cell_type": "code",
      "execution_count": 203,
      "id": "cb2d1582",
      "metadata": {
        "colab": {
          "base_uri": "https://localhost:8080/"
        },
        "id": "cb2d1582",
        "outputId": "3537f3e3-3150-40ab-f0db-b9e9f82c871b"
      },
      "outputs": [
        {
          "output_type": "stream",
          "name": "stdout",
          "text": [
            "Hello Fun2\n",
            "25\n"
          ]
        }
      ],
      "source": [
        "y=fun2(5)\n",
        "print(y)"
      ]
    },
    {
      "cell_type": "code",
      "execution_count": 204,
      "id": "5dcf3dc3",
      "metadata": {
        "id": "5dcf3dc3"
      },
      "outputs": [],
      "source": [
        "def fun3(x):\n",
        "    return x*x ,int(x*x)"
      ]
    },
    {
      "cell_type": "code",
      "execution_count": 205,
      "id": "68a5c53d",
      "metadata": {
        "colab": {
          "base_uri": "https://localhost:8080/"
        },
        "id": "68a5c53d",
        "outputId": "2244569b-f42d-4ea6-d211-1511ea21484f"
      },
      "outputs": [
        {
          "output_type": "execute_result",
          "data": {
            "text/plain": [
              "(30.25, 30)"
            ]
          },
          "metadata": {},
          "execution_count": 205
        }
      ],
      "source": [
        "fun3(5.5)"
      ]
    },
    {
      "cell_type": "code",
      "execution_count": 206,
      "id": "6da25e7e",
      "metadata": {
        "colab": {
          "base_uri": "https://localhost:8080/"
        },
        "id": "6da25e7e",
        "outputId": "74728c68-b2eb-4980-83f4-dc2435fe0b24"
      },
      "outputs": [
        {
          "output_type": "stream",
          "name": "stdout",
          "text": [
            "y is : 30.25\n",
            "y1 is : 30\n"
          ]
        }
      ],
      "source": [
        "y,y1=fun3(5.5)\n",
        "print(\"y is :\",y)\n",
        "print(\"y1 is :\",y1)"
      ]
    },
    {
      "cell_type": "code",
      "execution_count": 207,
      "id": "5ef3014f",
      "metadata": {
        "id": "5ef3014f"
      },
      "outputs": [],
      "source": [
        "def fun4():\n",
        "    pass"
      ]
    },
    {
      "cell_type": "code",
      "execution_count": 208,
      "id": "aef214ac",
      "metadata": {
        "id": "aef214ac"
      },
      "outputs": [],
      "source": [
        "def my_abs(x):\n",
        "    if x>=0:\n",
        "        return x\n",
        "    else:\n",
        "        return -x"
      ]
    },
    {
      "cell_type": "code",
      "execution_count": 209,
      "id": "cfedfc47",
      "metadata": {
        "colab": {
          "base_uri": "https://localhost:8080/"
        },
        "id": "cfedfc47",
        "outputId": "e0a47d58-6668-4c91-c03b-8af20fdc8184"
      },
      "outputs": [
        {
          "output_type": "execute_result",
          "data": {
            "text/plain": [
              "9"
            ]
          },
          "metadata": {},
          "execution_count": 209
        }
      ],
      "source": [
        "my_abs(-9)"
      ]
    },
    {
      "cell_type": "code",
      "execution_count": 210,
      "id": "0bdf378e",
      "metadata": {
        "colab": {
          "base_uri": "https://localhost:8080/"
        },
        "id": "0bdf378e",
        "outputId": "f619cc1e-e83f-494a-fab8-1ff6e3cd190c"
      },
      "outputs": [
        {
          "output_type": "execute_result",
          "data": {
            "text/plain": [
              "9"
            ]
          },
          "metadata": {},
          "execution_count": 210
        }
      ],
      "source": [
        "x=my_abs\n",
        "x(-9)"
      ]
    },
    {
      "cell_type": "code",
      "execution_count": 214,
      "id": "90868df0",
      "metadata": {
        "id": "90868df0"
      },
      "outputs": [],
      "source": [
        "def my_abs(x):\n",
        "    pass\n",
        "    if x>=0:\n",
        "        return x\n",
        "    else:\n",
        "        return -x"
      ]
    },
    {
      "cell_type": "code",
      "source": [
        "my_abs(1)"
      ],
      "metadata": {
        "colab": {
          "base_uri": "https://localhost:8080/"
        },
        "id": "wDKz0Pjae2FL",
        "outputId": "2e79344b-7b68-4426-eca3-58107d1deda4"
      },
      "id": "wDKz0Pjae2FL",
      "execution_count": 215,
      "outputs": [
        {
          "output_type": "execute_result",
          "data": {
            "text/plain": [
              "1"
            ]
          },
          "metadata": {},
          "execution_count": 215
        }
      ]
    },
    {
      "cell_type": "code",
      "execution_count": 216,
      "id": "06560afd",
      "metadata": {
        "colab": {
          "base_uri": "https://localhost:8080/"
        },
        "id": "06560afd",
        "outputId": "2c2470b5-30da-4c62-f9a1-bf768818b8e1"
      },
      "outputs": [
        {
          "output_type": "stream",
          "name": "stdout",
          "text": [
            "Not Valid Datatype\n"
          ]
        }
      ],
      "source": [
        "try:\n",
        "    my_abs('122')\n",
        "except:\n",
        "    print('Not Valid Datatype')\n",
        ""
      ]
    },
    {
      "cell_type": "code",
      "execution_count": 217,
      "id": "c16934b3",
      "metadata": {
        "colab": {
          "base_uri": "https://localhost:8080/"
        },
        "id": "c16934b3",
        "outputId": "8b3ba8aa-c6e3-4e6f-cd2f-0f55641054ed"
      },
      "outputs": [
        {
          "output_type": "execute_result",
          "data": {
            "text/plain": [
              "30"
            ]
          },
          "metadata": {},
          "execution_count": 217
        }
      ],
      "source": [
        "def fun1(x,x1=10):\n",
        "    y=x+x1\n",
        "    return y\n",
        "\n",
        "fun1(20)"
      ]
    },
    {
      "cell_type": "code",
      "execution_count": 218,
      "id": "70e1d343",
      "metadata": {
        "colab": {
          "base_uri": "https://localhost:8080/"
        },
        "id": "70e1d343",
        "outputId": "9b908a06-e7b5-4126-b245-8a334fdd4d03"
      },
      "outputs": [
        {
          "output_type": "execute_result",
          "data": {
            "text/plain": [
              "40"
            ]
          },
          "metadata": {},
          "execution_count": 218
        }
      ],
      "source": [
        "fun1(20,20)"
      ]
    },
    {
      "cell_type": "code",
      "execution_count": 219,
      "id": "484bf862",
      "metadata": {
        "colab": {
          "base_uri": "https://localhost:8080/"
        },
        "id": "484bf862",
        "outputId": "10803e0d-ad86-4ba2-a336-b39a701dcfd4"
      },
      "outputs": [
        {
          "output_type": "execute_result",
          "data": {
            "text/plain": [
              "50"
            ]
          },
          "metadata": {},
          "execution_count": 219
        }
      ],
      "source": [
        "fun1(x1=30,x=20)"
      ]
    },
    {
      "cell_type": "code",
      "execution_count": 220,
      "id": "61f6af23",
      "metadata": {
        "colab": {
          "base_uri": "https://localhost:8080/"
        },
        "id": "61f6af23",
        "outputId": "7a091ec5-06c3-489d-ad4c-04392c2cfcef"
      },
      "outputs": [
        {
          "output_type": "execute_result",
          "data": {
            "text/plain": [
              "50"
            ]
          },
          "metadata": {},
          "execution_count": 220
        }
      ],
      "source": [
        "fun1(30,20)"
      ]
    },
    {
      "cell_type": "code",
      "execution_count": 221,
      "id": "8f0de38c",
      "metadata": {
        "colab": {
          "base_uri": "https://localhost:8080/"
        },
        "id": "8f0de38c",
        "outputId": "cffc8a31-7ec4-4ba8-b946-89f908e92027"
      },
      "outputs": [
        {
          "output_type": "execute_result",
          "data": {
            "text/plain": [
              "(50, (40, 50, 60))"
            ]
          },
          "metadata": {},
          "execution_count": 221
        }
      ],
      "source": [
        "def fun1(x,x1=10,*arg):\n",
        "    y=x+x1\n",
        "    return y,arg\n",
        "\n",
        "fun1(20,30,40,50,60)"
      ]
    },
    {
      "cell_type": "code",
      "execution_count": 222,
      "id": "67c5b8d0",
      "metadata": {
        "colab": {
          "base_uri": "https://localhost:8080/"
        },
        "id": "67c5b8d0",
        "outputId": "f2a8e922-4f4e-4372-cedc-ee3ee1e3205a"
      },
      "outputs": [
        {
          "output_type": "execute_result",
          "data": {
            "text/plain": [
              "(50, [1600, 2500, 3600])"
            ]
          },
          "metadata": {},
          "execution_count": 222
        }
      ],
      "source": [
        "def fun1(x,x1=10,*arg):\n",
        "    y=x+x1\n",
        "    z=[i*i for i in list(arg)]\n",
        "    return y,z\n",
        "\n",
        "fun1(20,30,40,50,60)"
      ]
    },
    {
      "cell_type": "code",
      "execution_count": 223,
      "id": "b741ffea",
      "metadata": {
        "colab": {
          "base_uri": "https://localhost:8080/"
        },
        "id": "b741ffea",
        "outputId": "55e96e73-bdd5-486e-987e-48e8784c656b"
      },
      "outputs": [
        {
          "output_type": "execute_result",
          "data": {
            "text/plain": [
              "(50, [1600, 2500, 3600, 100])"
            ]
          },
          "metadata": {},
          "execution_count": 223
        }
      ],
      "source": [
        "fun1(20,30,40,50,60,10)"
      ]
    },
    {
      "cell_type": "code",
      "execution_count": 224,
      "id": "fad2fca1",
      "metadata": {
        "colab": {
          "base_uri": "https://localhost:8080/"
        },
        "id": "fad2fca1",
        "outputId": "89a38b65-4588-49ac-c242-5c7ff96e9ba9"
      },
      "outputs": [
        {
          "output_type": "execute_result",
          "data": {
            "text/plain": [
              "(50, [1600, 2500, 3600], {'age': 30, 'sal': 3000})"
            ]
          },
          "metadata": {},
          "execution_count": 224
        }
      ],
      "source": [
        "def fun1(x,x1=10,*arg,**k):\n",
        "    y=x+x1\n",
        "    z=[i*i for i in list(arg)]\n",
        "    return y,z,k\n",
        "\n",
        "fun1(20,30,40,50,60,age=30,sal=3000)"
      ]
    },
    {
      "cell_type": "code",
      "execution_count": 225,
      "id": "86d917c5",
      "metadata": {
        "colab": {
          "base_uri": "https://localhost:8080/"
        },
        "id": "86d917c5",
        "outputId": "0e1a34e9-8dbe-436e-abec-993159978904"
      },
      "outputs": [
        {
          "output_type": "execute_result",
          "data": {
            "text/plain": [
              "{1: 39, 'a': 40}"
            ]
          },
          "metadata": {},
          "execution_count": 225
        }
      ],
      "source": [
        "d={1:39,\"a\":40}\n",
        "d"
      ]
    },
    {
      "cell_type": "code",
      "execution_count": 226,
      "id": "96df2ccd",
      "metadata": {
        "colab": {
          "base_uri": "https://localhost:8080/"
        },
        "id": "96df2ccd",
        "outputId": "d546e32d-4f93-4993-ba7c-5d90f48b281c"
      },
      "outputs": [
        {
          "output_type": "execute_result",
          "data": {
            "text/plain": [
              "(50, [1600, 2500, 3600], {'name': 'ahmed', 'age': 30})"
            ]
          },
          "metadata": {},
          "execution_count": 226
        }
      ],
      "source": [
        "fun1(20,30,40,50,60,name=\"ahmed\",age=30)"
      ]
    },
    {
      "cell_type": "code",
      "execution_count": 227,
      "id": "4458522e",
      "metadata": {
        "colab": {
          "base_uri": "https://localhost:8080/"
        },
        "id": "4458522e",
        "outputId": "9d754550-84c6-4ef5-8e70-5754c39acd90"
      },
      "outputs": [
        {
          "output_type": "execute_result",
          "data": {
            "text/plain": [
              "(50, [1600, 2500, 3600], {'name': ['ahmed', 10], 'age': 30})"
            ]
          },
          "metadata": {},
          "execution_count": 227
        }
      ],
      "source": [
        "fun1(20,30,40,50,60,name=[\"ahmed\",10],age=30)"
      ]
    },
    {
      "cell_type": "code",
      "execution_count": 228,
      "id": "906465a8",
      "metadata": {
        "id": "906465a8"
      },
      "outputs": [],
      "source": [
        "def fact(n):\n",
        "    return fact_iter(n,1)\n",
        "def fact_iter(num,prod):\n",
        "    if num == 1 :\n",
        "        return prod\n",
        "    return fact_iter(num-1,num * prod)"
      ]
    },
    {
      "cell_type": "code",
      "execution_count": 231,
      "id": "ebda1f75",
      "metadata": {
        "colab": {
          "base_uri": "https://localhost:8080/"
        },
        "id": "ebda1f75",
        "outputId": "5cb35982-f04b-4851-bf1d-23b32ebc9222"
      },
      "outputs": [
        {
          "output_type": "execute_result",
          "data": {
            "text/plain": [
              "120"
            ]
          },
          "metadata": {},
          "execution_count": 231
        }
      ],
      "source": [
        "fact(5)"
      ]
    },
    {
      "cell_type": "code",
      "execution_count": 232,
      "id": "2d00147f",
      "metadata": {
        "colab": {
          "base_uri": "https://localhost:8080/"
        },
        "id": "2d00147f",
        "outputId": "eb1cdcca-f240-404a-c23e-17d01ae3c2e3"
      },
      "outputs": [
        {
          "output_type": "execute_result",
          "data": {
            "text/plain": [
              "[1, 2, 3]"
            ]
          },
          "metadata": {},
          "execution_count": 232
        }
      ],
      "source": [
        "x=[1,2,3]\n",
        "type(x)\n",
        "x"
      ]
    },
    {
      "cell_type": "code",
      "execution_count": 233,
      "id": "13469ca4",
      "metadata": {
        "colab": {
          "base_uri": "https://localhost:8080/"
        },
        "id": "13469ca4",
        "outputId": "2c9ee865-1851-4a98-ad91-8748f7c6f6b7"
      },
      "outputs": [
        {
          "output_type": "execute_result",
          "data": {
            "text/plain": [
              "(1, 2, 3)"
            ]
          },
          "metadata": {},
          "execution_count": 233
        }
      ],
      "source": [
        "x=tuple(x)\n",
        "x"
      ]
    },
    {
      "cell_type": "code",
      "execution_count": 234,
      "id": "0140b3d9",
      "metadata": {
        "colab": {
          "base_uri": "https://localhost:8080/",
          "height": 36
        },
        "id": "0140b3d9",
        "outputId": "6e41c579-5062-455c-ce66-eff0fd2dd90e"
      },
      "outputs": [
        {
          "output_type": "execute_result",
          "data": {
            "text/plain": [
              "'nti'"
            ],
            "application/vnd.google.colaboratory.intrinsic+json": {
              "type": "string"
            }
          },
          "metadata": {},
          "execution_count": 234
        }
      ],
      "source": [
        "x=\"nti\"\n",
        "x"
      ]
    },
    {
      "cell_type": "code",
      "execution_count": 235,
      "id": "41a1bc43",
      "metadata": {
        "colab": {
          "base_uri": "https://localhost:8080/",
          "height": 36
        },
        "id": "41a1bc43",
        "outputId": "521ef96a-6690-459f-e4fd-af1846347b09"
      },
      "outputs": [
        {
          "output_type": "execute_result",
          "data": {
            "text/plain": [
              "'NTI'"
            ],
            "application/vnd.google.colaboratory.intrinsic+json": {
              "type": "string"
            }
          },
          "metadata": {},
          "execution_count": 235
        }
      ],
      "source": [
        "x.upper()"
      ]
    },
    {
      "cell_type": "code",
      "execution_count": 236,
      "id": "e4fe8fec",
      "metadata": {
        "id": "e4fe8fec"
      },
      "outputs": [],
      "source": [
        "class my_class():\n",
        "    def init():\n",
        "        pass\n",
        "    def get_name():\n",
        "        pass\n",
        "    def set_name():\n",
        "        pass"
      ]
    },
    {
      "cell_type": "code",
      "execution_count": 237,
      "id": "c6c6fb4a",
      "metadata": {
        "id": "c6c6fb4a"
      },
      "outputs": [],
      "source": [
        "a=my_class()"
      ]
    },
    {
      "cell_type": "code",
      "execution_count": 238,
      "id": "215703f7",
      "metadata": {
        "id": "215703f7"
      },
      "outputs": [],
      "source": [
        "class my_class():\n",
        "    def init(self,x):\n",
        "        print(x)\n",
        "    def get_name():\n",
        "        pass\n",
        "    def set_name():\n",
        "        pass"
      ]
    },
    {
      "cell_type": "code",
      "execution_count": 239,
      "id": "bd79d11e",
      "metadata": {
        "colab": {
          "base_uri": "https://localhost:8080/"
        },
        "id": "bd79d11e",
        "outputId": "c66eb7d2-ccff-4794-9658-7dfdada28d95"
      },
      "outputs": [
        {
          "output_type": "stream",
          "name": "stdout",
          "text": [
            "10\n"
          ]
        }
      ],
      "source": [
        "a=my_class()\n",
        "a.init(10)"
      ]
    },
    {
      "cell_type": "code",
      "execution_count": 248,
      "id": "b896916c",
      "metadata": {
        "id": "b896916c"
      },
      "outputs": [],
      "source": [
        "class my_class():\n",
        "    var1=200\n",
        "    __var2=100\n",
        "    _var3 = 300\n",
        "    def __init__(self,name,age):\n",
        "        self.name=name\n",
        "        self.age=age\n",
        "    def get_name(self):\n",
        "        return self.name,self.age\n",
        "    def set_name(self,name):\n",
        "        self.name=name"
      ]
    },
    {
      "cell_type": "code",
      "execution_count": 249,
      "id": "28c84bb8",
      "metadata": {
        "id": "28c84bb8"
      },
      "outputs": [],
      "source": [
        "a=my_class(\"Nancy\",30)\n",
        "b=my_class(\"Rayan\",20)"
      ]
    },
    {
      "cell_type": "code",
      "execution_count": 250,
      "id": "ce8a892d",
      "metadata": {
        "colab": {
          "base_uri": "https://localhost:8080/"
        },
        "id": "ce8a892d",
        "outputId": "4a713c98-3ee1-49b8-911e-727d65f2ebd6"
      },
      "outputs": [
        {
          "output_type": "stream",
          "name": "stdout",
          "text": [
            "('Nancy', 30)\n"
          ]
        }
      ],
      "source": [
        "print(a.get_name())"
      ]
    },
    {
      "cell_type": "code",
      "execution_count": 251,
      "id": "8451a99b",
      "metadata": {
        "colab": {
          "base_uri": "https://localhost:8080/"
        },
        "id": "8451a99b",
        "outputId": "204af418-3f2e-420e-ad1d-24cdebf88fc2"
      },
      "outputs": [
        {
          "output_type": "stream",
          "name": "stdout",
          "text": [
            "('Rayan', 20)\n"
          ]
        }
      ],
      "source": [
        "print(b.get_name())"
      ]
    },
    {
      "cell_type": "code",
      "execution_count": 252,
      "id": "08550ca7",
      "metadata": {
        "colab": {
          "base_uri": "https://localhost:8080/"
        },
        "id": "08550ca7",
        "outputId": "914809fb-dc7c-46e9-a434-84451a22b912"
      },
      "outputs": [
        {
          "output_type": "stream",
          "name": "stdout",
          "text": [
            "('Farida', 30)\n"
          ]
        }
      ],
      "source": [
        "a.set_name(\"Farida\")\n",
        "print(a.get_name())"
      ]
    },
    {
      "cell_type": "code",
      "execution_count": 253,
      "id": "175b13d4",
      "metadata": {
        "colab": {
          "base_uri": "https://localhost:8080/"
        },
        "id": "175b13d4",
        "outputId": "a2813fbc-529a-45b5-f160-60ef9af944fb"
      },
      "outputs": [
        {
          "output_type": "stream",
          "name": "stdout",
          "text": [
            "200\n"
          ]
        }
      ],
      "source": [
        "print(a.var1)"
      ]
    },
    {
      "cell_type": "code",
      "source": [
        "print(a._var3)"
      ],
      "metadata": {
        "colab": {
          "base_uri": "https://localhost:8080/"
        },
        "id": "yv0KzMeRgR1Q",
        "outputId": "75acf889-e517-4f77-ed1f-160708d0ed44"
      },
      "id": "yv0KzMeRgR1Q",
      "execution_count": 254,
      "outputs": [
        {
          "output_type": "stream",
          "name": "stdout",
          "text": [
            "300\n"
          ]
        }
      ]
    },
    {
      "cell_type": "code",
      "execution_count": 255,
      "id": "67132e74",
      "metadata": {
        "colab": {
          "base_uri": "https://localhost:8080/",
          "height": 141
        },
        "id": "67132e74",
        "outputId": "db546b46-6416-4be7-8635-b5922d599dfe"
      },
      "outputs": [
        {
          "output_type": "error",
          "ename": "AttributeError",
          "evalue": "'my_class' object has no attribute '__var2'",
          "traceback": [
            "\u001b[0;31m---------------------------------------------------------------------------\u001b[0m",
            "\u001b[0;31mAttributeError\u001b[0m                            Traceback (most recent call last)",
            "\u001b[0;32m<ipython-input-255-98775eb20aa1>\u001b[0m in \u001b[0;36m<cell line: 1>\u001b[0;34m()\u001b[0m\n\u001b[0;32m----> 1\u001b[0;31m \u001b[0mprint\u001b[0m\u001b[0;34m(\u001b[0m\u001b[0ma\u001b[0m\u001b[0;34m.\u001b[0m\u001b[0m__var2\u001b[0m\u001b[0;34m)\u001b[0m\u001b[0;34m\u001b[0m\u001b[0;34m\u001b[0m\u001b[0m\n\u001b[0m",
            "\u001b[0;31mAttributeError\u001b[0m: 'my_class' object has no attribute '__var2'"
          ]
        }
      ],
      "source": [
        "print(a.__var2)"
      ]
    },
    {
      "cell_type": "code",
      "execution_count": 256,
      "id": "f4f0cc7c",
      "metadata": {
        "id": "f4f0cc7c"
      },
      "outputs": [],
      "source": [
        "from time import sleep"
      ]
    },
    {
      "cell_type": "code",
      "execution_count": 257,
      "id": "9f62e879",
      "metadata": {
        "colab": {
          "base_uri": "https://localhost:8080/"
        },
        "id": "9f62e879",
        "outputId": "c114b7f8-e1f1-437c-cca6-b169e6e15c34"
      },
      "outputs": [
        {
          "output_type": "stream",
          "name": "stdout",
          "text": [
            "0\n",
            "1\n",
            "2\n",
            "3\n",
            "4\n",
            "5\n",
            "6\n",
            "7\n",
            "8\n",
            "9\n"
          ]
        }
      ],
      "source": [
        "for i in range(10):\n",
        "  sleep(0.5)\n",
        "  print(i)"
      ]
    },
    {
      "cell_type": "code",
      "execution_count": 260,
      "id": "a3c018b3",
      "metadata": {
        "colab": {
          "base_uri": "https://localhost:8080/"
        },
        "id": "a3c018b3",
        "outputId": "df6a007d-c475-483b-c09d-32c059c604a2"
      },
      "outputs": [
        {
          "output_type": "stream",
          "name": "stdout",
          "text": [
            "2024-09-07 08:05:07\n"
          ]
        }
      ],
      "source": [
        "import time\n",
        "# Format into 2016-03-20 11:45:39\n",
        "print(time.strftime(\"%Y-%m-%d %H:%M:%S\", time.localtime()))"
      ]
    },
    {
      "cell_type": "code",
      "source": [
        "import re"
      ],
      "metadata": {
        "id": "MTSJQeeshUWz"
      },
      "id": "MTSJQeeshUWz",
      "execution_count": 270,
      "outputs": []
    },
    {
      "cell_type": "code",
      "source": [
        "re.match('www', 'www.google.com')"
      ],
      "metadata": {
        "colab": {
          "base_uri": "https://localhost:8080/"
        },
        "id": "99A-EayihM2o",
        "outputId": "21118a09-38ec-47eb-c1d7-fb9367d1cd55"
      },
      "id": "99A-EayihM2o",
      "execution_count": 271,
      "outputs": [
        {
          "output_type": "execute_result",
          "data": {
            "text/plain": [
              "<re.Match object; span=(0, 3), match='www'>"
            ]
          },
          "metadata": {},
          "execution_count": 271
        }
      ]
    },
    {
      "cell_type": "code",
      "execution_count": 272,
      "id": "139c7a83",
      "metadata": {
        "colab": {
          "base_uri": "https://localhost:8080/"
        },
        "id": "139c7a83",
        "outputId": "0d9c1c95-afaa-46cf-d460-da3ffbc4f63c"
      },
      "outputs": [
        {
          "output_type": "stream",
          "name": "stdout",
          "text": [
            "(0, 3)\n"
          ]
        }
      ],
      "source": [
        "print(re.match('www', 'www.google.com').span())"
      ]
    },
    {
      "cell_type": "code",
      "execution_count": 274,
      "id": "fe8ca9f3",
      "metadata": {
        "colab": {
          "base_uri": "https://localhost:8080/"
        },
        "id": "fe8ca9f3",
        "outputId": "e61c5225-267d-4202-9f33-b7e08b219bde"
      },
      "outputs": [
        {
          "output_type": "stream",
          "name": "stdout",
          "text": [
            "None\n"
          ]
        }
      ],
      "source": [
        "print(re.match('www', 'awww.google.com'))"
      ]
    },
    {
      "cell_type": "code",
      "execution_count": 275,
      "id": "f2d0bcd6",
      "metadata": {
        "colab": {
          "base_uri": "https://localhost:8080/"
        },
        "id": "f2d0bcd6",
        "outputId": "85b09101-6af2-4fee-b4cb-a31b3ea19fa4"
      },
      "outputs": [
        {
          "output_type": "stream",
          "name": "stdout",
          "text": [
            "(4, 7)\n"
          ]
        }
      ],
      "source": [
        "#searches the entire string for a match, not just at the beginning like re.match()\n",
        "# re.search('com', 'www.com.google.com') searches for the first occurrence of the substring 'com' anywhere in the input string 'www.com.google.com'.\n",
        "print(re.search('com', 'www.com.google.com').span())"
      ]
    },
    {
      "cell_type": "code",
      "execution_count": 276,
      "id": "e61e68d5",
      "metadata": {
        "id": "e61e68d5"
      },
      "outputs": [],
      "source": [
        "s,d=re.search('com', 'www.com.google.com').span()\n"
      ]
    },
    {
      "cell_type": "code",
      "execution_count": 277,
      "id": "2b0fd062",
      "metadata": {
        "colab": {
          "base_uri": "https://localhost:8080/"
        },
        "id": "2b0fd062",
        "outputId": "e008581c-645f-48bb-c725-0a5c64c04ca2"
      },
      "outputs": [
        {
          "output_type": "execute_result",
          "data": {
            "text/plain": [
              "7"
            ]
          },
          "metadata": {},
          "execution_count": 277
        }
      ],
      "source": [
        "d"
      ]
    },
    {
      "cell_type": "code",
      "execution_count": 278,
      "id": "b475758b",
      "metadata": {
        "colab": {
          "base_uri": "https://localhost:8080/"
        },
        "id": "b475758b",
        "outputId": "1235a588-6baa-473c-c41a-842fb5990afd"
      },
      "outputs": [
        {
          "output_type": "stream",
          "name": "stdout",
          "text": [
            "<re.Match object; span=(0, 5), match='Start'>\n",
            "(0, 5)\n",
            "Start\n"
          ]
        }
      ],
      "source": [
        "sentence='Start a sentence and then bring it to end'\n",
        "\"\"\"\n",
        "re.compile(r'start', re.I):\n",
        "\n",
        "The pattern r'start' looks for the word 'start'.\n",
        "The flag re.I makes the search case-insensitive, so it will match 'Start', 'start', or any other case variations.\n",
        "\"\"\"\n",
        "\n",
        "pattern=re.compile(r'start',re.I)\n",
        "matches=pattern.search(sentence)\n",
        "print(matches)\n",
        "print(matches.span())\n",
        "print(matches.group())"
      ]
    },
    {
      "cell_type": "code",
      "execution_count": 279,
      "id": "68bca797",
      "metadata": {
        "colab": {
          "base_uri": "https://localhost:8080/"
        },
        "id": "68bca797",
        "outputId": "0a193a89-2cd5-4e0e-d2d0-ccd99d1b53b6"
      },
      "outputs": [
        {
          "output_type": "stream",
          "name": "stdout",
          "text": [
            "Please input:5\n",
            "Your input is: 5\n"
          ]
        }
      ],
      "source": [
        "str1 = input(\"Please input:\")\n",
        "print(\"Your input is:\", str1)\n"
      ]
    },
    {
      "cell_type": "code",
      "execution_count": 280,
      "id": "5202303a",
      "metadata": {
        "colab": {
          "base_uri": "https://localhost:8080/"
        },
        "id": "5202303a",
        "outputId": "3a57c84d-1bfc-4fc0-dab9-143eb6ffeeaa"
      },
      "outputs": [
        {
          "output_type": "execute_result",
          "data": {
            "text/plain": [
              "str"
            ]
          },
          "metadata": {},
          "execution_count": 280
        }
      ],
      "source": [
        "type(str1)"
      ]
    },
    {
      "cell_type": "code",
      "execution_count": 295,
      "id": "cfe251d3",
      "metadata": {
        "colab": {
          "base_uri": "https://localhost:8080/",
          "height": 36
        },
        "id": "cfe251d3",
        "outputId": "34fd4d65-3496-4c87-b65a-939ffd0c6228"
      },
      "outputs": [
        {
          "output_type": "execute_result",
          "data": {
            "text/plain": [
              "'foo.txt'"
            ],
            "application/vnd.google.colaboratory.intrinsic+json": {
              "type": "string"
            }
          },
          "metadata": {},
          "execution_count": 295
        }
      ],
      "source": [
        "fo=open(\"foo.txt\",\"w\")\n",
        "fo.name"
      ]
    },
    {
      "cell_type": "code",
      "execution_count": 296,
      "id": "fad98502",
      "metadata": {
        "id": "fad98502"
      },
      "outputs": [],
      "source": [
        "fo.close()"
      ]
    },
    {
      "cell_type": "code",
      "execution_count": 297,
      "id": "e35717b9",
      "metadata": {
        "colab": {
          "base_uri": "https://localhost:8080/",
          "height": 36
        },
        "id": "e35717b9",
        "outputId": "cfea3b16-cce8-4583-af05-29c69dc49b71"
      },
      "outputs": [
        {
          "output_type": "execute_result",
          "data": {
            "text/plain": [
              "'fooo.txt'"
            ],
            "application/vnd.google.colaboratory.intrinsic+json": {
              "type": "string"
            }
          },
          "metadata": {},
          "execution_count": 297
        }
      ],
      "source": [
        "fo=open(\"fooo.txt\",\"w\")\n",
        "fo.name"
      ]
    },
    {
      "cell_type": "markdown",
      "source": [
        "**System Resources:** Each open file consumes system resources. If files are not properly closed, you can run out of file descriptors or other system resources, which can lead to errors and application crashes.\n",
        "\n",
        "**Memory Management:** Closing a file helps release memory that the operating system has allocated for file operations."
      ],
      "metadata": {
        "id": "rA9GRplLnXng"
      },
      "id": "rA9GRplLnXng"
    },
    {
      "cell_type": "code",
      "execution_count": 298,
      "id": "6119adbd",
      "metadata": {
        "colab": {
          "base_uri": "https://localhost:8080/"
        },
        "id": "6119adbd",
        "outputId": "590b6744-46eb-4511-ee0c-c16e0e25c1a3"
      },
      "outputs": [
        {
          "output_type": "execute_result",
          "data": {
            "text/plain": [
              "False"
            ]
          },
          "metadata": {},
          "execution_count": 298
        }
      ],
      "source": [
        "fo.closed"
      ]
    },
    {
      "cell_type": "code",
      "execution_count": 299,
      "id": "6937f5e1",
      "metadata": {
        "id": "6937f5e1"
      },
      "outputs": [],
      "source": [
        "fo.close()"
      ]
    },
    {
      "cell_type": "code",
      "execution_count": 300,
      "id": "e47e9d5b",
      "metadata": {
        "colab": {
          "base_uri": "https://localhost:8080/"
        },
        "id": "e47e9d5b",
        "outputId": "28ff6c23-30cd-4677-8e48-a57132a1d140"
      },
      "outputs": [
        {
          "output_type": "execute_result",
          "data": {
            "text/plain": [
              "True"
            ]
          },
          "metadata": {},
          "execution_count": 300
        }
      ],
      "source": [
        "fo.closed"
      ]
    },
    {
      "cell_type": "code",
      "execution_count": 301,
      "id": "11ce4b70",
      "metadata": {
        "id": "11ce4b70"
      },
      "outputs": [],
      "source": [
        "fo=open(\"fooo.txt\",\"w\")\n",
        "for i in range(100):\n",
        "    fo.write(\"www.google.com ! \\t very good search end ! \\n \")\n",
        "fo.close()\n"
      ]
    },
    {
      "cell_type": "code",
      "execution_count": 302,
      "id": "d7794968",
      "metadata": {
        "id": "d7794968"
      },
      "outputs": [],
      "source": [
        "fo=open(\"fooo.txt\",\"w\")\n",
        "for i in range(5):\n",
        "    fo.write(\"Hello ! \\t World! \\n \")\n",
        "fo.close()"
      ]
    },
    {
      "cell_type": "code",
      "execution_count": 303,
      "id": "c68d3939",
      "metadata": {
        "colab": {
          "base_uri": "https://localhost:8080/"
        },
        "id": "c68d3939",
        "outputId": "d86b6061-2c6d-4e08-8d0c-f877e72d8c09"
      },
      "outputs": [
        {
          "output_type": "stream",
          "name": "stdout",
          "text": [
            "Hello ! \t World! \n",
            " Hello ! \t World! \n",
            " Hello ! \t World! \n",
            " Hello ! \t World! \n",
            " Hello ! \t World! \n",
            " \n"
          ]
        }
      ],
      "source": [
        "fo=open(\"fooo.txt\",\"r\")\n",
        "\n",
        "str1=fo.read()\n",
        "print(str1)\n",
        "fo.close()"
      ]
    },
    {
      "cell_type": "code",
      "execution_count": 304,
      "id": "5f25b6f3",
      "metadata": {
        "colab": {
          "base_uri": "https://localhost:8080/"
        },
        "id": "5f25b6f3",
        "outputId": "829881f0-4fcd-4ac1-9435-99096869db09"
      },
      "outputs": [
        {
          "output_type": "stream",
          "name": "stdout",
          "text": [
            "['Hello ! \\t World! \\n']\n"
          ]
        }
      ],
      "source": [
        "fo=open(\"fooo.txt\",\"r\")\n",
        "\n",
        "str1=fo.readlines(2)\n",
        "print(str1)\n",
        "fo.close()"
      ]
    },
    {
      "cell_type": "code",
      "execution_count": 291,
      "id": "faa9ed71",
      "metadata": {
        "id": "faa9ed71"
      },
      "outputs": [],
      "source": [
        "import os"
      ]
    },
    {
      "cell_type": "code",
      "execution_count": 305,
      "id": "3bbf1344",
      "metadata": {
        "id": "3bbf1344"
      },
      "outputs": [],
      "source": [
        "os.remove(\"foo.txt\")"
      ]
    },
    {
      "cell_type": "code",
      "source": [],
      "metadata": {
        "id": "OO62m8gGpaWU"
      },
      "id": "OO62m8gGpaWU",
      "execution_count": null,
      "outputs": []
    },
    {
      "cell_type": "code",
      "source": [],
      "metadata": {
        "id": "EXUaRx0ppaT_"
      },
      "id": "EXUaRx0ppaT_",
      "execution_count": null,
      "outputs": []
    },
    {
      "cell_type": "code",
      "source": [
        "############################# CLASSES ################################################"
      ],
      "metadata": {
        "id": "dPThQ_KcpaQT"
      },
      "id": "dPThQ_KcpaQT",
      "execution_count": null,
      "outputs": []
    },
    {
      "cell_type": "code",
      "execution_count": 307,
      "id": "6ed5b523",
      "metadata": {
        "id": "6ed5b523"
      },
      "outputs": [],
      "source": [
        "import math\n",
        "\n",
        "class Circle:\n",
        "    def __init__(self, radius):\n",
        "        #known as the object initializer\n",
        "        #because it defines and sets the initial values for your attributes.\n",
        "        self.radius = radius\n",
        "\n",
        "    def calculate_area(self):\n",
        "        return round(math.pi * self.radius ** 2, 2)"
      ]
    },
    {
      "cell_type": "code",
      "source": [
        "circle_1 = Circle(42) # now circle1 radius is 1, Circle() with 42 passed to it called class constructor\n",
        "circle_1 # location at memory"
      ],
      "metadata": {
        "colab": {
          "base_uri": "https://localhost:8080/"
        },
        "id": "RAW1f5T6psIf",
        "outputId": "7bc35559-61e9-4e22-ac8a-ec0e6d7d9903"
      },
      "id": "RAW1f5T6psIf",
      "execution_count": 308,
      "outputs": [
        {
          "output_type": "execute_result",
          "data": {
            "text/plain": [
              "<__main__.Circle at 0x7a40482526e0>"
            ]
          },
          "metadata": {},
          "execution_count": 308
        }
      ]
    },
    {
      "cell_type": "code",
      "source": [
        "circle_1.radius #acessing of attributes"
      ],
      "metadata": {
        "colab": {
          "base_uri": "https://localhost:8080/"
        },
        "id": "cSV18UrQpsFV",
        "outputId": "b69f378f-d352-4f95-982a-d66bb7099c45"
      },
      "id": "cSV18UrQpsFV",
      "execution_count": 309,
      "outputs": [
        {
          "output_type": "execute_result",
          "data": {
            "text/plain": [
              "42"
            ]
          },
          "metadata": {},
          "execution_count": 309
        }
      ]
    },
    {
      "cell_type": "code",
      "source": [
        "circle_1.calculate_area() #acessing of methods\n"
      ],
      "metadata": {
        "colab": {
          "base_uri": "https://localhost:8080/"
        },
        "id": "Pf-NSVZipr7x",
        "outputId": "cca38b9a-4138-4bb5-b6ae-f818db97a2e6"
      },
      "id": "Pf-NSVZipr7x",
      "execution_count": 310,
      "outputs": [
        {
          "output_type": "execute_result",
          "data": {
            "text/plain": [
              "5541.77"
            ]
          },
          "metadata": {},
          "execution_count": 310
        }
      ]
    },
    {
      "cell_type": "code",
      "source": [
        "#re-assign attributes\n",
        "circle_1.radius = 7\n",
        "circle_1.calculate_area()"
      ],
      "metadata": {
        "colab": {
          "base_uri": "https://localhost:8080/"
        },
        "id": "RM1zwgr0pr5D",
        "outputId": "bcffd156-66d7-4463-cb22-4dba37d8c60d"
      },
      "id": "RM1zwgr0pr5D",
      "execution_count": 311,
      "outputs": [
        {
          "output_type": "execute_result",
          "data": {
            "text/plain": [
              "153.94"
            ]
          },
          "metadata": {},
          "execution_count": 311
        }
      ]
    },
    {
      "cell_type": "markdown",
      "source": [
        "**Levels of Access Control in Python**\n",
        "\n",
        "Python provides three levels of access control:\n",
        "\n",
        "**Public Members:**\n",
        "Attributes and methods that are accessible from outside the class.\n",
        "By default, all members in a Python class are public.\n",
        "Example: `self.name`\n",
        "\n",
        "**Protected Members:**\n",
        "Attributes and methods that should not be accessed outside the class, but can be accessed in derived classes.\n",
        "Conventionally, a protected member's name begins with a single underscore (_).\n",
        "Example: `self._name`\n",
        "\n",
        "**Private Members:**\n",
        "Attributes and methods that are not accessible or visible outside the class.\n",
        "This is achieved by prefixing the member name with double underscores (__).\n",
        "\n",
        "Python \"mangles\" the name to prevent access, but it is still possible to access it using a special syntax.\n",
        "Example: `self.__name`"
      ],
      "metadata": {
        "id": "U1_ZyScfp9Xs"
      },
      "id": "U1_ZyScfp9Xs"
    },
    {
      "cell_type": "code",
      "source": [
        "class Example:\n",
        "    def __init__(self):\n",
        "        self.name = \"Public\"\n",
        "        self._protected_name = \"Protected\"\n",
        "        self.__private_name = \"Private\"\n",
        "obj = Example()\n",
        "print(obj.name)\n",
        "print(obj._protected_name)\n",
        "print(obj.__private_name)"
      ],
      "metadata": {
        "colab": {
          "base_uri": "https://localhost:8080/",
          "height": 211
        },
        "id": "NIXYrKqfpr1e",
        "outputId": "73d4df4b-6f3b-4484-8377-b0ac8835fff5"
      },
      "id": "NIXYrKqfpr1e",
      "execution_count": 312,
      "outputs": [
        {
          "output_type": "stream",
          "name": "stdout",
          "text": [
            "Public\n",
            "Protected\n"
          ]
        },
        {
          "output_type": "error",
          "ename": "AttributeError",
          "evalue": "'Example' object has no attribute '__private_name'",
          "traceback": [
            "\u001b[0;31m---------------------------------------------------------------------------\u001b[0m",
            "\u001b[0;31mAttributeError\u001b[0m                            Traceback (most recent call last)",
            "\u001b[0;32m<ipython-input-312-25542fa44f25>\u001b[0m in \u001b[0;36m<cell line: 9>\u001b[0;34m()\u001b[0m\n\u001b[1;32m      7\u001b[0m \u001b[0mprint\u001b[0m\u001b[0;34m(\u001b[0m\u001b[0mobj\u001b[0m\u001b[0;34m.\u001b[0m\u001b[0mname\u001b[0m\u001b[0;34m)\u001b[0m\u001b[0;34m\u001b[0m\u001b[0;34m\u001b[0m\u001b[0m\n\u001b[1;32m      8\u001b[0m \u001b[0mprint\u001b[0m\u001b[0;34m(\u001b[0m\u001b[0mobj\u001b[0m\u001b[0;34m.\u001b[0m\u001b[0m_protected_name\u001b[0m\u001b[0;34m)\u001b[0m\u001b[0;34m\u001b[0m\u001b[0;34m\u001b[0m\u001b[0m\n\u001b[0;32m----> 9\u001b[0;31m \u001b[0mprint\u001b[0m\u001b[0;34m(\u001b[0m\u001b[0mobj\u001b[0m\u001b[0;34m.\u001b[0m\u001b[0m__private_name\u001b[0m\u001b[0;34m)\u001b[0m\u001b[0;34m\u001b[0m\u001b[0;34m\u001b[0m\u001b[0m\n\u001b[0m",
            "\u001b[0;31mAttributeError\u001b[0m: 'Example' object has no attribute '__private_name'"
          ]
        }
      ]
    },
    {
      "cell_type": "markdown",
      "source": [
        "**Class Attributes**\n",
        "\n",
        "* Class attributes are variables that you define directly in the class body but outside of any method.\n",
        "\n",
        "* These attributes are tied to the class itself rather than to particular objects of that class.\n",
        "\n",
        "* All the objects that you create from a particular class share the same class attributes with the same original values.\n",
        "\n",
        "Because of this, if you change a class attribute, then that change affects all the derived objects."
      ],
      "metadata": {
        "id": "X7gVq98VqgRg"
      },
      "id": "X7gVq98VqgRg"
    },
    {
      "cell_type": "code",
      "source": [
        "class ObjectCounter:\n",
        "    num_instances = 0\n",
        "    def __init__(self):\n",
        "        ObjectCounter.num_instances += 1\n",
        "\n",
        "obj1 = ObjectCounter()\n",
        "ObjectCounter.num_instances"
      ],
      "metadata": {
        "colab": {
          "base_uri": "https://localhost:8080/"
        },
        "id": "FrSq1ad_qU1I",
        "outputId": "2a866621-913a-460c-9c98-20f221ce14ff"
      },
      "id": "FrSq1ad_qU1I",
      "execution_count": 313,
      "outputs": [
        {
          "output_type": "execute_result",
          "data": {
            "text/plain": [
              "1"
            ]
          },
          "metadata": {},
          "execution_count": 313
        }
      ]
    },
    {
      "cell_type": "code",
      "source": [
        "obj2 = ObjectCounter()\n",
        "ObjectCounter.num_instances"
      ],
      "metadata": {
        "colab": {
          "base_uri": "https://localhost:8080/"
        },
        "id": "IgyN5O1iqUx9",
        "outputId": "79a60478-a902-4fcb-c319-809b0b1d2f4c"
      },
      "id": "IgyN5O1iqUx9",
      "execution_count": 314,
      "outputs": [
        {
          "output_type": "execute_result",
          "data": {
            "text/plain": [
              "2"
            ]
          },
          "metadata": {},
          "execution_count": 314
        }
      ]
    },
    {
      "cell_type": "code",
      "source": [
        "obj2.num_instances # you can acess it from objects\n"
      ],
      "metadata": {
        "colab": {
          "base_uri": "https://localhost:8080/"
        },
        "id": "BCgIZMxzqUu_",
        "outputId": "05fe2867-087c-49f1-ac87-3e51ff555e4f"
      },
      "id": "BCgIZMxzqUu_",
      "execution_count": 315,
      "outputs": [
        {
          "output_type": "execute_result",
          "data": {
            "text/plain": [
              "2"
            ]
          },
          "metadata": {},
          "execution_count": 315
        }
      ]
    },
    {
      "cell_type": "code",
      "source": [
        "obj1.num_instances"
      ],
      "metadata": {
        "colab": {
          "base_uri": "https://localhost:8080/"
        },
        "id": "bDYFZeFnqyEG",
        "outputId": "1a67217c-28d3-4eaa-bea9-cb3a3db1533a"
      },
      "id": "bDYFZeFnqyEG",
      "execution_count": 316,
      "outputs": [
        {
          "output_type": "execute_result",
          "data": {
            "text/plain": [
              "2"
            ]
          },
          "metadata": {},
          "execution_count": 316
        }
      ]
    },
    {
      "cell_type": "code",
      "source": [
        "class Car:\n",
        "    def __init__(self, make, model, year, color):\n",
        "        self.make = make\n",
        "        self.model = model\n",
        "        self.year = year\n",
        "        self.color = color\n",
        "        self.started = False\n",
        "        self.speed = 0\n",
        "        self.max_speed = 200"
      ],
      "metadata": {
        "id": "fkZ3ml9XqyBQ"
      },
      "id": "fkZ3ml9XqyBQ",
      "execution_count": 317,
      "outputs": []
    },
    {
      "cell_type": "code",
      "source": [
        "toyota_camry = Car(\"Toyota\", \"Camry\", 2022, \"Red\")\n",
        "toyota_camry.make"
      ],
      "metadata": {
        "colab": {
          "base_uri": "https://localhost:8080/",
          "height": 36
        },
        "id": "s2DyFF9cpryZ",
        "outputId": "53dc58e6-5620-4755-f70a-0f824f6aef77"
      },
      "id": "s2DyFF9cpryZ",
      "execution_count": 318,
      "outputs": [
        {
          "output_type": "execute_result",
          "data": {
            "text/plain": [
              "'Toyota'"
            ],
            "application/vnd.google.colaboratory.intrinsic+json": {
              "type": "string"
            }
          },
          "metadata": {},
          "execution_count": 318
        }
      ]
    },
    {
      "cell_type": "code",
      "source": [
        "ford_mustang = Car(\"Ford\", \"Mustang\", 2022, \"Black\")\n",
        "ford_mustang.make"
      ],
      "metadata": {
        "colab": {
          "base_uri": "https://localhost:8080/",
          "height": 36
        },
        "id": "kWhPCG7aprvA",
        "outputId": "67c9e498-9b2d-48d5-d9f6-cb819e1d4cd2"
      },
      "id": "kWhPCG7aprvA",
      "execution_count": 319,
      "outputs": [
        {
          "output_type": "execute_result",
          "data": {
            "text/plain": [
              "'Ford'"
            ],
            "application/vnd.google.colaboratory.intrinsic+json": {
              "type": "string"
            }
          },
          "metadata": {},
          "execution_count": 319
        }
      ]
    },
    {
      "cell_type": "markdown",
      "source": [
        "*In a Python class, you can define three different types of methods:*\n",
        "\n",
        "**Instance methods**, which take the current instance, self, as their first argument\n",
        "\n",
        "**Class methods**, which take the current class, cls, as their first argument\n",
        "\n",
        "**Static methods**, which take neither the class nor the instance"
      ],
      "metadata": {
        "id": "YMce29i3rEhG"
      },
      "id": "YMce29i3rEhG"
    },
    {
      "cell_type": "code",
      "source": [
        "class Car:\n",
        "    def __init__(self, make, model, year, color):\n",
        "        self.make = make\n",
        "        self.model = model\n",
        "        self.year = year\n",
        "        self.color = color\n",
        "        self.started = False\n",
        "        self.speed = 0\n",
        "        self.max_speed = 200\n",
        "\n",
        "    def start(self):\n",
        "        print(\"Starting the car...\")\n",
        "        self.started = True\n",
        "\n",
        "    def stop(self):\n",
        "        print(\"Stopping the car...\")\n",
        "        self.started = False\n",
        "    def __str__(self):\n",
        "      return f\"{self.make}, {self.model}, {self.color}: ({self.year})\""
      ],
      "metadata": {
        "id": "Dx-ImqYwq8Vl"
      },
      "id": "Dx-ImqYwq8Vl",
      "execution_count": 322,
      "outputs": []
    },
    {
      "cell_type": "code",
      "source": [
        "ford_mustang = Car(\"Ford\", \"Mustang\", 2022, \"Black\")\n",
        "print(ford_mustang)"
      ],
      "metadata": {
        "colab": {
          "base_uri": "https://localhost:8080/"
        },
        "id": "2J7WA4KZq8Rw",
        "outputId": "09f6b3e7-0bd0-440d-8f66-2df90487dcac"
      },
      "id": "2J7WA4KZq8Rw",
      "execution_count": 323,
      "outputs": [
        {
          "output_type": "stream",
          "name": "stdout",
          "text": [
            "Ford, Mustang, Black: (2022)\n"
          ]
        }
      ]
    },
    {
      "cell_type": "code",
      "source": [
        "class Book:\n",
        "    # Class attribute to keep track of the number of books\n",
        "    total_books = 0\n",
        "\n",
        "    def __init__(self, title, author, pages):\n",
        "        self.title = title\n",
        "        self.author = author\n",
        "        self.pages = pages\n",
        "        Book.total_books += 1\n",
        "\n",
        "    # Instance method\n",
        "    def display_info(self):\n",
        "        return f\"'{self.title}' by {self.author}, {self.pages} pages\"\n",
        "\n",
        "    # Class method to create a Book object from a string\n",
        "    @classmethod\n",
        "    def from_string(cls, book_str):\n",
        "        title, author, pages = book_str.split(',')\n",
        "        return cls(title.strip(), author.strip(), int(pages.strip()))\n"
      ],
      "metadata": {
        "id": "8mMBEfU6rhSy"
      },
      "id": "8mMBEfU6rhSy",
      "execution_count": 324,
      "outputs": []
    },
    {
      "cell_type": "code",
      "source": [
        "# Example usage\n",
        "# Creating Book instances using the constructor\n",
        "book1 = Book(\"1984\", \"George Orwell\", 328)\n",
        "\n",
        "# Display book information\n",
        "print(book1.display_info())  # Output: '1984' by George Orwell, 328 pages\n",
        "\n",
        "# Creating a Book instance using the class method\n",
        "book_str = \"The Great Gatsby, F. Scott Fitzgerald, 180\"\n",
        "book3 = Book.from_string(book_str)\n",
        "\n",
        "# Display book information\n",
        "print(book3.display_info())"
      ],
      "metadata": {
        "colab": {
          "base_uri": "https://localhost:8080/"
        },
        "id": "_N5MDuW_q8L_",
        "outputId": "b9c26278-f6bc-4c99-939d-5b40c92ae885"
      },
      "id": "_N5MDuW_q8L_",
      "execution_count": 325,
      "outputs": [
        {
          "output_type": "stream",
          "name": "stdout",
          "text": [
            "'1984' by George Orwell, 328 pages\n",
            "'The Great Gatsby' by F. Scott Fitzgerald, 180 pages\n"
          ]
        }
      ]
    },
    {
      "cell_type": "code",
      "source": [
        "class MathOperations:\n",
        "    @staticmethod\n",
        "    def add(a, b):\n",
        "        \"\"\"Returns the sum of two numbers.\"\"\"\n",
        "        return a + b\n",
        "\n",
        "    @staticmethod\n",
        "    def subtract(a, b):\n",
        "        \"\"\"Returns the difference between two numbers.\"\"\"\n",
        "        return a - b\n",
        "\n",
        "    @staticmethod\n",
        "    def multiply(a, b):\n",
        "        \"\"\"Returns the product of two numbers.\"\"\"\n",
        "        return a * b\n",
        "\n",
        "    @staticmethod\n",
        "    def divide(a, b):\n",
        "        \"\"\"Returns the quotient of two numbers. Raises ValueError on division by zero.\"\"\"\n",
        "        if b == 0:\n",
        "            raise ValueError(\"Cannot divide by zero!\")\n",
        "        return a / b\n",
        "\n",
        "    @staticmethod\n",
        "    def is_even(number):\n",
        "        \"\"\"Returns True if the number is even, False otherwise.\"\"\"\n",
        "        return number % 2 == 0\n",
        "\n",
        "    @staticmethod\n",
        "    def is_odd(number):\n",
        "        \"\"\"Returns True if the number is odd, False otherwise.\"\"\"\n",
        "        return number % 2 != 0\n"
      ],
      "metadata": {
        "id": "a6BHpfATrsrc"
      },
      "id": "a6BHpfATrsrc",
      "execution_count": 326,
      "outputs": []
    },
    {
      "cell_type": "code",
      "source": [
        "# Example usage\n",
        "print(MathOperations.add(5, 3))         # Output: 8\n",
        "print(MathOperations.subtract(10, 4))   # Output: 6\n",
        "print(MathOperations.multiply(7, 3))    # Output: 21\n",
        "print(MathOperations.divide(15, 3))     # Output: 5.0\n",
        "print(MathOperations.is_even(10))       # Output: True\n",
        "print(MathOperations.is_odd(7))         # Output: True\n",
        "\n",
        "# Static methods can also be called on an instance of the class\n",
        "math_ops = MathOperations()\n",
        "print(math_ops.is_even(4))              # Output: True"
      ],
      "metadata": {
        "colab": {
          "base_uri": "https://localhost:8080/"
        },
        "id": "xCzfDqP7q8CU",
        "outputId": "bfbde206-17da-4c83-85df-7d45a88a7c10"
      },
      "id": "xCzfDqP7q8CU",
      "execution_count": 327,
      "outputs": [
        {
          "output_type": "stream",
          "name": "stdout",
          "text": [
            "8\n",
            "6\n",
            "21\n",
            "5.0\n",
            "True\n",
            "True\n",
            "True\n"
          ]
        }
      ]
    },
    {
      "cell_type": "markdown",
      "source": [
        "**Inheritance**\n",
        "\n",
        "* is a powerful feature of object-oriented programming.<br>\n",
        "* It consists of creating hierarchical relationships between classes, where child classes inherit attributes and methods from their parent class.<br>\n",
        "* In Python, one class can have multiple parents or, more broadly, ancestors<br>"
      ],
      "metadata": {
        "id": "0ZWmuVVlr3m8"
      },
      "id": "0ZWmuVVlr3m8"
    },
    {
      "cell_type": "code",
      "source": [
        "class Vehicle:\n",
        "    def __init__(self, make, model, year):\n",
        "        self.make = make\n",
        "        self.model = model\n",
        "        self.year = year\n",
        "        self._started = False\n",
        "\n",
        "    def start(self):\n",
        "        print(\"Starting engine...\")\n",
        "        self._started = True\n",
        "\n",
        "    def stop(self):\n",
        "        print(\"Stopping engine...\")\n",
        "        self._started = False\n"
      ],
      "metadata": {
        "id": "a2uMwXbdsJ7y"
      },
      "id": "a2uMwXbdsJ7y",
      "execution_count": 328,
      "outputs": []
    },
    {
      "cell_type": "code",
      "source": [
        "class Car(Vehicle):\n",
        "    def __init__(self, make, model, year, num_seats):\n",
        "        super().__init__(make, model, year)\n",
        "        self.num_seats = num_seats\n",
        "\n",
        "    def drive(self):\n",
        "        print(f'Driving my \"{self.make} - {self.model}\" on the road')\n",
        "\n",
        "    def __str__(self):\n",
        "        return f'\"{self.make} - {self.model}\" has {self.num_seats} seats'"
      ],
      "metadata": {
        "id": "qobNZg0prwtP"
      },
      "id": "qobNZg0prwtP",
      "execution_count": 329,
      "outputs": []
    },
    {
      "cell_type": "code",
      "source": [
        "tesla = Car(\"Tesla\", \"Model S\", 2022, 5)\n",
        "tesla.start()\n",
        "tesla.drive()\n",
        "print(tesla)"
      ],
      "metadata": {
        "colab": {
          "base_uri": "https://localhost:8080/"
        },
        "id": "mN3d_UQjrxz6",
        "outputId": "7689470f-34de-496c-9d3d-03f79948a48e"
      },
      "id": "mN3d_UQjrxz6",
      "execution_count": 330,
      "outputs": [
        {
          "output_type": "stream",
          "name": "stdout",
          "text": [
            "Starting engine...\n",
            "Driving my \"Tesla - Model S\" on the road\n",
            "\"Tesla - Model S\" has 5 seats\n"
          ]
        }
      ]
    },
    {
      "cell_type": "code",
      "source": [],
      "metadata": {
        "id": "pvyTbYJGrxwx"
      },
      "id": "pvyTbYJGrxwx",
      "execution_count": null,
      "outputs": []
    },
    {
      "cell_type": "code",
      "source": [],
      "metadata": {
        "id": "aGrGO_U_rxrl"
      },
      "id": "aGrGO_U_rxrl",
      "execution_count": null,
      "outputs": []
    }
  ],
  "metadata": {
    "kernelspec": {
      "display_name": "Python 3 (ipykernel)",
      "language": "python",
      "name": "python3"
    },
    "language_info": {
      "codemirror_mode": {
        "name": "ipython",
        "version": 3
      },
      "file_extension": ".py",
      "mimetype": "text/x-python",
      "name": "python",
      "nbconvert_exporter": "python",
      "pygments_lexer": "ipython3",
      "version": "3.11.5"
    },
    "colab": {
      "provenance": []
    }
  },
  "nbformat": 4,
  "nbformat_minor": 5
}